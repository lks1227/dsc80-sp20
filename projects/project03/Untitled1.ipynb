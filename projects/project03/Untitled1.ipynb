{
 "cells": [
  {
   "cell_type": "code",
   "execution_count": 1,
   "metadata": {},
   "outputs": [],
   "source": [
    "\n",
    "import random\n",
    "def learn_theta(data, colors) :\n",
    "    \"\"\" takes time delta(n^2)\"\"\"\n",
    "    Max = float('inf')\n",
    "    Min = -float('inf')\n",
    "    for i in range(len(colors)):\n",
    "        if colors[i]=='blue':\n",
    "            if Min< data[i]:\n",
    "                Min = data[i]\n",
    "        if colors[i]=='red':\n",
    "            if Max> data[i]:\n",
    "                Max = data[i]\n",
    "    return random.choice([Min,Max-1])\n",
    "\n",
    "\n",
    "def compute_ell(data, colors, theta):\n",
    "    count = 0\n",
    "    for i in range(len(data)):\n",
    "        if (colors[i]=='blue') and (data[i]>theta):\n",
    "            count+=1\n",
    "        if(colors[i]=='red') and (data[i]<theta):\n",
    "            count+=1\n",
    "    return count\n",
    "\n",
    "def minimize_ell(data, colors):\n",
    "    Min = min(data)\n",
    "    Max = max(data)\n",
    "    result = float('inf')\n",
    "    theta = float('inf')\n",
    "    for i in range(Min,Max):\n",
    "        if result>compute_ell(data, colors, i):\n",
    "            result = compute_ell(data, colors, i)\n",
    "            theta = i\n",
    "    return theta"
   ]
  },
  {
   "cell_type": "code",
   "execution_count": 3,
   "metadata": {},
   "outputs": [
    {
     "data": {
      "text/plain": [
       "2.14"
      ]
     },
     "execution_count": 3,
     "metadata": {},
     "output_type": "execute_result"
    }
   ],
   "source": [
    "data = [3.14, 99, -20, 0, 77.7, 2.718]\n",
    "colors = ['red', 'red', 'blue', 'blue', 'red', 'blue']\n",
    "learn_theta(data, colors)"
   ]
  },
  {
   "cell_type": "code",
   "execution_count": null,
   "metadata": {},
   "outputs": [],
   "source": []
  }
 ],
 "metadata": {
  "kernelspec": {
   "display_name": "Python 3",
   "language": "python",
   "name": "python3"
  },
  "language_info": {
   "codemirror_mode": {
    "name": "ipython",
    "version": 3
   },
   "file_extension": ".py",
   "mimetype": "text/x-python",
   "name": "python",
   "nbconvert_exporter": "python",
   "pygments_lexer": "ipython3",
   "version": "3.7.6"
  }
 },
 "nbformat": 4,
 "nbformat_minor": 4
}
