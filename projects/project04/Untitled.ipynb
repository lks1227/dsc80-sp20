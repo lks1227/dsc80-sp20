{
 "cells": [
  {
   "cell_type": "code",
   "execution_count": null,
   "metadata": {},
   "outputs": [],
   "source": [
    "import dsc40graph\n",
    "from collections import deque\n",
    "def number_of_shortest_paths(graph, source):\n",
    "    \n",
    "    total_times = {node: float('inf') for node in graph.nodes}\n",
    "    total_times[source]=1\n",
    "    def bfs_shortest_paths(graph, source):\n",
    "        status = {node: 'undiscovered' for node in graph.nodes}\n",
    "        distance = {node: float('inf') for node in graph.nodes}\n",
    "        predecessor = {node: None for node in graph.nodes}\n",
    "        status[source] = 'pending'\n",
    "        distance[source] = 0\n",
    "        pending = deque([source])\n",
    "        # while there are still pending nodes\n",
    "        while pending:\n",
    "            u = pending.popleft()\n",
    "            for v in graph.neighbors(u):\n",
    "            # explore edge (u,v)\n",
    "                if status[v] == 'undiscovered':\n",
    "                    status[v] = 'pending'\n",
    "                    distance[v] = distance[u] + 1\n",
    "                    predecessor[v] = u\n",
    "                    # append to right\n",
    "                    pending.append(v)\n",
    "                    status[u] = 'visited'\n",
    "        return predecessor, distance\n",
    "    dic1,dic2 = bfs_shortest_paths(graph, source)\n",
    "    result = {}\n",
    "    for i in dic2.keys():\n",
    "        result[i]=0\n",
    "    for i in dic2.keys():\n",
    "        steps = dic2[i]\n",
    "        lis=[source]\n",
    "        count = 0\n",
    "        for j in range(steps):\n",
    "\n",
    "            temp = []\n",
    "            for ind in range(len(lis)):\n",
    "                print([lis,1])\n",
    "                lengh = len(lis)\n",
    "                for k in graph.neighbors(lis[ind]):\n",
    "                    temp.append(k)\n",
    "                print([temp,100])\n",
    "            lis = temp\n",
    "            print(i)\n",
    "            print(lis)\n",
    "        for index in lis:\n",
    "            if index==i:\n",
    "                count+=1\n",
    "        result[i]+=count\n",
    "    return result"
   ]
  }
 ],
 "metadata": {
  "kernelspec": {
   "display_name": "Python 3",
   "language": "python",
   "name": "python3"
  },
  "language_info": {
   "codemirror_mode": {
    "name": "ipython",
    "version": 3
   },
   "file_extension": ".py",
   "mimetype": "text/x-python",
   "name": "python",
   "nbconvert_exporter": "python",
   "pygments_lexer": "ipython3",
   "version": "3.7.6"
  }
 },
 "nbformat": 4,
 "nbformat_minor": 4
}
