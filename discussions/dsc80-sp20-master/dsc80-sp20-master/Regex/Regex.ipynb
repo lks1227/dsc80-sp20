{
 "cells": [
  {
   "cell_type": "code",
   "execution_count": 1,
   "metadata": {},
   "outputs": [],
   "source": [
    "import re"
   ]
  },
  {
   "cell_type": "code",
   "execution_count": 4,
   "metadata": {},
   "outputs": [
    {
     "name": "stdout",
     "output_type": "stream",
     "text": [
      "[2, 2, 4, 567]\n"
     ]
    }
   ],
   "source": [
    "line = \"Aqua34, 2 plus 2 is 4 and not 567\"\n",
    "\n",
    "matched = re.findall(r'\\b[0-9]+\\b', line)\n",
    "\n",
    "int_list = [int(s) for s in matched]\n",
    "\n",
    "print(int_list)\n",
    "\n"
   ]
  },
  {
   "cell_type": "code",
   "execution_count": 20,
   "metadata": {},
   "outputs": [
    {
     "name": "stdout",
     "output_type": "stream",
     "text": [
      "[]\n"
     ]
    }
   ],
   "source": [
    "# Demo 1\n",
    "input_line = \"Katya is 6 years old and her mom, Marina is 25. Donald is 75 and his wife Melania, is 51.\"\n",
    "\n",
    "#r = re.findal\n",
    "\n",
    "names = re.findall('[A-Z][a-z]*', input_line)\n",
    "#ages = re.findall(r'\\d{1,3}', input)\n",
    "print(names)\n",
    "#print(ages)\n",
    "\n",
    "#d = dict(zip(names, ages))\n",
    "#print(d)"
   ]
  },
  {
   "cell_type": "code",
   "execution_count": null,
   "metadata": {},
   "outputs": [],
   "source": []
  }
 ],
 "metadata": {
  "kernelspec": {
   "display_name": "Python 3",
   "language": "python",
   "name": "python3"
  },
  "language_info": {
   "codemirror_mode": {
    "name": "ipython",
    "version": 3
   },
   "file_extension": ".py",
   "mimetype": "text/x-python",
   "name": "python",
   "nbconvert_exporter": "python",
   "pygments_lexer": "ipython3",
   "version": "3.7.4"
  }
 },
 "nbformat": 4,
 "nbformat_minor": 2
}
