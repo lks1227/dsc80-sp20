{
 "cells": [
  {
   "cell_type": "code",
   "execution_count": 1,
   "metadata": {},
   "outputs": [],
   "source": [
    "%matplotlib inline\n",
    "\n",
    "import numpy as np\n",
    "import pandas as pd\n",
    "import seaborn as sns"
   ]
  },
  {
   "cell_type": "markdown",
   "metadata": {
    "slideshow": {
     "slide_type": "slide"
    }
   },
   "source": [
    "# Unstructured Text\n",
    "\n",
    "* Lecture Credits (First half):\n",
    "    - [Berkeley: DS100](https://docs.google.com/presentation/d/1ECr_XrDJXaLK-eGwWlydLjJu-3xwpzFcV4fGMSfwKwU/edit?usp=sharing)\n",
    "    - [Princeton: COS226](http://www.cs.princeton.edu/courses/archive/spring17/cos226/lectures/54RegularExpressions.pdf)"
   ]
  },
  {
   "cell_type": "markdown",
   "metadata": {
    "slideshow": {
     "slide_type": "slide"
    }
   },
   "source": [
    "## Outline\n",
    "\n",
    "* Canonicalization\n",
    "* Regex\n",
    "* Information Extraction"
   ]
  },
  {
   "cell_type": "markdown",
   "metadata": {
    "slideshow": {
     "slide_type": "slide"
    }
   },
   "source": [
    "## Joining on text\n",
    "\n",
    "* Will these join? What are the problems?\n",
    "* How would you clean the dataframes to join them?\n",
    "<img src=\"imgs/image_0.png\">"
   ]
  },
  {
   "cell_type": "markdown",
   "metadata": {
    "slideshow": {
     "slide_type": "slide"
    }
   },
   "source": [
    "## Joining on text: cleaning the join key\n",
    "* Upper vs lower case\n",
    "* Words \"county\" and \"parish\" don't add information in these datasets\n",
    "* Take care of common variants of words\n",
    "* Take care of punctuation"
   ]
  },
  {
   "cell_type": "code",
   "execution_count": 4,
   "metadata": {},
   "outputs": [],
   "source": [
    "county_and_state = pd.read_csv(\"data/county_and_state.csv\")\n",
    "county_and_pop = pd.read_csv(\"data/county_and_pop.csv\")"
   ]
  },
  {
   "cell_type": "code",
   "execution_count": 5,
   "metadata": {},
   "outputs": [
    {
     "data": {
      "text/html": [
       "<div>\n",
       "<style scoped>\n",
       "    .dataframe tbody tr th:only-of-type {\n",
       "        vertical-align: middle;\n",
       "    }\n",
       "\n",
       "    .dataframe tbody tr th {\n",
       "        vertical-align: top;\n",
       "    }\n",
       "\n",
       "    .dataframe thead th {\n",
       "        text-align: right;\n",
       "    }\n",
       "</style>\n",
       "<table border=\"1\" class=\"dataframe\">\n",
       "  <thead>\n",
       "    <tr style=\"text-align: right;\">\n",
       "      <th></th>\n",
       "      <th>County</th>\n",
       "      <th>State</th>\n",
       "    </tr>\n",
       "  </thead>\n",
       "  <tbody>\n",
       "    <tr>\n",
       "      <th>0</th>\n",
       "      <td>De Witt County</td>\n",
       "      <td>IL</td>\n",
       "    </tr>\n",
       "    <tr>\n",
       "      <th>1</th>\n",
       "      <td>Lac qui Parle County</td>\n",
       "      <td>MN</td>\n",
       "    </tr>\n",
       "    <tr>\n",
       "      <th>2</th>\n",
       "      <td>Lewis and Clark County</td>\n",
       "      <td>MT</td>\n",
       "    </tr>\n",
       "    <tr>\n",
       "      <th>3</th>\n",
       "      <td>St John the Baptist Parish</td>\n",
       "      <td>LA</td>\n",
       "    </tr>\n",
       "  </tbody>\n",
       "</table>\n",
       "</div>"
      ],
      "text/plain": [
       "                       County  State\n",
       "0              De Witt County     IL\n",
       "1        Lac qui Parle County     MN\n",
       "2      Lewis and Clark County     MT\n",
       "3  St John the Baptist Parish     LA"
      ]
     },
     "metadata": {},
     "output_type": "display_data"
    },
    {
     "data": {
      "text/html": [
       "<div>\n",
       "<style scoped>\n",
       "    .dataframe tbody tr th:only-of-type {\n",
       "        vertical-align: middle;\n",
       "    }\n",
       "\n",
       "    .dataframe tbody tr th {\n",
       "        vertical-align: top;\n",
       "    }\n",
       "\n",
       "    .dataframe thead th {\n",
       "        text-align: right;\n",
       "    }\n",
       "</style>\n",
       "<table border=\"1\" class=\"dataframe\">\n",
       "  <thead>\n",
       "    <tr style=\"text-align: right;\">\n",
       "      <th></th>\n",
       "      <th>County</th>\n",
       "      <th>Population</th>\n",
       "    </tr>\n",
       "  </thead>\n",
       "  <tbody>\n",
       "    <tr>\n",
       "      <th>0</th>\n",
       "      <td>DeWitt</td>\n",
       "      <td>16798</td>\n",
       "    </tr>\n",
       "    <tr>\n",
       "      <th>1</th>\n",
       "      <td>Lac Qui Parle</td>\n",
       "      <td>8067</td>\n",
       "    </tr>\n",
       "    <tr>\n",
       "      <th>2</th>\n",
       "      <td>Lewis &amp; Clark</td>\n",
       "      <td>55716</td>\n",
       "    </tr>\n",
       "    <tr>\n",
       "      <th>3</th>\n",
       "      <td>St. John the Baptist</td>\n",
       "      <td>43044</td>\n",
       "    </tr>\n",
       "  </tbody>\n",
       "</table>\n",
       "</div>"
      ],
      "text/plain": [
       "                 County   Population\n",
       "0                DeWitt        16798\n",
       "1         Lac Qui Parle         8067\n",
       "2         Lewis & Clark        55716\n",
       "3  St. John the Baptist        43044"
      ]
     },
     "metadata": {},
     "output_type": "display_data"
    }
   ],
   "source": [
    "display(county_and_state)\n",
    "display(county_and_pop)"
   ]
  },
  {
   "cell_type": "code",
   "execution_count": 6,
   "metadata": {},
   "outputs": [
    {
     "data": {
      "text/html": [
       "<div>\n",
       "<style scoped>\n",
       "    .dataframe tbody tr th:only-of-type {\n",
       "        vertical-align: middle;\n",
       "    }\n",
       "\n",
       "    .dataframe tbody tr th {\n",
       "        vertical-align: top;\n",
       "    }\n",
       "\n",
       "    .dataframe thead th {\n",
       "        text-align: right;\n",
       "    }\n",
       "</style>\n",
       "<table border=\"1\" class=\"dataframe\">\n",
       "  <thead>\n",
       "    <tr style=\"text-align: right;\">\n",
       "      <th></th>\n",
       "      <th>County</th>\n",
       "      <th>State</th>\n",
       "      <th>Population</th>\n",
       "    </tr>\n",
       "  </thead>\n",
       "  <tbody>\n",
       "  </tbody>\n",
       "</table>\n",
       "</div>"
      ],
      "text/plain": [
       "Empty DataFrame\n",
       "Columns: [County,  State,  Population]\n",
       "Index: []"
      ]
     },
     "execution_count": 6,
     "metadata": {},
     "output_type": "execute_result"
    }
   ],
   "source": [
    "# Naive join\n",
    "county_and_state.merge(county_and_pop)"
   ]
  },
  {
   "cell_type": "code",
   "execution_count": 7,
   "metadata": {},
   "outputs": [],
   "source": [
    "def clean_county(county):\n",
    "    return (county\n",
    "            .lower()\n",
    "            .strip()\n",
    "            .replace(' ', '')\n",
    "            .replace('county', '')\n",
    "            .replace('parish', '')\n",
    "            .replace('&', 'and')\n",
    "            .replace('.', ''))"
   ]
  },
  {
   "cell_type": "code",
   "execution_count": 8,
   "metadata": {},
   "outputs": [
    {
     "data": {
      "text/html": [
       "<div>\n",
       "<style scoped>\n",
       "    .dataframe tbody tr th:only-of-type {\n",
       "        vertical-align: middle;\n",
       "    }\n",
       "\n",
       "    .dataframe tbody tr th {\n",
       "        vertical-align: top;\n",
       "    }\n",
       "\n",
       "    .dataframe thead th {\n",
       "        text-align: right;\n",
       "    }\n",
       "</style>\n",
       "<table border=\"1\" class=\"dataframe\">\n",
       "  <thead>\n",
       "    <tr style=\"text-align: right;\">\n",
       "      <th></th>\n",
       "      <th>County</th>\n",
       "      <th>Population</th>\n",
       "    </tr>\n",
       "  </thead>\n",
       "  <tbody>\n",
       "    <tr>\n",
       "      <th>0</th>\n",
       "      <td>dewitt</td>\n",
       "      <td>16798</td>\n",
       "    </tr>\n",
       "    <tr>\n",
       "      <th>1</th>\n",
       "      <td>lacquiparle</td>\n",
       "      <td>8067</td>\n",
       "    </tr>\n",
       "    <tr>\n",
       "      <th>2</th>\n",
       "      <td>lewisandclark</td>\n",
       "      <td>55716</td>\n",
       "    </tr>\n",
       "    <tr>\n",
       "      <th>3</th>\n",
       "      <td>stjohnthebaptist</td>\n",
       "      <td>43044</td>\n",
       "    </tr>\n",
       "  </tbody>\n",
       "</table>\n",
       "</div>"
      ],
      "text/plain": [
       "             County   Population\n",
       "0            dewitt        16798\n",
       "1       lacquiparle         8067\n",
       "2     lewisandclark        55716\n",
       "3  stjohnthebaptist        43044"
      ]
     },
     "execution_count": 8,
     "metadata": {},
     "output_type": "execute_result"
    }
   ],
   "source": [
    "county_and_pop['County'] = county_and_pop['County'].apply(clean_county)\n",
    "county_and_pop"
   ]
  },
  {
   "cell_type": "code",
   "execution_count": 9,
   "metadata": {},
   "outputs": [
    {
     "data": {
      "text/html": [
       "<div>\n",
       "<style scoped>\n",
       "    .dataframe tbody tr th:only-of-type {\n",
       "        vertical-align: middle;\n",
       "    }\n",
       "\n",
       "    .dataframe tbody tr th {\n",
       "        vertical-align: top;\n",
       "    }\n",
       "\n",
       "    .dataframe thead th {\n",
       "        text-align: right;\n",
       "    }\n",
       "</style>\n",
       "<table border=\"1\" class=\"dataframe\">\n",
       "  <thead>\n",
       "    <tr style=\"text-align: right;\">\n",
       "      <th></th>\n",
       "      <th>County</th>\n",
       "      <th>State</th>\n",
       "    </tr>\n",
       "  </thead>\n",
       "  <tbody>\n",
       "    <tr>\n",
       "      <th>0</th>\n",
       "      <td>dewitt</td>\n",
       "      <td>IL</td>\n",
       "    </tr>\n",
       "    <tr>\n",
       "      <th>1</th>\n",
       "      <td>lacquiparle</td>\n",
       "      <td>MN</td>\n",
       "    </tr>\n",
       "    <tr>\n",
       "      <th>2</th>\n",
       "      <td>lewisandclark</td>\n",
       "      <td>MT</td>\n",
       "    </tr>\n",
       "    <tr>\n",
       "      <th>3</th>\n",
       "      <td>stjohnthebaptist</td>\n",
       "      <td>LA</td>\n",
       "    </tr>\n",
       "  </tbody>\n",
       "</table>\n",
       "</div>"
      ],
      "text/plain": [
       "             County  State\n",
       "0            dewitt     IL\n",
       "1       lacquiparle     MN\n",
       "2     lewisandclark     MT\n",
       "3  stjohnthebaptist     LA"
      ]
     },
     "execution_count": 9,
     "metadata": {},
     "output_type": "execute_result"
    }
   ],
   "source": [
    "county_and_state['County'] = county_and_state['County'].apply(clean_county).to_frame()\n",
    "county_and_state"
   ]
  },
  {
   "cell_type": "code",
   "execution_count": 10,
   "metadata": {},
   "outputs": [
    {
     "data": {
      "text/html": [
       "<div>\n",
       "<style scoped>\n",
       "    .dataframe tbody tr th:only-of-type {\n",
       "        vertical-align: middle;\n",
       "    }\n",
       "\n",
       "    .dataframe tbody tr th {\n",
       "        vertical-align: top;\n",
       "    }\n",
       "\n",
       "    .dataframe thead th {\n",
       "        text-align: right;\n",
       "    }\n",
       "</style>\n",
       "<table border=\"1\" class=\"dataframe\">\n",
       "  <thead>\n",
       "    <tr style=\"text-align: right;\">\n",
       "      <th></th>\n",
       "      <th>County</th>\n",
       "      <th>State</th>\n",
       "      <th>Population</th>\n",
       "    </tr>\n",
       "  </thead>\n",
       "  <tbody>\n",
       "    <tr>\n",
       "      <th>0</th>\n",
       "      <td>dewitt</td>\n",
       "      <td>IL</td>\n",
       "      <td>16798</td>\n",
       "    </tr>\n",
       "    <tr>\n",
       "      <th>1</th>\n",
       "      <td>lacquiparle</td>\n",
       "      <td>MN</td>\n",
       "      <td>8067</td>\n",
       "    </tr>\n",
       "    <tr>\n",
       "      <th>2</th>\n",
       "      <td>lewisandclark</td>\n",
       "      <td>MT</td>\n",
       "      <td>55716</td>\n",
       "    </tr>\n",
       "    <tr>\n",
       "      <th>3</th>\n",
       "      <td>stjohnthebaptist</td>\n",
       "      <td>LA</td>\n",
       "      <td>43044</td>\n",
       "    </tr>\n",
       "  </tbody>\n",
       "</table>\n",
       "</div>"
      ],
      "text/plain": [
       "             County  State   Population\n",
       "0            dewitt     IL        16798\n",
       "1       lacquiparle     MN         8067\n",
       "2     lewisandclark     MT        55716\n",
       "3  stjohnthebaptist     LA        43044"
      ]
     },
     "execution_count": 10,
     "metadata": {},
     "output_type": "execute_result"
    }
   ],
   "source": [
    "county_and_state.merge(county_and_pop)"
   ]
  },
  {
   "cell_type": "markdown",
   "metadata": {
    "slideshow": {
     "slide_type": "slide"
    }
   },
   "source": [
    "## Canonicalization\n",
    "* Create a sequence of steps that transforms both columns into a single form.\n",
    "\n",
    "<img src=\"imgs/image_1.png\">"
   ]
  },
  {
   "cell_type": "markdown",
   "metadata": {
    "slideshow": {
     "slide_type": "slide"
    }
   },
   "source": [
    "## Canonicalization\n",
    "\n",
    "Replace each string with a unique representation.\n",
    "- Used string methods\n",
    "- Very brittle procedure; may only work for X% of the data.\n",
    "- Hard to verify correctness.\n",
    "- Also *parse* data using a data model if given the choice!"
   ]
  },
  {
   "cell_type": "markdown",
   "metadata": {
    "slideshow": {
     "slide_type": "slide"
    }
   },
   "source": [
    "### Question: limitations of string methods \n",
    "\n",
    "* Suppose we want to extract the date and time from the following string:\n",
    "```\n",
    "170.242.51.168 - - [14/Mar/2018:12:09:20 -0800] \"GET /my/home/ HTTP/1.1\" 200 2585\n",
    "```\n",
    "* How would you do this?"
   ]
  },
  {
   "cell_type": "markdown",
   "metadata": {
    "slideshow": {
     "slide_type": "slide"
    }
   },
   "source": [
    "### Limitations of string methods \n",
    "\n",
    "```\n",
    "170.242.51.168 - - [14/Mar/2018:12:09:20 -0800] \"GET /my/home/ HTTP/1.1\" 200 2585\n",
    "```\n",
    "Steps:\n",
    "1. Get string between `[` and `]`\n",
    "2. Parse date as day/month/year:hour:min:sec without the timezone\n",
    "    - in `strftime` format: `%d/%b/%y:%H:%M:%S`\n",
    "    \n",
    "What could go wrong with this technique?"
   ]
  },
  {
   "cell_type": "code",
   "execution_count": 11,
   "metadata": {},
   "outputs": [
    {
     "data": {
      "text/plain": [
       "'14/Mar/2018:12:09:20'"
      ]
     },
     "execution_count": 11,
     "metadata": {},
     "output_type": "execute_result"
    }
   ],
   "source": [
    "s = '''170.242.51.168 - - [14/Mar/2018:12:09:20 -0800] \"GET /my/home/ HTTP/1.1\" 200 2585'''\n",
    "\n",
    "dt = s[s.find('[') + 1:s.find(']') - 6]\n",
    "dt"
   ]
  },
  {
   "cell_type": "code",
   "execution_count": 12,
   "metadata": {},
   "outputs": [
    {
     "data": {
      "text/plain": [
       "['14', 'Mar', '2018:12:09:20']"
      ]
     },
     "execution_count": 12,
     "metadata": {},
     "output_type": "execute_result"
    }
   ],
   "source": [
    "dt.split('/')"
   ]
  },
  {
   "cell_type": "code",
   "execution_count": 13,
   "metadata": {},
   "outputs": [],
   "source": [
    "day, month, year_time = dt.split('/')"
   ]
  },
  {
   "cell_type": "code",
   "execution_count": 14,
   "metadata": {},
   "outputs": [
    {
     "data": {
      "text/plain": [
       "'2018:12:09:20'"
      ]
     },
     "execution_count": 14,
     "metadata": {},
     "output_type": "execute_result"
    }
   ],
   "source": [
    "year_time"
   ]
  },
  {
   "cell_type": "code",
   "execution_count": 15,
   "metadata": {},
   "outputs": [],
   "source": [
    "year, hour, minute, second =  year_time.split(':')"
   ]
  },
  {
   "cell_type": "code",
   "execution_count": 16,
   "metadata": {},
   "outputs": [
    {
     "data": {
      "text/plain": [
       "('2018', 'Mar', '14', '09', '20')"
      ]
     },
     "execution_count": 16,
     "metadata": {},
     "output_type": "execute_result"
    }
   ],
   "source": [
    "year, month, day, minute, second"
   ]
  },
  {
   "cell_type": "code",
   "execution_count": 17,
   "metadata": {},
   "outputs": [
    {
     "data": {
      "text/plain": [
       "'14/Mar/2018:12:09:20'"
      ]
     },
     "execution_count": 17,
     "metadata": {},
     "output_type": "execute_result"
    }
   ],
   "source": [
    "dt"
   ]
  },
  {
   "cell_type": "code",
   "execution_count": 18,
   "metadata": {},
   "outputs": [
    {
     "ename": "ParserError",
     "evalue": "Unknown string format: 14/Mar/2018:12:09:20",
     "output_type": "error",
     "traceback": [
      "\u001b[1;31m---------------------------------------------------------------------------\u001b[0m",
      "\u001b[1;31mTypeError\u001b[0m                                 Traceback (most recent call last)",
      "\u001b[1;32m~\\anaconda3\\lib\\site-packages\\pandas\\core\\arrays\\datetimes.py\u001b[0m in \u001b[0;36mobjects_to_datetime64ns\u001b[1;34m(data, dayfirst, yearfirst, utc, errors, require_iso8601, allow_object)\u001b[0m\n\u001b[0;32m   1855\u001b[0m         \u001b[1;32mtry\u001b[0m\u001b[1;33m:\u001b[0m\u001b[1;33m\u001b[0m\u001b[1;33m\u001b[0m\u001b[0m\n\u001b[1;32m-> 1856\u001b[1;33m             \u001b[0mvalues\u001b[0m\u001b[1;33m,\u001b[0m \u001b[0mtz_parsed\u001b[0m \u001b[1;33m=\u001b[0m \u001b[0mconversion\u001b[0m\u001b[1;33m.\u001b[0m\u001b[0mdatetime_to_datetime64\u001b[0m\u001b[1;33m(\u001b[0m\u001b[0mdata\u001b[0m\u001b[1;33m)\u001b[0m\u001b[1;33m\u001b[0m\u001b[1;33m\u001b[0m\u001b[0m\n\u001b[0m\u001b[0;32m   1857\u001b[0m             \u001b[1;31m# If tzaware, these values represent unix timestamps, so we\u001b[0m\u001b[1;33m\u001b[0m\u001b[1;33m\u001b[0m\u001b[1;33m\u001b[0m\u001b[0m\n",
      "\u001b[1;32mpandas\\_libs\\tslibs\\conversion.pyx\u001b[0m in \u001b[0;36mpandas._libs.tslibs.conversion.datetime_to_datetime64\u001b[1;34m()\u001b[0m\n",
      "\u001b[1;31mTypeError\u001b[0m: Unrecognized value type: <class 'str'>",
      "\nDuring handling of the above exception, another exception occurred:\n",
      "\u001b[1;31mParserError\u001b[0m                               Traceback (most recent call last)",
      "\u001b[1;32m<ipython-input-18-9deb5b7c82ab>\u001b[0m in \u001b[0;36m<module>\u001b[1;34m\u001b[0m\n\u001b[1;32m----> 1\u001b[1;33m \u001b[0mpd\u001b[0m\u001b[1;33m.\u001b[0m\u001b[0mto_datetime\u001b[0m\u001b[1;33m(\u001b[0m\u001b[0mdt\u001b[0m\u001b[1;33m)\u001b[0m\u001b[1;33m\u001b[0m\u001b[1;33m\u001b[0m\u001b[0m\n\u001b[0m",
      "\u001b[1;32m~\\anaconda3\\lib\\site-packages\\pandas\\core\\tools\\datetimes.py\u001b[0m in \u001b[0;36mto_datetime\u001b[1;34m(arg, errors, dayfirst, yearfirst, utc, format, exact, unit, infer_datetime_format, origin, cache)\u001b[0m\n\u001b[0;32m    754\u001b[0m             \u001b[0mresult\u001b[0m \u001b[1;33m=\u001b[0m \u001b[0mconvert_listlike\u001b[0m\u001b[1;33m(\u001b[0m\u001b[0marg\u001b[0m\u001b[1;33m,\u001b[0m \u001b[0mformat\u001b[0m\u001b[1;33m)\u001b[0m\u001b[1;33m\u001b[0m\u001b[1;33m\u001b[0m\u001b[0m\n\u001b[0;32m    755\u001b[0m     \u001b[1;32melse\u001b[0m\u001b[1;33m:\u001b[0m\u001b[1;33m\u001b[0m\u001b[1;33m\u001b[0m\u001b[0m\n\u001b[1;32m--> 756\u001b[1;33m         \u001b[0mresult\u001b[0m \u001b[1;33m=\u001b[0m \u001b[0mconvert_listlike\u001b[0m\u001b[1;33m(\u001b[0m\u001b[0mnp\u001b[0m\u001b[1;33m.\u001b[0m\u001b[0marray\u001b[0m\u001b[1;33m(\u001b[0m\u001b[1;33m[\u001b[0m\u001b[0marg\u001b[0m\u001b[1;33m]\u001b[0m\u001b[1;33m)\u001b[0m\u001b[1;33m,\u001b[0m \u001b[0mformat\u001b[0m\u001b[1;33m)\u001b[0m\u001b[1;33m[\u001b[0m\u001b[1;36m0\u001b[0m\u001b[1;33m]\u001b[0m\u001b[1;33m\u001b[0m\u001b[1;33m\u001b[0m\u001b[0m\n\u001b[0m\u001b[0;32m    757\u001b[0m \u001b[1;33m\u001b[0m\u001b[0m\n\u001b[0;32m    758\u001b[0m     \u001b[1;32mreturn\u001b[0m \u001b[0mresult\u001b[0m\u001b[1;33m\u001b[0m\u001b[1;33m\u001b[0m\u001b[0m\n",
      "\u001b[1;32m~\\anaconda3\\lib\\site-packages\\pandas\\core\\tools\\datetimes.py\u001b[0m in \u001b[0;36m_convert_listlike_datetimes\u001b[1;34m(arg, format, name, tz, unit, errors, infer_datetime_format, dayfirst, yearfirst, exact)\u001b[0m\n\u001b[0;32m    445\u001b[0m             \u001b[0merrors\u001b[0m\u001b[1;33m=\u001b[0m\u001b[0merrors\u001b[0m\u001b[1;33m,\u001b[0m\u001b[1;33m\u001b[0m\u001b[1;33m\u001b[0m\u001b[0m\n\u001b[0;32m    446\u001b[0m             \u001b[0mrequire_iso8601\u001b[0m\u001b[1;33m=\u001b[0m\u001b[0mrequire_iso8601\u001b[0m\u001b[1;33m,\u001b[0m\u001b[1;33m\u001b[0m\u001b[1;33m\u001b[0m\u001b[0m\n\u001b[1;32m--> 447\u001b[1;33m             \u001b[0mallow_object\u001b[0m\u001b[1;33m=\u001b[0m\u001b[1;32mTrue\u001b[0m\u001b[1;33m,\u001b[0m\u001b[1;33m\u001b[0m\u001b[1;33m\u001b[0m\u001b[0m\n\u001b[0m\u001b[0;32m    448\u001b[0m         )\n\u001b[0;32m    449\u001b[0m \u001b[1;33m\u001b[0m\u001b[0m\n",
      "\u001b[1;32m~\\anaconda3\\lib\\site-packages\\pandas\\core\\arrays\\datetimes.py\u001b[0m in \u001b[0;36mobjects_to_datetime64ns\u001b[1;34m(data, dayfirst, yearfirst, utc, errors, require_iso8601, allow_object)\u001b[0m\n\u001b[0;32m   1859\u001b[0m             \u001b[1;32mreturn\u001b[0m \u001b[0mvalues\u001b[0m\u001b[1;33m.\u001b[0m\u001b[0mview\u001b[0m\u001b[1;33m(\u001b[0m\u001b[1;34m\"i8\"\u001b[0m\u001b[1;33m)\u001b[0m\u001b[1;33m,\u001b[0m \u001b[0mtz_parsed\u001b[0m\u001b[1;33m\u001b[0m\u001b[1;33m\u001b[0m\u001b[0m\n\u001b[0;32m   1860\u001b[0m         \u001b[1;32mexcept\u001b[0m \u001b[1;33m(\u001b[0m\u001b[0mValueError\u001b[0m\u001b[1;33m,\u001b[0m \u001b[0mTypeError\u001b[0m\u001b[1;33m)\u001b[0m\u001b[1;33m:\u001b[0m\u001b[1;33m\u001b[0m\u001b[1;33m\u001b[0m\u001b[0m\n\u001b[1;32m-> 1861\u001b[1;33m             \u001b[1;32mraise\u001b[0m \u001b[0me\u001b[0m\u001b[1;33m\u001b[0m\u001b[1;33m\u001b[0m\u001b[0m\n\u001b[0m\u001b[0;32m   1862\u001b[0m \u001b[1;33m\u001b[0m\u001b[0m\n\u001b[0;32m   1863\u001b[0m     \u001b[1;32mif\u001b[0m \u001b[0mtz_parsed\u001b[0m \u001b[1;32mis\u001b[0m \u001b[1;32mnot\u001b[0m \u001b[1;32mNone\u001b[0m\u001b[1;33m:\u001b[0m\u001b[1;33m\u001b[0m\u001b[1;33m\u001b[0m\u001b[0m\n",
      "\u001b[1;32m~\\anaconda3\\lib\\site-packages\\pandas\\core\\arrays\\datetimes.py\u001b[0m in \u001b[0;36mobjects_to_datetime64ns\u001b[1;34m(data, dayfirst, yearfirst, utc, errors, require_iso8601, allow_object)\u001b[0m\n\u001b[0;32m   1850\u001b[0m             \u001b[0mdayfirst\u001b[0m\u001b[1;33m=\u001b[0m\u001b[0mdayfirst\u001b[0m\u001b[1;33m,\u001b[0m\u001b[1;33m\u001b[0m\u001b[1;33m\u001b[0m\u001b[0m\n\u001b[0;32m   1851\u001b[0m             \u001b[0myearfirst\u001b[0m\u001b[1;33m=\u001b[0m\u001b[0myearfirst\u001b[0m\u001b[1;33m,\u001b[0m\u001b[1;33m\u001b[0m\u001b[1;33m\u001b[0m\u001b[0m\n\u001b[1;32m-> 1852\u001b[1;33m             \u001b[0mrequire_iso8601\u001b[0m\u001b[1;33m=\u001b[0m\u001b[0mrequire_iso8601\u001b[0m\u001b[1;33m,\u001b[0m\u001b[1;33m\u001b[0m\u001b[1;33m\u001b[0m\u001b[0m\n\u001b[0m\u001b[0;32m   1853\u001b[0m         )\n\u001b[0;32m   1854\u001b[0m     \u001b[1;32mexcept\u001b[0m \u001b[0mValueError\u001b[0m \u001b[1;32mas\u001b[0m \u001b[0me\u001b[0m\u001b[1;33m:\u001b[0m\u001b[1;33m\u001b[0m\u001b[1;33m\u001b[0m\u001b[0m\n",
      "\u001b[1;32mpandas\\_libs\\tslib.pyx\u001b[0m in \u001b[0;36mpandas._libs.tslib.array_to_datetime\u001b[1;34m()\u001b[0m\n",
      "\u001b[1;32mpandas\\_libs\\tslib.pyx\u001b[0m in \u001b[0;36mpandas._libs.tslib.array_to_datetime\u001b[1;34m()\u001b[0m\n",
      "\u001b[1;32mpandas\\_libs\\tslib.pyx\u001b[0m in \u001b[0;36mpandas._libs.tslib.array_to_datetime_object\u001b[1;34m()\u001b[0m\n",
      "\u001b[1;32mpandas\\_libs\\tslib.pyx\u001b[0m in \u001b[0;36mpandas._libs.tslib.array_to_datetime_object\u001b[1;34m()\u001b[0m\n",
      "\u001b[1;32mpandas\\_libs\\tslibs\\parsing.pyx\u001b[0m in \u001b[0;36mpandas._libs.tslibs.parsing.parse_datetime_string\u001b[1;34m()\u001b[0m\n",
      "\u001b[1;32m~\\anaconda3\\lib\\site-packages\\dateutil\\parser\\_parser.py\u001b[0m in \u001b[0;36mparse\u001b[1;34m(timestr, parserinfo, **kwargs)\u001b[0m\n\u001b[0;32m   1372\u001b[0m         \u001b[1;32mreturn\u001b[0m \u001b[0mparser\u001b[0m\u001b[1;33m(\u001b[0m\u001b[0mparserinfo\u001b[0m\u001b[1;33m)\u001b[0m\u001b[1;33m.\u001b[0m\u001b[0mparse\u001b[0m\u001b[1;33m(\u001b[0m\u001b[0mtimestr\u001b[0m\u001b[1;33m,\u001b[0m \u001b[1;33m**\u001b[0m\u001b[0mkwargs\u001b[0m\u001b[1;33m)\u001b[0m\u001b[1;33m\u001b[0m\u001b[1;33m\u001b[0m\u001b[0m\n\u001b[0;32m   1373\u001b[0m     \u001b[1;32melse\u001b[0m\u001b[1;33m:\u001b[0m\u001b[1;33m\u001b[0m\u001b[1;33m\u001b[0m\u001b[0m\n\u001b[1;32m-> 1374\u001b[1;33m         \u001b[1;32mreturn\u001b[0m \u001b[0mDEFAULTPARSER\u001b[0m\u001b[1;33m.\u001b[0m\u001b[0mparse\u001b[0m\u001b[1;33m(\u001b[0m\u001b[0mtimestr\u001b[0m\u001b[1;33m,\u001b[0m \u001b[1;33m**\u001b[0m\u001b[0mkwargs\u001b[0m\u001b[1;33m)\u001b[0m\u001b[1;33m\u001b[0m\u001b[1;33m\u001b[0m\u001b[0m\n\u001b[0m\u001b[0;32m   1375\u001b[0m \u001b[1;33m\u001b[0m\u001b[0m\n\u001b[0;32m   1376\u001b[0m \u001b[1;33m\u001b[0m\u001b[0m\n",
      "\u001b[1;32m~\\anaconda3\\lib\\site-packages\\dateutil\\parser\\_parser.py\u001b[0m in \u001b[0;36mparse\u001b[1;34m(self, timestr, default, ignoretz, tzinfos, **kwargs)\u001b[0m\n\u001b[0;32m    647\u001b[0m \u001b[1;33m\u001b[0m\u001b[0m\n\u001b[0;32m    648\u001b[0m         \u001b[1;32mif\u001b[0m \u001b[0mres\u001b[0m \u001b[1;32mis\u001b[0m \u001b[1;32mNone\u001b[0m\u001b[1;33m:\u001b[0m\u001b[1;33m\u001b[0m\u001b[1;33m\u001b[0m\u001b[0m\n\u001b[1;32m--> 649\u001b[1;33m             \u001b[1;32mraise\u001b[0m \u001b[0mParserError\u001b[0m\u001b[1;33m(\u001b[0m\u001b[1;34m\"Unknown string format: %s\"\u001b[0m\u001b[1;33m,\u001b[0m \u001b[0mtimestr\u001b[0m\u001b[1;33m)\u001b[0m\u001b[1;33m\u001b[0m\u001b[1;33m\u001b[0m\u001b[0m\n\u001b[0m\u001b[0;32m    650\u001b[0m \u001b[1;33m\u001b[0m\u001b[0m\n\u001b[0;32m    651\u001b[0m         \u001b[1;32mif\u001b[0m \u001b[0mlen\u001b[0m\u001b[1;33m(\u001b[0m\u001b[0mres\u001b[0m\u001b[1;33m)\u001b[0m \u001b[1;33m==\u001b[0m \u001b[1;36m0\u001b[0m\u001b[1;33m:\u001b[0m\u001b[1;33m\u001b[0m\u001b[1;33m\u001b[0m\u001b[0m\n",
      "\u001b[1;31mParserError\u001b[0m: Unknown string format: 14/Mar/2018:12:09:20"
     ]
    }
   ],
   "source": [
    "pd.to_datetime(dt)"
   ]
  },
  {
   "cell_type": "code",
   "execution_count": 19,
   "metadata": {},
   "outputs": [
    {
     "data": {
      "text/plain": [
       "Timestamp('2018-03-14 12:09:20')"
      ]
     },
     "execution_count": 19,
     "metadata": {},
     "output_type": "execute_result"
    }
   ],
   "source": [
    "# better: if date format changes, will throw a descriptive error! (good!)\n",
    "pd.to_datetime(dt, format='%d/%b/%Y:%H:%M:%S')\n",
    "\n",
    "# https://strftime.org/"
   ]
  },
  {
   "cell_type": "markdown",
   "metadata": {
    "slideshow": {
     "slide_type": "slide"
    }
   },
   "source": [
    "## Regular Expressions (`regexp`)\n",
    "\n",
    "* Fast, compact way of matching patterns in text\n",
    "* Python library: `import re`\n",
    "* Advantages: powerful; capable of matching very complex patterns.\n",
    "* Disadvantages: \n",
    "    - It's still text processing, so brittle and likely to break.\n",
    "    - Hard to understand: \"write-only\" language."
   ]
  },
  {
   "cell_type": "markdown",
   "metadata": {
    "slideshow": {
     "slide_type": "slide"
    }
   },
   "source": [
    "## Regular expression solution to log parsing\n",
    "* Regex pattern uses the same logic as log parsing"
   ]
  },
  {
   "cell_type": "code",
   "execution_count": 38,
   "metadata": {},
   "outputs": [
    {
     "data": {
      "text/plain": [
       "'170.242.51.168 - - [14/Mar/2018:12:09:20 -0800] \"GET /my/home/ HTTP/1.1\" 200 2585'"
      ]
     },
     "execution_count": 38,
     "metadata": {},
     "output_type": "execute_result"
    }
   ],
   "source": [
    "s"
   ]
  },
  {
   "cell_type": "code",
   "execution_count": 39,
   "metadata": {},
   "outputs": [
    {
     "data": {
      "text/plain": [
       "[('14', 'Mar', '2018', '12', '09', '20')]"
      ]
     },
     "execution_count": 39,
     "metadata": {},
     "output_type": "execute_result"
    }
   ],
   "source": [
    "import re\n",
    "pat = '\\[(.+)\\/(.+)\\/(.+):(.+):(.+):(.+) .+\\]'\n",
    "re.findall(pat, s)"
   ]
  },
  {
   "cell_type": "markdown",
   "metadata": {
    "slideshow": {
     "slide_type": "slide"
    }
   },
   "source": [
    "## Regular Expressions: the more specific, the better!\n",
    "* Be as specific in your pattern matching as possible\n",
    "    - Easier to validate the extracted text\n",
    "    - Easier for error handling (understanding what went wrong).\n",
    "    \n",
    "* A better date extraction pattern uses:\n",
    "```\n",
    "'\\[([0-9]{2}\\/[A-Z]{1}[a-z]{2}\\/[0-9]{4}:[0-9]{2}:[0-9]{2}:[0-9]{2} -[0-9]{4})\\]'\n",
    "```"
   ]
  },
  {
   "cell_type": "code",
   "execution_count": 22,
   "metadata": {},
   "outputs": [
    {
     "data": {
      "text/plain": [
       "'170.242.51.168 - - [14/Mar/2018:12:09:20 -0800] \"GET /my/home/ HTTP/1.1\" 200 2585'"
      ]
     },
     "execution_count": 22,
     "metadata": {},
     "output_type": "execute_result"
    }
   ],
   "source": [
    "s = '170.242.51.168 - - [14/Mar/2018:12:09:20 -0800] \"GET /my/home/ HTTP/1.1\" 200 2585'\n",
    "s"
   ]
  },
  {
   "cell_type": "code",
   "execution_count": 23,
   "metadata": {},
   "outputs": [
    {
     "data": {
      "text/plain": [
       "['14/Mar/2018:12:09:20 -0800']"
      ]
     },
     "execution_count": 23,
     "metadata": {},
     "output_type": "execute_result"
    }
   ],
   "source": [
    "pat1 = '\\[(.+\\/.+\\/.+:.+:.+:.+ .+)\\]'\n",
    "re.findall(pat1, s)"
   ]
  },
  {
   "cell_type": "code",
   "execution_count": 24,
   "metadata": {},
   "outputs": [
    {
     "data": {
      "text/plain": [
       "['14/Mar/2018:12:09:20 -0800']"
      ]
     },
     "execution_count": 24,
     "metadata": {},
     "output_type": "execute_result"
    }
   ],
   "source": [
    "pat2 = '\\[([0-9]{2}\\/[A-Z]{1}[a-z]{2}\\/[0-9]{4}:[0-9]{2}:[0-9]{2}:[0-9]{2} -[0-9]{4})\\]'\n",
    "re.findall(pat2, s)"
   ]
  },
  {
   "cell_type": "markdown",
   "metadata": {
    "slideshow": {
     "slide_type": "slide"
    }
   },
   "source": [
    "## Regexp Expressions\n",
    "* Parsing the expression:\n",
    "```\n",
    "'\\[([0-9]{2}\\/[A-Z]{1}[a-z]{2}\\/[0-9]{4}:[0-9]{2}:[0-9]{2}:[0-9]{2} -[0-9]{4})\\]'\n",
    "```\n",
    "\n",
    "* `[0-9]{2}` matches any 2-digit number.\n",
    "* `[A-Z]{1}` matches any single occurrence of any upper-case letter.\n",
    "* `[a-z]{2}` matches any 2 consecutive occurrences of lower-case letters.\n",
    "* Certain special characters (`[`, `]`, `/`) need to be escaped with `\\`"
   ]
  },
  {
   "cell_type": "code",
   "execution_count": 25,
   "metadata": {},
   "outputs": [],
   "source": [
    "# Why is pattern 2 better?\n",
    "t = '[adr/jduy/wffsdffs:r4s4:4wsgdfd:asdf 7]'"
   ]
  },
  {
   "cell_type": "code",
   "execution_count": 26,
   "metadata": {},
   "outputs": [
    {
     "data": {
      "text/plain": [
       "'[adr/jduy/wffsdffs:r4s4:4wsgdfd:asdf 7]'"
      ]
     },
     "execution_count": 26,
     "metadata": {},
     "output_type": "execute_result"
    }
   ],
   "source": [
    "t"
   ]
  },
  {
   "cell_type": "code",
   "execution_count": 27,
   "metadata": {},
   "outputs": [
    {
     "data": {
      "text/plain": [
       "[('adr', 'jduy', 'wffsdffs', 'r4s4', '4wsgdfd', 'asdf')]"
      ]
     },
     "execution_count": 27,
     "metadata": {},
     "output_type": "execute_result"
    }
   ],
   "source": [
    "re.findall(pat, t)"
   ]
  },
  {
   "cell_type": "code",
   "execution_count": 28,
   "metadata": {},
   "outputs": [
    {
     "data": {
      "text/plain": [
       "[]"
      ]
     },
     "execution_count": 28,
     "metadata": {},
     "output_type": "execute_result"
    }
   ],
   "source": [
    "# Easy to check if something mis-parsed: empty list!\n",
    "re.findall(pat2, t)"
   ]
  },
  {
   "cell_type": "markdown",
   "metadata": {
    "slideshow": {
     "slide_type": "slide"
    }
   },
   "source": [
    "## Regular Expressions: Applications\n",
    "\n",
    "* Source Code: IDE syntax highlighting\n",
    "* Google Code Search\n",
    "* Scanning for viruses\n",
    "* Validating text for data-entry"
   ]
  },
  {
   "cell_type": "markdown",
   "metadata": {
    "slideshow": {
     "slide_type": "slide"
    }
   },
   "source": [
    "## You may already know regular expressions\n",
    "* Google supports wildcard search `*` and union `|`\n",
    "![google](imgs/regex_google.png)"
   ]
  },
  {
   "cell_type": "markdown",
   "metadata": {
    "slideshow": {
     "slide_type": "slide"
    }
   },
   "source": [
    "### Regular Expression Syntax\n",
    "\n",
    "* The four 'building blocks' for all regular expressions:\n",
    "    - \"order\" specifies \"order of operations\"\n",
    "\n",
    "<img src=\"imgs/image_2.png\">"
   ]
  },
  {
   "cell_type": "code",
   "execution_count": 29,
   "metadata": {},
   "outputs": [
    {
     "data": {
      "text/plain": [
       "<re.Match object; span=(0, 3), match='ABA'>"
      ]
     },
     "execution_count": 29,
     "metadata": {},
     "output_type": "execute_result"
    }
   ],
   "source": [
    "re.search('ABA', 'ABAAAAAA')"
   ]
  },
  {
   "cell_type": "code",
   "execution_count": 30,
   "metadata": {},
   "outputs": [
    {
     "data": {
      "text/plain": [
       "<re.Match object; span=(4, 7), match='ABA'>"
      ]
     },
     "execution_count": 30,
     "metadata": {},
     "output_type": "execute_result"
    }
   ],
   "source": [
    "re.search('ABA', 'AAAAABAAAAAA')"
   ]
  },
  {
   "cell_type": "code",
   "execution_count": 31,
   "metadata": {},
   "outputs": [
    {
     "data": {
      "text/plain": [
       "<re.Match object; span=(0, 8), match='ABBBBBBA'>"
      ]
     },
     "execution_count": 31,
     "metadata": {},
     "output_type": "execute_result"
    }
   ],
   "source": [
    "# examples of each\n",
    "re.search('AB*A', 'ABBBBBBA')"
   ]
  },
  {
   "cell_type": "code",
   "execution_count": 32,
   "metadata": {},
   "outputs": [
    {
     "data": {
      "text/plain": [
       "<re.Match object; span=(0, 3), match='ABA'>"
      ]
     },
     "execution_count": 32,
     "metadata": {},
     "output_type": "execute_result"
    }
   ],
   "source": [
    "re.search('AB*A', 'ABA')"
   ]
  },
  {
   "cell_type": "code",
   "execution_count": 33,
   "metadata": {
    "scrolled": true
   },
   "outputs": [
    {
     "data": {
      "text/plain": [
       "<re.Match object; span=(0, 2), match='AA'>"
      ]
     },
     "execution_count": 33,
     "metadata": {},
     "output_type": "execute_result"
    }
   ],
   "source": [
    "re.search('AB*A', 'AA')"
   ]
  },
  {
   "cell_type": "code",
   "execution_count": 34,
   "metadata": {},
   "outputs": [],
   "source": [
    "re.search('AB*A', 'AB')"
   ]
  },
  {
   "cell_type": "code",
   "execution_count": null,
   "metadata": {},
   "outputs": [],
   "source": []
  },
  {
   "cell_type": "code",
   "execution_count": null,
   "metadata": {},
   "outputs": [],
   "source": []
  },
  {
   "cell_type": "markdown",
   "metadata": {
    "slideshow": {
     "slide_type": "slide"
    }
   },
   "source": [
    "### Discussion\n",
    "\n",
    "1. Give a regular expression that matches \"moon\", \"moooon\", etc. \n",
    "    - Should match any **even** positive number of 'o'.\n",
    "2. Give a regex that matches muun, muuuun, moon, moooon, etc. \n",
    "    - Should match any **even** positive number of 'u' and 'o'.\n",
    "\n",
    "<img src=\"imgs/image_3.png\">"
   ]
  },
  {
   "cell_type": "code",
   "execution_count": 35,
   "metadata": {},
   "outputs": [
    {
     "data": {
      "text/plain": [
       "<re.Match object; span=(0, 6), match='moooon'>"
      ]
     },
     "execution_count": 35,
     "metadata": {},
     "output_type": "execute_result"
    }
   ],
   "source": [
    "re.search('moo(oo)*n|', 'moooon')"
   ]
  },
  {
   "cell_type": "code",
   "execution_count": 36,
   "metadata": {},
   "outputs": [
    {
     "data": {
      "text/plain": [
       "<re.Match object; span=(0, 0), match=''>"
      ]
     },
     "execution_count": 36,
     "metadata": {},
     "output_type": "execute_result"
    }
   ],
   "source": [
    "re.search('', 'muun')"
   ]
  },
  {
   "cell_type": "markdown",
   "metadata": {
    "slideshow": {
     "slide_type": "slide"
    }
   },
   "source": [
    "### Expanded Regexp Syntax\n",
    "\n",
    "* The following operations offer convenience for expressive matching.\n",
    "\n",
    "<img src=\"imgs/image_4.png\">\n",
    "\n",
    "* Ex. `[A-E]+` is just shorthand for `(A|B|C|D|E)(A|B|C|D|E)*`\n"
   ]
  },
  {
   "cell_type": "markdown",
   "metadata": {
    "slideshow": {
     "slide_type": "slide"
    }
   },
   "source": [
    "### More Regular Expression Examples\n",
    "\n",
    "\n",
    "<img src=\"imgs/image_5.png\">"
   ]
  },
  {
   "cell_type": "markdown",
   "metadata": {
    "slideshow": {
     "slide_type": "skip"
    }
   },
   "source": [
    "### Discussion Question\n",
    "\n",
    "* Give a regular expression for any lowercase string that has a repeated vowel (i.e. noon, peel, festoon, looop, etc).\n",
    "* Give a regular expression for any string that contains both a lowercase letter and a number, in any order. (marina20, 20marina, ma20rina etc).\n",
    "\n",
    "<img src=\"imgs/image_6.png\">"
   ]
  },
  {
   "cell_type": "code",
   "execution_count": 37,
   "metadata": {},
   "outputs": [
    {
     "data": {
      "text/plain": [
       "<re.Match object; span=(0, 5), match='looop'>"
      ]
     },
     "execution_count": 37,
     "metadata": {},
     "output_type": "execute_result"
    }
   ],
   "source": [
    "re.search('.*(aa|oo|ee|uu|ii)+.*', 'looop')"
   ]
  },
  {
   "cell_type": "code",
   "execution_count": null,
   "metadata": {},
   "outputs": [],
   "source": [
    "re.search('.*[a-z][0-9]+.*|.*[0-9]+[a-z].*', 'sdf78sdf')"
   ]
  },
  {
   "cell_type": "markdown",
   "metadata": {
    "slideshow": {
     "slide_type": "slide"
    }
   },
   "source": [
    "### Even More Regular Expressions\n",
    "\n",
    "<img src=\"imgs/image_7.png\">\n",
    "\n",
    "* Anchors (`^` and `$`) will be useful on HW).\n",
    "* Non-greedy qualifier is useful, but won't be used in class."
   ]
  },
  {
   "cell_type": "code",
   "execution_count": null,
   "metadata": {},
   "outputs": [],
   "source": [
    "re.search('a', \"Marina\")"
   ]
  },
  {
   "cell_type": "markdown",
   "metadata": {
    "slideshow": {
     "slide_type": "slide"
    }
   },
   "source": [
    "## Limitations of Regular Expressions\n",
    "\n",
    "Writing regular expressions is like writing a program.\n",
    "* Need to know the syntax well.\n",
    "* Can be easier to write than to read.\n",
    "* Can be difficult to debug.\n",
    "\n",
    "Regular expressions terrible at certain types of problems. Examples:\n",
    "* Anything involving counting (same number of instances of a and b).\n",
    "* Anything involving complex structure (palindromes).\n",
    "* Parsing highly complex text structure."
   ]
  },
  {
   "cell_type": "markdown",
   "metadata": {
    "slideshow": {
     "slide_type": "slide"
    }
   },
   "source": [
    "### Email address validation using regexp\n",
    "\n",
    "<img src=\"imgs/image_8.png\">"
   ]
  },
  {
   "cell_type": "markdown",
   "metadata": {
    "slideshow": {
     "slide_type": "slide"
    }
   },
   "source": [
    "### Regexp for data validation\n",
    "* See [postmortem](http://stackstatus.net/post/147710624694/outage-postmortem-july-20-2016)\n",
    "![so_regexp](imgs/so_regexp.png)"
   ]
  },
  {
   "cell_type": "markdown",
   "metadata": {
    "slideshow": {
     "slide_type": "slide"
    }
   },
   "source": [
    "### More regexp syntax\n",
    "\n",
    "For more regexp info, see:\n",
    "* [DS100 Textbook](https://www.textbook.ds100.org/ch/08/text_regex.html)\n",
    "* [Python Documentation](https://docs.python.org/3/library/re.html)\n",
    "\n",
    "<img src=\"imgs/image_9.png\">"
   ]
  },
  {
   "cell_type": "markdown",
   "metadata": {
    "slideshow": {
     "slide_type": "slide"
    }
   },
   "source": [
    "## Python `re` library functions\n",
    "* `re.search`:\n",
    "    - `m = re.search(r, s); m.groups`\n",
    "* `re.findall`\n",
    "* `re.sub`\n",
    "\n",
    "Also in Pandas: `Series.str.sub`, `Series.str.extract`, `Series.str.contains`."
   ]
  },
  {
   "cell_type": "markdown",
   "metadata": {
    "slideshow": {
     "slide_type": "slide"
    }
   },
   "source": [
    "## Regexp Groups (Briefly)\n",
    "* Use `(` regex `)` to *extract* text from a string."
   ]
  },
  {
   "cell_type": "code",
   "execution_count": 2,
   "metadata": {},
   "outputs": [
    {
     "ename": "NameError",
     "evalue": "name 's' is not defined",
     "output_type": "error",
     "traceback": [
      "\u001b[1;31m---------------------------------------------------------------------------\u001b[0m",
      "\u001b[1;31mNameError\u001b[0m                                 Traceback (most recent call last)",
      "\u001b[1;32m<ipython-input-2-ded5ba42480f>\u001b[0m in \u001b[0;36m<module>\u001b[1;34m\u001b[0m\n\u001b[1;32m----> 1\u001b[1;33m \u001b[0ms\u001b[0m\u001b[1;33m\u001b[0m\u001b[1;33m\u001b[0m\u001b[0m\n\u001b[0m",
      "\u001b[1;31mNameError\u001b[0m: name 's' is not defined"
     ]
    }
   ],
   "source": [
    "s"
   ]
  },
  {
   "cell_type": "code",
   "execution_count": 1,
   "metadata": {},
   "outputs": [],
   "source": [
    "ip_pattern = '([0-9]{3}\\.[0-9]{3}\\.[0-9]{2}\\.[0-9]{3})'\n",
    "dt_pattern = '\\[(.*)\\]'"
   ]
  },
  {
   "cell_type": "code",
   "execution_count": null,
   "metadata": {},
   "outputs": [],
   "source": [
    "re.findall(ip_pattern, s)"
   ]
  },
  {
   "cell_type": "code",
   "execution_count": null,
   "metadata": {},
   "outputs": [],
   "source": [
    "re.findall(dt_pattern, s)"
   ]
  },
  {
   "cell_type": "code",
   "execution_count": null,
   "metadata": {},
   "outputs": [],
   "source": [
    "pat = '%s|%s' %(ip_pattern, dt_pattern)\n",
    "pat"
   ]
  },
  {
   "cell_type": "code",
   "execution_count": null,
   "metadata": {},
   "outputs": [],
   "source": [
    "# now have *two* possible group matches!\n",
    "re.findall(pat, s)"
   ]
  },
  {
   "cell_type": "markdown",
   "metadata": {
    "slideshow": {
     "slide_type": "slide"
    }
   },
   "source": [
    "### Example: San Diego City Employee Salaries\n",
    "* Recall Lecture 01: Do men and women make similar salaries?\n",
    "* Follow-up question: Do men and women make similar salaries among those with similar jobs?\n",
    "    - How to determine \"similar jobs?\""
   ]
  },
  {
   "cell_type": "code",
   "execution_count": 18,
   "metadata": {},
   "outputs": [],
   "source": [
    "salaries = pd.read_csv('https://transcal.s3.amazonaws.com/public/export/san-diego-2017.csv')\n",
    "jobtitles = salaries['Job Title']"
   ]
  },
  {
   "cell_type": "code",
   "execution_count": 19,
   "metadata": {},
   "outputs": [
    {
     "data": {
      "text/plain": [
       "Police Officer                   1977\n",
       "Fire Fighter 2                    285\n",
       "Rec Leader 1                      285\n",
       "Grounds Maint Wrkr 2              270\n",
       "Asst Eng-Civil                    238\n",
       "                                 ... \n",
       "Wstwtr Operations Supv             25\n",
       "Plant Procs Cntrl Electrician      25\n",
       "Cement Finisher                    24\n",
       "Public Works Supv                  24\n",
       "Student Intern                     24\n",
       "Name: Job Title, Length: 100, dtype: int64"
      ]
     },
     "execution_count": 19,
     "metadata": {},
     "output_type": "execute_result"
    }
   ],
   "source": [
    "jobtitles.value_counts().iloc[:100]"
   ]
  },
  {
   "cell_type": "code",
   "execution_count": 20,
   "metadata": {},
   "outputs": [
    {
     "data": {
      "text/plain": [
       "(12493, 669)"
      ]
     },
     "execution_count": 20,
     "metadata": {},
     "output_type": "execute_result"
    }
   ],
   "source": [
    "jobtitles.shape[0], jobtitles.nunique()"
   ]
  },
  {
   "cell_type": "code",
   "execution_count": 21,
   "metadata": {},
   "outputs": [
    {
     "data": {
      "text/plain": [
       "<matplotlib.axes._subplots.AxesSubplot at 0x1fd67bcdc48>"
      ]
     },
     "execution_count": 21,
     "metadata": {},
     "output_type": "execute_result"
    },
    {
     "data": {
      "image/png": "[encoded data removed]",
      "text/plain": [
       "<Figure size 432x288 with 1 Axes>"
      ]
     },
     "metadata": {
      "needs_background": "light"
     },
     "output_type": "display_data"
    }
   ],
   "source": [
    "# plot empirical distribution\n",
    "\n",
    "jobtitles.value_counts().iloc[:100].plot(kind='bar')\n"
   ]
  },
  {
   "cell_type": "markdown",
   "metadata": {
    "slideshow": {
     "slide_type": "slide"
    }
   },
   "source": [
    "### Cleaning job titles: assessment\n",
    "* Can we canonicalize job titles?\n",
    "* Are they self-consistent?\n",
    "    - Punctuation? Capitalization? Abbreviations?"
   ]
  },
  {
   "cell_type": "code",
   "execution_count": 22,
   "metadata": {},
   "outputs": [
    {
     "data": {
      "text/plain": [
       "11539                   Rec Leader 1\n",
       "5315                  Asoc Eng-Civil\n",
       "6844           Personnel Assistant 2\n",
       "10232                    Lifeguard 1\n",
       "2788                  Police Officer\n",
       "4136                  Asoc Eng-Civil\n",
       "2324                  Police Officer\n",
       "5925                  Asst Eng-Civil\n",
       "4031     Traffic Signal Technician 1\n",
       "2753               Public Works Supv\n",
       "Name: Job Title, dtype: object"
      ]
     },
     "execution_count": 22,
     "metadata": {},
     "output_type": "execute_result"
    }
   ],
   "source": [
    "# run / rerun\n",
    "jobtitles.sample(10)"
   ]
  },
  {
   "cell_type": "markdown",
   "metadata": {
    "slideshow": {
     "slide_type": "slide"
    }
   },
   "source": [
    "### Cleaning job titles: step 1\n",
    "* Is every first letter capitalized?\n",
    "* What punctuation exists? should it be cleaned?"
   ]
  },
  {
   "cell_type": "code",
   "execution_count": 23,
   "metadata": {},
   "outputs": [
    {
     "data": {
      "text/plain": [
       "186            Principal Asst to City Atty\n",
       "885                 Asst to the Fire Chief\n",
       "1993                  Asst to the Director\n",
       "3084               Conf Secretary to Mayor\n",
       "3378     Conf Secretary to Chief Oper Ofcr\n",
       "3439           Asst to the Chief Oper Ofcr\n",
       "4241           Conf Secretary to City Atty\n",
       "4773           Asst to the Chief Oper Ofcr\n",
       "4937                  Asst to the Director\n",
       "6396        Conf Secretary to Police Chief\n",
       "7841                  Asst to the Director\n",
       "10446          Asst for Community Outreach\n",
       "11384              Conf Secretary to Mayor\n",
       "12398                 Asst to the Director\n",
       "Name: Job Title, dtype: object"
      ]
     },
     "execution_count": 23,
     "metadata": {},
     "output_type": "execute_result"
    }
   ],
   "source": [
    "# Capitalization\n",
    "jobtitles[(\n",
    "    jobtitles.str.contains(' [a-z]+ ') | \n",
    "    jobtitles.apply(lambda x:x[0].islower())\n",
    ")]"
   ]
  },
  {
   "cell_type": "code",
   "execution_count": 24,
   "metadata": {},
   "outputs": [
    {
     "data": {
      "text/plain": [
       "95          Deputy City Atty - Unrep\n",
       "154       Park & Recreation Director\n",
       "159            Asst Fire Marshal/Civ\n",
       "176    Fire Captain(Emer Mgmt Coord)\n",
       "184               Fire Engineer-Mast\n",
       "218         Deputy City Atty - Unrep\n",
       "240                Fire Captain-Mast\n",
       "322      Procurement Spec (Terminal)\n",
       "374                Fire Captain-Mast\n",
       "422              Asoc Eng-Electrical\n",
       "447            Asst Fire Marshal/Civ\n",
       "481                Fire Captain-Mast\n",
       "501               Fire Engineer-Mast\n",
       "562          Cust Info & Billing Mgr\n",
       "664         Deputy City Atty - Unrep\n",
       "Name: Job Title, dtype: object"
      ]
     },
     "execution_count": 24,
     "metadata": {},
     "output_type": "execute_result"
    }
   ],
   "source": [
    "# punctuation: replace with space?\n",
    "jobtitles[jobtitles.str.contains('[^A-Za-z0-9 ]')].head(15)"
   ]
  },
  {
   "cell_type": "markdown",
   "metadata": {
    "slideshow": {
     "slide_type": "slide"
    }
   },
   "source": [
    "### Cleaning job titles: step 1\n",
    "* Remove: to, the, for\n",
    "* Replace: non-alphanumeric with space\n",
    "* Replace multiple spaces with one space"
   ]
  },
  {
   "cell_type": "code",
   "execution_count": 25,
   "metadata": {},
   "outputs": [],
   "source": [
    "jobtitles = (\n",
    "    jobtitles\n",
    "    .str.replace(' to| the| for', '')  # include the spaces! (why?)\n",
    "    .str.replace(\"[^A-Za-z0-9' ]\", ' ')\n",
    "    .str.replace(\"'\", '')\n",
    "    .str.replace(' +', ' ')\n",
    ")"
   ]
  },
  {
   "cell_type": "code",
   "execution_count": 26,
   "metadata": {},
   "outputs": [
    {
     "data": {
      "text/plain": [
       "8058      Grounds Maint Wrkr 2\n",
       "7493     Irrigation Specialist\n",
       "11823             Fire Recruit\n",
       "10535             Library Aide\n",
       "7884        Heavy Truck Drvr 2\n",
       "9012      Grounds Maint Wrkr 2\n",
       "859        Program Coordinator\n",
       "9486          Utility Worker 1\n",
       "8460         Public Info Clerk\n",
       "7065            Rec Cntr Dir 3\n",
       "Name: Job Title, dtype: object"
      ]
     },
     "execution_count": 26,
     "metadata": {},
     "output_type": "execute_result"
    }
   ],
   "source": [
    "jobtitles.sample(10)"
   ]
  },
  {
   "cell_type": "markdown",
   "metadata": {
    "slideshow": {
     "slide_type": "slide"
    }
   },
   "source": [
    "### Cleaning job titles: abbreviations \n",
    "\n",
    "* Which job titles are inconsistently described?\n",
    "    - Librarian? Engineer? Director?"
   ]
  },
  {
   "cell_type": "code",
   "execution_count": 27,
   "metadata": {},
   "outputs": [
    {
     "data": {
      "text/plain": [
       "Library Aide              232\n",
       "Library Clerk             158\n",
       "Library Assistant         102\n",
       "Librarian 2                76\n",
       "Librarian 3                30\n",
       "Librarian 4                28\n",
       "Library Technician          8\n",
       "Librarian 1                 7\n",
       "Supv Librarian              5\n",
       "Deputy Library Dir          2\n",
       "Sr Library Tech             1\n",
       "Librarian 3 Law Librn       1\n",
       "City Librarian              1\n",
       "Name: Job Title, dtype: int64"
      ]
     },
     "execution_count": 27,
     "metadata": {},
     "output_type": "execute_result"
    }
   ],
   "source": [
    "jobtitles[jobtitles.str.contains('Libr')].value_counts()"
   ]
  },
  {
   "cell_type": "code",
   "execution_count": 28,
   "metadata": {},
   "outputs": [
    {
     "data": {
      "text/plain": [
       "Asst Eng Civil                              238\n",
       "Asoc Eng Civil                              198\n",
       "Fire Engineer                               197\n",
       "Principal Engrng Aide                        82\n",
       "Jr Engineer Civil                            69\n",
       "Sr Civil Engineer                            57\n",
       "Asst Eng Traffic                             34\n",
       "Asoc Eng Traffic                             29\n",
       "Student Engineer                             25\n",
       "Structural Engrng Asoc                       16\n",
       "Sr Traffic Engineer                          15\n",
       "Sr Engineering Aide                          12\n",
       "Asoc Eng Electrical                          12\n",
       "Structural Engrng Sr                          9\n",
       "Asoc Eng Mechanical                           8\n",
       "Asst Eng Electrical                           8\n",
       "Asst Eng Civil Cntrct Spec                    8\n",
       "Asoc Eng Civil Sr Cntrct Spec                 7\n",
       "Structural Engrng Asst                        6\n",
       "Asoc Commctns Eng                             4\n",
       "Asoc Eng Civil Asoc Eng Geol                  3\n",
       "Sr Civil Engineer Princ Cntrc Spec            3\n",
       "Fire Engineer Mast                            3\n",
       "Sr Mechanical Engineer                        3\n",
       "Sr Engineering Geologist                      2\n",
       "Asoc Eng Corrosion                            2\n",
       "Jr Engineering Aide                           2\n",
       "Principal Traffic Engrng Aide                 2\n",
       "Sr Engineer Fire Protection                   2\n",
       "Prin Corrosion Engineering Aide               2\n",
       "Sr Commctns Engineer                          2\n",
       "Asst Eng Corrosion                            1\n",
       "Asst Eng Mechanical Motve Equip Eng           1\n",
       "Jr Engineer Civil Student                     1\n",
       "Sr Electrical Engineer                        1\n",
       "Asst Eng Mechanical                           1\n",
       "Sr Electrical Engineer Sr Cntrl Sys Eng       1\n",
       "Name: Job Title, dtype: int64"
      ]
     },
     "execution_count": 28,
     "metadata": {},
     "output_type": "execute_result"
    }
   ],
   "source": [
    "jobtitles[jobtitles.str.contains('Eng')].value_counts()"
   ]
  },
  {
   "cell_type": "code",
   "execution_count": 29,
   "metadata": {},
   "outputs": [
    {
     "data": {
      "text/plain": [
       "Deputy Director                    71\n",
       "Asst Rec Ctr Dir                   49\n",
       "Rec Cntr Dir 3                     33\n",
       "Asst Deputy Director               16\n",
       "Rec Cntr Dir 2                     14\n",
       "Department Director                11\n",
       "Executive Director                 10\n",
       "Rec Cntr Dir 1                     10\n",
       "Asst Department Director            8\n",
       "Asst Director                       4\n",
       "Public Utilities Director           2\n",
       "Deputy Pers Director                2\n",
       "Deputy Library Dir                  2\n",
       "Park Recreation Director            1\n",
       "Asst Environmental Services Dir     1\n",
       "Deputy Planning Director            1\n",
       "Development Services Dir            1\n",
       "Asst Metro Wstwtr Dir               1\n",
       "Planning Director                   1\n",
       "Risk Management Director            1\n",
       "Asst Planning Director              1\n",
       "Personnel Director                  1\n",
       "Environmental Services Dir          1\n",
       "Real Estate Assets Dir              1\n",
       "Asst Pers Director                  1\n",
       "Name: Job Title, dtype: int64"
      ]
     },
     "execution_count": 29,
     "metadata": {},
     "output_type": "execute_result"
    }
   ],
   "source": [
    "jobtitles[jobtitles.str.contains('Dir')].value_counts()"
   ]
  },
  {
   "cell_type": "markdown",
   "metadata": {
    "slideshow": {
     "slide_type": "slide"
    }
   },
   "source": [
    "### The limits of canonicalization\n",
    "* How do we find which common words to map a job title to?\n",
    "    - E.g. pattern matching on 'Eng' or 'Libr'\n",
    "* What about other titles? (there are too many!)\n",
    "* Adjectives vs Nouns have different meanings\n",
    "    - Junior/Senior/Director vs Police/Fire/Engineer"
   ]
  },
  {
   "cell_type": "markdown",
   "metadata": {
    "slideshow": {
     "slide_type": "slide"
    }
   },
   "source": [
    "### The limits of canonicalization\n",
    "\n",
    "Naive procedure: \n",
    "1. Compute most common words\n",
    "2. Select \"relevant\" words using domain expertise\n",
    "3. Check if a given word is contained in a given job title."
   ]
  },
  {
   "cell_type": "code",
   "execution_count": 30,
   "metadata": {},
   "outputs": [
    {
     "data": {
      "text/plain": [
       "2          2278\n",
       "Police     2160\n",
       "Officer    2001\n",
       "1          1555\n",
       "Fire       1017\n",
       "Asst        751\n",
       "Aide        615\n",
       "Civil       584\n",
       "Eng         559\n",
       "Sr          531\n",
       "dtype: int64"
      ]
     },
     "execution_count": 30,
     "metadata": {},
     "output_type": "execute_result"
    }
   ],
   "source": [
    "# compute counts of all words (together)\n",
    "bow = jobtitles.str.split().sum()\n",
    "words = pd.Series(bow).value_counts()\n",
    "words.head(10)"
   ]
  },
  {
   "cell_type": "code",
   "execution_count": 31,
   "metadata": {},
   "outputs": [
    {
     "data": {
      "text/plain": [
       "464"
      ]
     },
     "execution_count": 31,
     "metadata": {},
     "output_type": "execute_result"
    }
   ],
   "source": [
    "len(words)"
   ]
  },
  {
   "cell_type": "code",
   "execution_count": 32,
   "metadata": {},
   "outputs": [],
   "source": [
    "# is a given word in a job-title? count number of occurances of each\n",
    "jobtypes = pd.DataFrame([], index=salaries.index)\n",
    "for word in words.index:\n",
    "    re_pat = '\\\\b{word}\\\\b'.format(word=word)\n",
    "    jobtypes[word] = jobtitles.str.count(re_pat).astype(int)"
   ]
  },
  {
   "cell_type": "code",
   "execution_count": 33,
   "metadata": {},
   "outputs": [
    {
     "data": {
      "text/html": [
       "<div>\n",
       "<style scoped>\n",
       "    .dataframe tbody tr th:only-of-type {\n",
       "        vertical-align: middle;\n",
       "    }\n",
       "\n",
       "    .dataframe tbody tr th {\n",
       "        vertical-align: top;\n",
       "    }\n",
       "\n",
       "    .dataframe thead th {\n",
       "        text-align: right;\n",
       "    }\n",
       "</style>\n",
       "<table border=\"1\" class=\"dataframe\">\n",
       "  <thead>\n",
       "    <tr style=\"text-align: right;\">\n",
       "      <th></th>\n",
       "      <th>2</th>\n",
       "      <th>Police</th>\n",
       "      <th>Officer</th>\n",
       "      <th>1</th>\n",
       "      <th>Fire</th>\n",
       "      <th>Asst</th>\n",
       "      <th>Aide</th>\n",
       "      <th>Civil</th>\n",
       "      <th>Eng</th>\n",
       "      <th>Sr</th>\n",
       "      <th>...</th>\n",
       "      <th>Fewd</th>\n",
       "      <th>Motve</th>\n",
       "      <th>Comptroller</th>\n",
       "      <th>Technical</th>\n",
       "      <th>Invstgtns</th>\n",
       "      <th>Documents</th>\n",
       "      <th>Env</th>\n",
       "      <th>Stores</th>\n",
       "      <th>Employment</th>\n",
       "      <th>Roofing</th>\n",
       "    </tr>\n",
       "  </thead>\n",
       "  <tbody>\n",
       "    <tr>\n",
       "      <th>0</th>\n",
       "      <td>0</td>\n",
       "      <td>0</td>\n",
       "      <td>0</td>\n",
       "      <td>0</td>\n",
       "      <td>1</td>\n",
       "      <td>0</td>\n",
       "      <td>0</td>\n",
       "      <td>0</td>\n",
       "      <td>0</td>\n",
       "      <td>0</td>\n",
       "      <td>...</td>\n",
       "      <td>0</td>\n",
       "      <td>0</td>\n",
       "      <td>0</td>\n",
       "      <td>0</td>\n",
       "      <td>0</td>\n",
       "      <td>0</td>\n",
       "      <td>0</td>\n",
       "      <td>0</td>\n",
       "      <td>0</td>\n",
       "      <td>0</td>\n",
       "    </tr>\n",
       "    <tr>\n",
       "      <th>1</th>\n",
       "      <td>0</td>\n",
       "      <td>0</td>\n",
       "      <td>0</td>\n",
       "      <td>0</td>\n",
       "      <td>1</td>\n",
       "      <td>0</td>\n",
       "      <td>0</td>\n",
       "      <td>0</td>\n",
       "      <td>0</td>\n",
       "      <td>0</td>\n",
       "      <td>...</td>\n",
       "      <td>0</td>\n",
       "      <td>0</td>\n",
       "      <td>0</td>\n",
       "      <td>0</td>\n",
       "      <td>0</td>\n",
       "      <td>0</td>\n",
       "      <td>0</td>\n",
       "      <td>0</td>\n",
       "      <td>0</td>\n",
       "      <td>0</td>\n",
       "    </tr>\n",
       "    <tr>\n",
       "      <th>2</th>\n",
       "      <td>0</td>\n",
       "      <td>0</td>\n",
       "      <td>1</td>\n",
       "      <td>0</td>\n",
       "      <td>0</td>\n",
       "      <td>0</td>\n",
       "      <td>0</td>\n",
       "      <td>0</td>\n",
       "      <td>0</td>\n",
       "      <td>0</td>\n",
       "      <td>...</td>\n",
       "      <td>0</td>\n",
       "      <td>0</td>\n",
       "      <td>0</td>\n",
       "      <td>0</td>\n",
       "      <td>0</td>\n",
       "      <td>0</td>\n",
       "      <td>0</td>\n",
       "      <td>0</td>\n",
       "      <td>0</td>\n",
       "      <td>0</td>\n",
       "    </tr>\n",
       "    <tr>\n",
       "      <th>3</th>\n",
       "      <td>0</td>\n",
       "      <td>0</td>\n",
       "      <td>0</td>\n",
       "      <td>0</td>\n",
       "      <td>1</td>\n",
       "      <td>0</td>\n",
       "      <td>0</td>\n",
       "      <td>0</td>\n",
       "      <td>0</td>\n",
       "      <td>0</td>\n",
       "      <td>...</td>\n",
       "      <td>0</td>\n",
       "      <td>0</td>\n",
       "      <td>0</td>\n",
       "      <td>0</td>\n",
       "      <td>0</td>\n",
       "      <td>0</td>\n",
       "      <td>0</td>\n",
       "      <td>0</td>\n",
       "      <td>0</td>\n",
       "      <td>0</td>\n",
       "    </tr>\n",
       "    <tr>\n",
       "      <th>4</th>\n",
       "      <td>0</td>\n",
       "      <td>0</td>\n",
       "      <td>0</td>\n",
       "      <td>0</td>\n",
       "      <td>1</td>\n",
       "      <td>0</td>\n",
       "      <td>0</td>\n",
       "      <td>0</td>\n",
       "      <td>0</td>\n",
       "      <td>0</td>\n",
       "      <td>...</td>\n",
       "      <td>0</td>\n",
       "      <td>0</td>\n",
       "      <td>0</td>\n",
       "      <td>0</td>\n",
       "      <td>0</td>\n",
       "      <td>0</td>\n",
       "      <td>0</td>\n",
       "      <td>0</td>\n",
       "      <td>0</td>\n",
       "      <td>0</td>\n",
       "    </tr>\n",
       "    <tr>\n",
       "      <th>5</th>\n",
       "      <td>0</td>\n",
       "      <td>0</td>\n",
       "      <td>0</td>\n",
       "      <td>0</td>\n",
       "      <td>1</td>\n",
       "      <td>0</td>\n",
       "      <td>0</td>\n",
       "      <td>0</td>\n",
       "      <td>0</td>\n",
       "      <td>0</td>\n",
       "      <td>...</td>\n",
       "      <td>0</td>\n",
       "      <td>0</td>\n",
       "      <td>0</td>\n",
       "      <td>0</td>\n",
       "      <td>0</td>\n",
       "      <td>0</td>\n",
       "      <td>0</td>\n",
       "      <td>0</td>\n",
       "      <td>0</td>\n",
       "      <td>0</td>\n",
       "    </tr>\n",
       "    <tr>\n",
       "      <th>6</th>\n",
       "      <td>0</td>\n",
       "      <td>0</td>\n",
       "      <td>0</td>\n",
       "      <td>0</td>\n",
       "      <td>1</td>\n",
       "      <td>0</td>\n",
       "      <td>0</td>\n",
       "      <td>0</td>\n",
       "      <td>0</td>\n",
       "      <td>0</td>\n",
       "      <td>...</td>\n",
       "      <td>0</td>\n",
       "      <td>0</td>\n",
       "      <td>0</td>\n",
       "      <td>0</td>\n",
       "      <td>0</td>\n",
       "      <td>0</td>\n",
       "      <td>0</td>\n",
       "      <td>0</td>\n",
       "      <td>0</td>\n",
       "      <td>0</td>\n",
       "    </tr>\n",
       "    <tr>\n",
       "      <th>7</th>\n",
       "      <td>0</td>\n",
       "      <td>0</td>\n",
       "      <td>0</td>\n",
       "      <td>0</td>\n",
       "      <td>0</td>\n",
       "      <td>0</td>\n",
       "      <td>0</td>\n",
       "      <td>0</td>\n",
       "      <td>0</td>\n",
       "      <td>0</td>\n",
       "      <td>...</td>\n",
       "      <td>0</td>\n",
       "      <td>0</td>\n",
       "      <td>0</td>\n",
       "      <td>0</td>\n",
       "      <td>0</td>\n",
       "      <td>0</td>\n",
       "      <td>0</td>\n",
       "      <td>0</td>\n",
       "      <td>0</td>\n",
       "      <td>0</td>\n",
       "    </tr>\n",
       "    <tr>\n",
       "      <th>8</th>\n",
       "      <td>0</td>\n",
       "      <td>0</td>\n",
       "      <td>0</td>\n",
       "      <td>0</td>\n",
       "      <td>1</td>\n",
       "      <td>0</td>\n",
       "      <td>0</td>\n",
       "      <td>0</td>\n",
       "      <td>0</td>\n",
       "      <td>0</td>\n",
       "      <td>...</td>\n",
       "      <td>0</td>\n",
       "      <td>0</td>\n",
       "      <td>0</td>\n",
       "      <td>0</td>\n",
       "      <td>0</td>\n",
       "      <td>0</td>\n",
       "      <td>0</td>\n",
       "      <td>0</td>\n",
       "      <td>0</td>\n",
       "      <td>0</td>\n",
       "    </tr>\n",
       "    <tr>\n",
       "      <th>9</th>\n",
       "      <td>0</td>\n",
       "      <td>0</td>\n",
       "      <td>0</td>\n",
       "      <td>0</td>\n",
       "      <td>0</td>\n",
       "      <td>1</td>\n",
       "      <td>0</td>\n",
       "      <td>0</td>\n",
       "      <td>0</td>\n",
       "      <td>0</td>\n",
       "      <td>...</td>\n",
       "      <td>0</td>\n",
       "      <td>0</td>\n",
       "      <td>0</td>\n",
       "      <td>0</td>\n",
       "      <td>0</td>\n",
       "      <td>0</td>\n",
       "      <td>0</td>\n",
       "      <td>0</td>\n",
       "      <td>0</td>\n",
       "      <td>0</td>\n",
       "    </tr>\n",
       "  </tbody>\n",
       "</table>\n",
       "<p>10 rows × 464 columns</p>\n",
       "</div>"
      ],
      "text/plain": [
       "   2  Police  Officer  1  Fire  Asst  Aide  Civil  Eng  Sr  ...  Fewd  Motve  \\\n",
       "0  0       0        0  0     1     0     0      0    0   0  ...     0      0   \n",
       "1  0       0        0  0     1     0     0      0    0   0  ...     0      0   \n",
       "2  0       0        1  0     0     0     0      0    0   0  ...     0      0   \n",
       "3  0       0        0  0     1     0     0      0    0   0  ...     0      0   \n",
       "4  0       0        0  0     1     0     0      0    0   0  ...     0      0   \n",
       "5  0       0        0  0     1     0     0      0    0   0  ...     0      0   \n",
       "6  0       0        0  0     1     0     0      0    0   0  ...     0      0   \n",
       "7  0       0        0  0     0     0     0      0    0   0  ...     0      0   \n",
       "8  0       0        0  0     1     0     0      0    0   0  ...     0      0   \n",
       "9  0       0        0  0     0     1     0      0    0   0  ...     0      0   \n",
       "\n",
       "   Comptroller  Technical  Invstgtns  Documents  Env  Stores  Employment  \\\n",
       "0            0          0          0          0    0       0           0   \n",
       "1            0          0          0          0    0       0           0   \n",
       "2            0          0          0          0    0       0           0   \n",
       "3            0          0          0          0    0       0           0   \n",
       "4            0          0          0          0    0       0           0   \n",
       "5            0          0          0          0    0       0           0   \n",
       "6            0          0          0          0    0       0           0   \n",
       "7            0          0          0          0    0       0           0   \n",
       "8            0          0          0          0    0       0           0   \n",
       "9            0          0          0          0    0       0           0   \n",
       "\n",
       "   Roofing  \n",
       "0        0  \n",
       "1        0  \n",
       "2        0  \n",
       "3        0  \n",
       "4        0  \n",
       "5        0  \n",
       "6        0  \n",
       "7        0  \n",
       "8        0  \n",
       "9        0  \n",
       "\n",
       "[10 rows x 464 columns]"
      ]
     },
     "execution_count": 33,
     "metadata": {},
     "output_type": "execute_result"
    }
   ],
   "source": [
    "jobtypes.head(10)"
   ]
  },
  {
   "cell_type": "code",
   "execution_count": 34,
   "metadata": {},
   "outputs": [
    {
     "data": {
      "text/plain": [
       "464"
      ]
     },
     "execution_count": 34,
     "metadata": {},
     "output_type": "execute_result"
    }
   ],
   "source": [
    "# how many columns? (curse of dimensionality)\n",
    "len(jobtypes.columns)"
   ]
  },
  {
   "cell_type": "code",
   "execution_count": 35,
   "metadata": {},
   "outputs": [
    {
     "data": {
      "text/plain": [
       "2          2278\n",
       "Police     2160\n",
       "Officer    2001\n",
       "1          1555\n",
       "Fire       1017\n",
       "Asst        751\n",
       "Aide        615\n",
       "Civil       584\n",
       "Eng         559\n",
       "Sr          531\n",
       "Asoc        525\n",
       "Library     503\n",
       "Rec         499\n",
       "Anlyst      494\n",
       "3           481\n",
       "Tech        472\n",
       "Supv        444\n",
       "Maint       444\n",
       "Fighter     430\n",
       "Clerk       410\n",
       "dtype: int64"
      ]
     },
     "execution_count": 35,
     "metadata": {},
     "output_type": "execute_result"
    }
   ],
   "source": [
    "jobtypes.iloc[:,:20].sum()"
   ]
  },
  {
   "cell_type": "code",
   "execution_count": 36,
   "metadata": {},
   "outputs": [
    {
     "data": {
      "text/plain": [
       "count    12493.000000\n",
       "mean         1.340991\n",
       "std          0.873223\n",
       "min          0.000000\n",
       "25%          1.000000\n",
       "50%          1.000000\n",
       "75%          2.000000\n",
       "max          5.000000\n",
       "dtype: float64"
      ]
     },
     "execution_count": 36,
     "metadata": {},
     "output_type": "execute_result"
    }
   ],
   "source": [
    "# What about those with sum = 0? sum > 1?\n",
    "jobtypes.iloc[:,:20].sum(axis=1).describe()"
   ]
  },
  {
   "cell_type": "markdown",
   "metadata": {
    "slideshow": {
     "slide_type": "slide"
    }
   },
   "source": [
    "### What are the closest job titles to 'Asst Fire Chief'\n",
    "\n",
    "\n",
    "* Idea: which other job titles share \"the most\" words in common?\n",
    "* Implementation: use the 'word vectors' in `jobtypes` to count up matching words."
   ]
  },
  {
   "cell_type": "code",
   "execution_count": 37,
   "metadata": {},
   "outputs": [
    {
     "data": {
      "text/plain": [
       "'Asst Fire Chief'"
      ]
     },
     "execution_count": 37,
     "metadata": {},
     "output_type": "execute_result"
    }
   ],
   "source": [
    "# what are the closest job titles to:\n",
    "jobidx = 109\n",
    "job = jobtitles.iloc[jobidx]\n",
    "job"
   ]
  },
  {
   "cell_type": "code",
   "execution_count": 38,
   "metadata": {},
   "outputs": [
    {
     "data": {
      "text/plain": [
       "'Fire Battalion Chief'"
      ]
     },
     "execution_count": 38,
     "metadata": {},
     "output_type": "execute_result"
    }
   ],
   "source": [
    "job1 = jobtitles.iloc[0]\n",
    "job1"
   ]
  },
  {
   "cell_type": "code",
   "execution_count": 39,
   "metadata": {},
   "outputs": [
    {
     "data": {
      "text/html": [
       "<div>\n",
       "<style scoped>\n",
       "    .dataframe tbody tr th:only-of-type {\n",
       "        vertical-align: middle;\n",
       "    }\n",
       "\n",
       "    .dataframe tbody tr th {\n",
       "        vertical-align: top;\n",
       "    }\n",
       "\n",
       "    .dataframe thead th {\n",
       "        text-align: right;\n",
       "    }\n",
       "</style>\n",
       "<table border=\"1\" class=\"dataframe\">\n",
       "  <thead>\n",
       "    <tr style=\"text-align: right;\">\n",
       "      <th></th>\n",
       "      <th>0</th>\n",
       "      <th>109</th>\n",
       "    </tr>\n",
       "  </thead>\n",
       "  <tbody>\n",
       "    <tr>\n",
       "      <th>2</th>\n",
       "      <td>0</td>\n",
       "      <td>0</td>\n",
       "    </tr>\n",
       "    <tr>\n",
       "      <th>Police</th>\n",
       "      <td>0</td>\n",
       "      <td>0</td>\n",
       "    </tr>\n",
       "    <tr>\n",
       "      <th>Officer</th>\n",
       "      <td>0</td>\n",
       "      <td>0</td>\n",
       "    </tr>\n",
       "    <tr>\n",
       "      <th>1</th>\n",
       "      <td>0</td>\n",
       "      <td>0</td>\n",
       "    </tr>\n",
       "    <tr>\n",
       "      <th>Fire</th>\n",
       "      <td>1</td>\n",
       "      <td>1</td>\n",
       "    </tr>\n",
       "    <tr>\n",
       "      <th>Asst</th>\n",
       "      <td>0</td>\n",
       "      <td>1</td>\n",
       "    </tr>\n",
       "    <tr>\n",
       "      <th>Aide</th>\n",
       "      <td>0</td>\n",
       "      <td>0</td>\n",
       "    </tr>\n",
       "    <tr>\n",
       "      <th>Civil</th>\n",
       "      <td>0</td>\n",
       "      <td>0</td>\n",
       "    </tr>\n",
       "    <tr>\n",
       "      <th>Eng</th>\n",
       "      <td>0</td>\n",
       "      <td>0</td>\n",
       "    </tr>\n",
       "    <tr>\n",
       "      <th>Sr</th>\n",
       "      <td>0</td>\n",
       "      <td>0</td>\n",
       "    </tr>\n",
       "  </tbody>\n",
       "</table>\n",
       "</div>"
      ],
      "text/plain": [
       "         0    109\n",
       "2          0    0\n",
       "Police     0    0\n",
       "Officer    0    0\n",
       "1          0    0\n",
       "Fire       1    1\n",
       "Asst       0    1\n",
       "Aide       0    0\n",
       "Civil      0    0\n",
       "Eng        0    0\n",
       "Sr         0    0"
      ]
     },
     "execution_count": 39,
     "metadata": {},
     "output_type": "execute_result"
    }
   ],
   "source": [
    "# word vectors side-by-side\n",
    "pd.concat([jobtypes.iloc[0], jobtypes.iloc[109]], axis=1).head(10)"
   ]
  },
  {
   "cell_type": "code",
   "execution_count": 40,
   "metadata": {},
   "outputs": [
    {
     "data": {
      "text/html": [
       "<div>\n",
       "<style scoped>\n",
       "    .dataframe tbody tr th:only-of-type {\n",
       "        vertical-align: middle;\n",
       "    }\n",
       "\n",
       "    .dataframe tbody tr th {\n",
       "        vertical-align: top;\n",
       "    }\n",
       "\n",
       "    .dataframe thead th {\n",
       "        text-align: right;\n",
       "    }\n",
       "</style>\n",
       "<table border=\"1\" class=\"dataframe\">\n",
       "  <thead>\n",
       "    <tr style=\"text-align: right;\">\n",
       "      <th></th>\n",
       "      <th>0</th>\n",
       "    </tr>\n",
       "  </thead>\n",
       "  <tbody>\n",
       "    <tr>\n",
       "      <th>2</th>\n",
       "      <td>0</td>\n",
       "    </tr>\n",
       "    <tr>\n",
       "      <th>Police</th>\n",
       "      <td>0</td>\n",
       "    </tr>\n",
       "    <tr>\n",
       "      <th>Officer</th>\n",
       "      <td>0</td>\n",
       "    </tr>\n",
       "    <tr>\n",
       "      <th>1</th>\n",
       "      <td>0</td>\n",
       "    </tr>\n",
       "    <tr>\n",
       "      <th>Fire</th>\n",
       "      <td>1</td>\n",
       "    </tr>\n",
       "    <tr>\n",
       "      <th>Asst</th>\n",
       "      <td>0</td>\n",
       "    </tr>\n",
       "    <tr>\n",
       "      <th>Aide</th>\n",
       "      <td>0</td>\n",
       "    </tr>\n",
       "    <tr>\n",
       "      <th>Civil</th>\n",
       "      <td>0</td>\n",
       "    </tr>\n",
       "    <tr>\n",
       "      <th>Eng</th>\n",
       "      <td>0</td>\n",
       "    </tr>\n",
       "    <tr>\n",
       "      <th>Sr</th>\n",
       "      <td>0</td>\n",
       "    </tr>\n",
       "  </tbody>\n",
       "</table>\n",
       "</div>"
      ],
      "text/plain": [
       "         0\n",
       "2        0\n",
       "Police   0\n",
       "Officer  0\n",
       "1        0\n",
       "Fire     1\n",
       "Asst     0\n",
       "Aide     0\n",
       "Civil    0\n",
       "Eng      0\n",
       "Sr       0"
      ]
     },
     "execution_count": 40,
     "metadata": {},
     "output_type": "execute_result"
    }
   ],
   "source": [
    "cnts = pd.concat([jobtypes.iloc[0], jobtypes.iloc[109]], axis=1)\n",
    "\n",
    "(cnts.iloc[:,0] * cnts.iloc[:,1]).head(10).to_frame()"
   ]
  },
  {
   "cell_type": "code",
   "execution_count": 41,
   "metadata": {},
   "outputs": [
    {
     "data": {
      "text/plain": [
       "2"
      ]
     },
     "execution_count": 41,
     "metadata": {},
     "output_type": "execute_result"
    }
   ],
   "source": [
    "# sum the matches\n",
    "np.sum(cnts.iloc[:,0] * cnts.iloc[:,1])"
   ]
  },
  {
   "cell_type": "markdown",
   "metadata": {
    "slideshow": {
     "slide_type": "slide"
    }
   },
   "source": [
    "## Solution attempt 1: bag of words\n",
    "1. Create a list of all words appearing among *all* text ('bag of words')\n",
    "2. Create a vector, indexed by the distinct words, with counts of the words in that entry.\n",
    "3. Two text entries are similar if the sum of their matches is large.\n",
    "    - The sum of their matches is the same as the dot-product of the vectors!"
   ]
  },
  {
   "cell_type": "markdown",
   "metadata": {
    "slideshow": {
     "slide_type": "slide"
    }
   },
   "source": [
    "### Discussion Question\n",
    "\n",
    "Given the list of sentences below:\n",
    "1. What is the index for the word vectors of the sentences?\n",
    "2. How close are the word-vectors of the first and second sentence?"
   ]
  },
  {
   "cell_type": "code",
   "execution_count": 42,
   "metadata": {},
   "outputs": [
    {
     "data": {
      "text/html": [
       "<div>\n",
       "<style scoped>\n",
       "    .dataframe tbody tr th:only-of-type {\n",
       "        vertical-align: middle;\n",
       "    }\n",
       "\n",
       "    .dataframe tbody tr th {\n",
       "        vertical-align: top;\n",
       "    }\n",
       "\n",
       "    .dataframe thead th {\n",
       "        text-align: right;\n",
       "    }\n",
       "</style>\n",
       "<table border=\"1\" class=\"dataframe\">\n",
       "  <thead>\n",
       "    <tr style=\"text-align: right;\">\n",
       "      <th></th>\n",
       "      <th>0</th>\n",
       "    </tr>\n",
       "  </thead>\n",
       "  <tbody>\n",
       "    <tr>\n",
       "      <th>0</th>\n",
       "      <td>the fox and the moon</td>\n",
       "    </tr>\n",
       "    <tr>\n",
       "      <th>1</th>\n",
       "      <td>the cow and the moon</td>\n",
       "    </tr>\n",
       "    <tr>\n",
       "      <th>2</th>\n",
       "      <td>the cow and the spoon</td>\n",
       "    </tr>\n",
       "  </tbody>\n",
       "</table>\n",
       "</div>"
      ],
      "text/plain": [
       "                       0\n",
       "0   the fox and the moon\n",
       "1   the cow and the moon\n",
       "2  the cow and the spoon"
      ]
     },
     "execution_count": 42,
     "metadata": {},
     "output_type": "execute_result"
    }
   ],
   "source": [
    "sentences = [\n",
    "    'the fox and the moon',\n",
    "    'the cow and the moon',\n",
    "    'the cow and the spoon'\n",
    "]\n",
    "pd.Series(sentences).to_frame()"
   ]
  },
  {
   "cell_type": "markdown",
   "metadata": {
    "slideshow": {
     "slide_type": "slide"
    }
   },
   "source": [
    "### Answer"
   ]
  },
  {
   "cell_type": "code",
   "execution_count": 43,
   "metadata": {},
   "outputs": [
    {
     "data": {
      "text/plain": [
       "0     the fox and the moon\n",
       "1     the cow and the moon\n",
       "2    the cow and the spoon\n",
       "dtype: object"
      ]
     },
     "execution_count": 43,
     "metadata": {},
     "output_type": "execute_result"
    }
   ],
   "source": [
    "sentences = pd.Series(sentences)\n",
    "sentences"
   ]
  },
  {
   "cell_type": "code",
   "execution_count": 44,
   "metadata": {},
   "outputs": [
    {
     "data": {
      "text/plain": [
       "the      6\n",
       "and      3\n",
       "moon     2\n",
       "cow      2\n",
       "spoon    1\n",
       "fox      1\n",
       "dtype: int64"
      ]
     },
     "execution_count": 44,
     "metadata": {},
     "output_type": "execute_result"
    }
   ],
   "source": [
    "words = pd.Series(sentences.str.split().sum()).value_counts()\n",
    "words"
   ]
  },
  {
   "cell_type": "code",
   "execution_count": 45,
   "metadata": {},
   "outputs": [
    {
     "data": {
      "text/html": [
       "<div>\n",
       "<style scoped>\n",
       "    .dataframe tbody tr th:only-of-type {\n",
       "        vertical-align: middle;\n",
       "    }\n",
       "\n",
       "    .dataframe tbody tr th {\n",
       "        vertical-align: top;\n",
       "    }\n",
       "\n",
       "    .dataframe thead th {\n",
       "        text-align: right;\n",
       "    }\n",
       "</style>\n",
       "<table border=\"1\" class=\"dataframe\">\n",
       "  <thead>\n",
       "    <tr style=\"text-align: right;\">\n",
       "      <th></th>\n",
       "      <th>the</th>\n",
       "      <th>and</th>\n",
       "      <th>moon</th>\n",
       "      <th>cow</th>\n",
       "      <th>spoon</th>\n",
       "      <th>fox</th>\n",
       "    </tr>\n",
       "  </thead>\n",
       "  <tbody>\n",
       "    <tr>\n",
       "      <th>0</th>\n",
       "      <td>2</td>\n",
       "      <td>1</td>\n",
       "      <td>1</td>\n",
       "      <td>0</td>\n",
       "      <td>0</td>\n",
       "      <td>1</td>\n",
       "    </tr>\n",
       "    <tr>\n",
       "      <th>1</th>\n",
       "      <td>2</td>\n",
       "      <td>1</td>\n",
       "      <td>1</td>\n",
       "      <td>1</td>\n",
       "      <td>0</td>\n",
       "      <td>0</td>\n",
       "    </tr>\n",
       "    <tr>\n",
       "      <th>2</th>\n",
       "      <td>2</td>\n",
       "      <td>1</td>\n",
       "      <td>0</td>\n",
       "      <td>1</td>\n",
       "      <td>1</td>\n",
       "      <td>0</td>\n",
       "    </tr>\n",
       "  </tbody>\n",
       "</table>\n",
       "</div>"
      ],
      "text/plain": [
       "   the  and  moon  cow  spoon  fox\n",
       "0    2    1     1    0      0    1\n",
       "1    2    1     1    1      0    0\n",
       "2    2    1     0    1      1    0"
      ]
     },
     "execution_count": 45,
     "metadata": {},
     "output_type": "execute_result"
    }
   ],
   "source": [
    "wordvecs = pd.DataFrame([], index=sentences.index)\n",
    "for word in words.index:\n",
    "    re_pat = '\\\\b%s\\\\b' % word\n",
    "    wordvecs[word] = sentences.str.count(re_pat).astype(int)\n",
    "    \n",
    "wordvecs"
   ]
  },
  {
   "cell_type": "code",
   "execution_count": 46,
   "metadata": {},
   "outputs": [
    {
     "data": {
      "text/plain": [
       "6"
      ]
     },
     "execution_count": 46,
     "metadata": {},
     "output_type": "execute_result"
    }
   ],
   "source": [
    "np.sum(wordvecs.iloc[0] * wordvecs.iloc[1])"
   ]
  },
  {
   "cell_type": "markdown",
   "metadata": {
    "slideshow": {
     "slide_type": "slide"
    }
   },
   "source": [
    "### Bag of Words: Salaries\n",
    "* Compute the sum of matches among all word vectors and 'Asst Fire Chief'\n",
    "* Take the job that is the closest match"
   ]
  },
  {
   "cell_type": "code",
   "execution_count": 47,
   "metadata": {},
   "outputs": [
    {
     "data": {
      "text/plain": [
       "'Asst Fire Chief'"
      ]
     },
     "execution_count": 47,
     "metadata": {},
     "output_type": "execute_result"
    }
   ],
   "source": [
    "jobtitles.iloc[jobidx]"
   ]
  },
  {
   "cell_type": "code",
   "execution_count": 48,
   "metadata": {},
   "outputs": [
    {
     "data": {
      "text/plain": [
       "2          0\n",
       "Police     0\n",
       "Officer    0\n",
       "1          0\n",
       "Fire       1\n",
       "Name: 109, dtype: int32"
      ]
     },
     "execution_count": 48,
     "metadata": {},
     "output_type": "execute_result"
    }
   ],
   "source": [
    "jobvec = jobtypes.iloc[jobidx]\n",
    "jobvec.head()"
   ]
  },
  {
   "cell_type": "code",
   "execution_count": 49,
   "metadata": {},
   "outputs": [
    {
     "data": {
      "text/plain": [
       "0    2\n",
       "1    1\n",
       "2    1\n",
       "3    2\n",
       "4    1\n",
       "5    1\n",
       "6    2\n",
       "7    0\n",
       "8    1\n",
       "9    2\n",
       "dtype: int64"
      ]
     },
     "execution_count": 49,
     "metadata": {},
     "output_type": "execute_result"
    }
   ],
   "source": [
    "# dot product with 'Asst Fire Chief' and *all* other titles\n",
    "matches = jobtypes.apply(lambda ser: np.dot(jobvec, ser), axis=1)\n",
    "matches.head(10)"
   ]
  },
  {
   "cell_type": "code",
   "execution_count": 50,
   "metadata": {},
   "outputs": [
    {
     "data": {
      "text/plain": [
       "174           Asst Fire Chief\n",
       "885           Asst Fire Chief\n",
       "109           Asst Fire Chief\n",
       "0        Fire Battalion Chief\n",
       "114      Fire Battalion Chief\n",
       "237      Fire Battalion Chief\n",
       "215      Fire Battalion Chief\n",
       "3439     Asst Chief Oper Ofcr\n",
       "159     Asst Fire Marshal Civ\n",
       "5988     Fire Battalion Chief\n",
       "Name: Job Title, dtype: object"
      ]
     },
     "execution_count": 50,
     "metadata": {},
     "output_type": "execute_result"
    }
   ],
   "source": [
    "jobtitles.loc[matches.sort_values(ascending=False).index].head(10)"
   ]
  },
  {
   "cell_type": "markdown",
   "metadata": {
    "slideshow": {
     "slide_type": "slide"
    }
   },
   "source": [
    "## Summary: Bag of Words\n",
    "\n",
    "* Create an index out of *all* distinct words \n",
    "    - The basis for the vector space of words.\n",
    "* Create vectors for each text entry by computing the counts of words in the entry.\n",
    "* The dot product between two vectors is proportional to their 'similarity':\n",
    "    - This defines the **cosine similarity** between vectors via: $$dist(v, w) = 1 - \\cos(\\theta) = 1 - \\frac{v \\cdot w}{|v||w|}$$"
   ]
  },
  {
   "cell_type": "markdown",
   "metadata": {
    "slideshow": {
     "slide_type": "slide"
    }
   },
   "source": [
    "### Conclusion: Bag of Words\n",
    "* Bag of words *embeds words into a vector space*\n",
    "* Can then use clustering (e.g. k-means) to group like words (e.g. into 'job-types')\n",
    "    - Unfortunately, many clustering techniques don't work well in high dimensions.\n",
    "* Downside: treats all words as *equally important*.\n",
    "    - \"Asst Fire Chief\" vs \"Asst Chief Oper Ofcr\""
   ]
  },
  {
   "cell_type": "markdown",
   "metadata": {
    "slideshow": {
     "slide_type": "slide"
    }
   },
   "source": [
    "## TF-IDF\n",
    "\n",
    "Term Frequency / Inverse Document Frequency"
   ]
  },
  {
   "cell_type": "markdown",
   "metadata": {
    "slideshow": {
     "slide_type": "slide"
    }
   },
   "source": [
    "### Term Frequency, Inverse Document Frequency\n",
    "\n",
    "How do we figure out which words are \"important\" in a document?\n",
    "\n",
    "1. The most common words often *don't* have much meaning!\n",
    "2. The very rare words are also less important!\n",
    "\n",
    "Goal: balance these two observations."
   ]
  },
  {
   "cell_type": "markdown",
   "metadata": {
    "slideshow": {
     "slide_type": "slide"
    }
   },
   "source": [
    "## Term Frequency, Inverse Document Frequency\n",
    "\n",
    "* The *term frequency* of a word $t$ in a document $d$, denoted ${\\rm tf}(t,d)$, is the likelihood of the term appearing in the document.\n",
    "   * Word that occurs often is important to document meaning.\n",
    "\n",
    "* The *document frequency* is how often the a words occurs in the entire set of documents.\n",
    "   * Common words that appear everywhere.\n",
    "\n",
    "\n",
    "* Question: what are the frequencies for a word \"the\"? (high/low?)"
   ]
  },
  {
   "cell_type": "markdown",
   "metadata": {
    "slideshow": {
     "slide_type": "slide"
    }
   },
   "source": [
    "## What about their ratio? Intuition\n",
    "\n",
    "The relevance of this word to the document.\n",
    "\n",
    "$$\\frac{{\\rm\\ TermFrequency}}{{\\rm DocumentFrequncy}}$$\n",
    "\n",
    "* `TF`: High, `DC`: High\n",
    "* `TF`: High, `DC`: Low\n",
    "* `TF`: Low, `DC`: High\n",
    "* `TF`: Low, `DC`: Low"
   ]
  },
  {
   "cell_type": "markdown",
   "metadata": {
    "slideshow": {
     "slide_type": "slide"
    }
   },
   "source": [
    "## Term Frequency, Inverse Document Frequency\n",
    "\n",
    "* The *term frequency* of a word $t$ in a document $d$, denoted ${\\rm tf}(t,d)$, is the likelihood of the term appearing in the document.\n",
    "* The *inverse document frequency* of a word $t$ in a set of documents $\\{d_i\\}$, denoted ${\\rm idf}(t,d)$ is: \n",
    "\n",
    "$$\\log(\\frac{{\\rm\\ total\\ number\\ of\\ documents}}{{\\rm number\\ of\\ documents\\ in\\ which\\ t\\ appears}})$$\n",
    "\n",
    "* The *tf-idf* of a term $t$ in document $d$ is given by the product: \n",
    "\n",
    "$${\\rm tfidf}(t,d) = {\\rm tf}(t,d) \\cdot {\\rm idf}(t)$$"
   ]
  },
  {
   "cell_type": "code",
   "execution_count": 51,
   "metadata": {},
   "outputs": [
    {
     "data": {
      "text/html": [
       "<div>\n",
       "<style scoped>\n",
       "    .dataframe tbody tr th:only-of-type {\n",
       "        vertical-align: middle;\n",
       "    }\n",
       "\n",
       "    .dataframe tbody tr th {\n",
       "        vertical-align: top;\n",
       "    }\n",
       "\n",
       "    .dataframe thead th {\n",
       "        text-align: right;\n",
       "    }\n",
       "</style>\n",
       "<table border=\"1\" class=\"dataframe\">\n",
       "  <thead>\n",
       "    <tr style=\"text-align: right;\">\n",
       "      <th></th>\n",
       "      <th>0</th>\n",
       "    </tr>\n",
       "  </thead>\n",
       "  <tbody>\n",
       "    <tr>\n",
       "      <th>0</th>\n",
       "      <td>the fox and the moon</td>\n",
       "    </tr>\n",
       "    <tr>\n",
       "      <th>1</th>\n",
       "      <td>the cow and the moon</td>\n",
       "    </tr>\n",
       "    <tr>\n",
       "      <th>2</th>\n",
       "      <td>the cow and the spoon</td>\n",
       "    </tr>\n",
       "  </tbody>\n",
       "</table>\n",
       "</div>"
      ],
      "text/plain": [
       "                       0\n",
       "0   the fox and the moon\n",
       "1   the cow and the moon\n",
       "2  the cow and the spoon"
      ]
     },
     "execution_count": 51,
     "metadata": {},
     "output_type": "execute_result"
    }
   ],
   "source": [
    "# What is the tf-idf of 'cow' in the second 'document'?\n",
    "sentences.to_frame()"
   ]
  },
  {
   "cell_type": "markdown",
   "metadata": {
    "slideshow": {
     "slide_type": "slide"
    }
   },
   "source": [
    "### Answer"
   ]
  },
  {
   "cell_type": "code",
   "execution_count": 52,
   "metadata": {},
   "outputs": [
    {
     "data": {
      "text/plain": [
       "0.2"
      ]
     },
     "execution_count": 52,
     "metadata": {},
     "output_type": "execute_result"
    }
   ],
   "source": [
    "# the term frequency of 'cow' in the second 'document'\n",
    "tf = sentences.iloc[1].count('cow') / (sentences.iloc[1].count(' ') + 1)\n",
    "tf"
   ]
  },
  {
   "cell_type": "code",
   "execution_count": 53,
   "metadata": {},
   "outputs": [],
   "source": [
    "idf = np.log(len(sentences) / sentences.str.contains('cow').sum())"
   ]
  },
  {
   "cell_type": "code",
   "execution_count": 60,
   "metadata": {},
   "outputs": [
    {
     "data": {
      "text/plain": [
       "2"
      ]
     },
     "execution_count": 60,
     "metadata": {},
     "output_type": "execute_result"
    }
   ],
   "source": [
    "sentences.str.contains('cow').sum()"
   ]
  },
  {
   "cell_type": "code",
   "execution_count": 54,
   "metadata": {},
   "outputs": [
    {
     "data": {
      "text/plain": [
       "0.4054651081081644"
      ]
     },
     "execution_count": 54,
     "metadata": {},
     "output_type": "execute_result"
    }
   ],
   "source": [
    "idf"
   ]
  },
  {
   "cell_type": "code",
   "execution_count": 55,
   "metadata": {},
   "outputs": [
    {
     "data": {
      "text/plain": [
       "0.08109302162163289"
      ]
     },
     "execution_count": 55,
     "metadata": {},
     "output_type": "execute_result"
    }
   ],
   "source": [
    "tf * idf"
   ]
  },
  {
   "cell_type": "markdown",
   "metadata": {
    "slideshow": {
     "slide_type": "slide"
    }
   },
   "source": [
    "### TF-IDF of all terms in all documents\n",
    "* What are the different reasons tf-idf can be zero?\n",
    "* When is it the largest?"
   ]
  },
  {
   "cell_type": "code",
   "execution_count": null,
   "metadata": {},
   "outputs": [],
   "source": [
    "sentences"
   ]
  },
  {
   "cell_type": "code",
   "execution_count": null,
   "metadata": {},
   "outputs": [],
   "source": [
    "words = pd.Series(sentences.str.split().sum())"
   ]
  },
  {
   "cell_type": "code",
   "execution_count": null,
   "metadata": {},
   "outputs": [],
   "source": []
  },
  {
   "cell_type": "code",
   "execution_count": null,
   "metadata": {},
   "outputs": [],
   "source": [
    "tfidf = pd.DataFrame([], index=sentences.index)  # dataframe of documents\n",
    "for w in words.unique():\n",
    "    re_pat = '\\\\b%s\\\\b' % w\n",
    "    tf = sentences.str.count(re_pat) / (sentences.str.count(' ') + 1)\n",
    "    idf = np.log(len(sentences) / sentences.str.contains(re_pat).sum())\n",
    "    tfidf[w] = tf * idf"
   ]
  },
  {
   "cell_type": "code",
   "execution_count": null,
   "metadata": {},
   "outputs": [],
   "source": [
    "tfidf"
   ]
  },
  {
   "cell_type": "markdown",
   "metadata": {
    "slideshow": {
     "slide_type": "slide"
    }
   },
   "source": [
    "### Summary: TF-IDF\n",
    "\n",
    "* Term Frequency, Inverse Document Frequency balances:\n",
    "    - how often a word appears in a document/sentence, with\n",
    "    - how often a word appears *across* documents.\n",
    "* For a given document, the word with the highest TF-IDF best summarizes that document."
   ]
  },
  {
   "cell_type": "markdown",
   "metadata": {
    "slideshow": {
     "slide_type": "slide"
    }
   },
   "source": [
    "### Example: State of the Union Addresses\n",
    "\n",
    "* What are the important words for each address?"
   ]
  },
  {
   "cell_type": "code",
   "execution_count": 61,
   "metadata": {},
   "outputs": [],
   "source": [
    "sotu = open('data/stateoftheunion1790-2017.txt').read()"
   ]
  },
  {
   "cell_type": "code",
   "execution_count": 62,
   "metadata": {},
   "outputs": [
    {
     "name": "stdout",
     "output_type": "stream",
     "text": [
      "The Project Gutenberg EBook of Complete State of the Union Addresses,\n",
      "from 1790 to the Present. Speeches beginning in 2002 are  from UCSB The American Presidency Project.\n",
      "\n",
      "Character set encoding: UTF8\n",
      "\n",
      "The addresses are separated by three asterisks\n",
      "\n",
      "\n",
      "CONTENTS\n",
      "\n",
      "  George Washington, State of the Union Address, January 8, 1790\n",
      "  George Washington, State of the Union Address, December 8, 1790\n",
      "  George Washington, State of the Union Address, October 25, 1791\n",
      "  George Washington, State of the Union Address, November 6, 1792\n",
      "  George Washington, State of the Union Address, December 3, 1793\n",
      "  George Washington, State of the Union Address, November 19, 1794\n",
      "  George Washington, State of the Union Address, December 8, 1795\n",
      "  George Washington, State of the Union Address, December 7, 1796\n",
      "  John Adams, State of the Union Address, November 22, 1797\n",
      "  John Adams, State of the Union Address, December 8, 1798\n",
      "  John Adams, State of the Union Address, December 3, 1799\n",
      "  John Adams, State of the Union Address, November 11, 1800\n",
      "  Thomas Jefferson, State of the Union Address, December 8, 1801\n",
      "  Thomas Jefferson, State of the Union Address, December 15, 1802\n",
      "  Thomas Jefferson, State of the Union Address, October 17, 1803\n",
      "  Thomas Jefferson, State of the Union Address, November 8, 1804\n",
      "  Thomas Jefferson, State of the Union Address, December 3, 1805\n",
      "  Thomas Jefferson, State of the Union Address, December 2, 1806\n",
      "  Thomas Jefferson, State of the Union Address, October 27, 1807\n",
      "  Thomas Jefferson, State of the Union Address, November 8, 1808\n",
      "  James Madison, State of the Union Address, November 29, 1809\n",
      "  James Madison, State of the Union Address, December 5, 1810\n",
      "  James Madison, State of the Union Address, November 5, 1811\n",
      "  James Madison, State of the Union Address, November 4, 1812\n",
      "  James Madison, State of the Union Address, December 7, 1813\n",
      "  James Madison, State of the Union Address, September 20, 1814\n",
      "  James Madison, State of the Union Address, December 5, 1815\n",
      "  James Madison, State of the Union Address, December 3, 1816\n",
      "  James Monroe, State of the Union Address, December 12, 1817\n",
      "  James Monroe, State of the Union Address, November 16, 1818\n",
      "  James Monroe, State of the Union Address, December 7, 1819\n",
      "  James Monroe, State of the Union Address, November 14, 1820\n",
      "  James Monroe, State of the Union Address, December 3, 1821\n",
      "  James Monroe, State of the Union Address, December 3, 1822\n",
      "  James Monroe, State of the Union Address, December 2, 1823\n",
      "  James Monroe, State of the Union Address, December 7, 1824\n",
      "  John Quincy Adams, State of the Union Address, December 6, 1825\n",
      "  John Quincy Adams, State of the Union Address, December 5, 1826\n",
      "  John Quincy Adams, State of the Union Address, December 4, 1827\n",
      "  John Quincy Adams, State of the Union Address, December 2, 1828\n",
      "  Andrew Jackson, State of the Union Address, December 8, 1829\n",
      "  Andrew Jackson, State of the Union Address, December 6, 1830\n",
      "  Andrew Jackson, State of the Union Address, December 6, 1831\n",
      "  Andrew Jackson, State of the Union Address, December 4, 1832\n",
      "  Andrew Jackson, State of the Union Address, December 3, 1833\n",
      "  Andrew Jackson, State of the Union Address, December 1, 1834\n",
      "  Andrew Jackson, State of the Union Address, December 7, 1835\n",
      "  Andrew Jackson, State of the Union Address, December 5, 1836\n",
      "  Martin van Buren, State of the Union Address, December 5, 1837\n",
      "  Martin van Buren, State of the Union Address, December 3, 1838\n",
      "  Martin van Buren, State of the Union Address, December 2, 1839\n",
      "  Martin van Buren, State of the Union Address, December 5, 1840\n",
      "  John Tyler, State of the Union Address, December 7, 1841\n",
      "  John Tyler, State of the Union Address, December 6, 1842\n",
      "  John Tyler, State of the Union Address, December 6, 1843\n",
      "  John Tyler, State of the Union Address, December 3, 1844\n",
      "  James Polk, State of the Union Address, December 2, 1845\n",
      "  James Polk, State of the Union Address, December 8, 1846\n",
      "  James Polk, State of the Union Address, December 7, 1847\n",
      "  James Polk, State of the Union Address, December 5, 1848\n",
      "  Zachary Taylor, State of the Union Address, December 4, 1849\n",
      "  Millard Fillmore, State of the Union Address, December 2, 1850\n",
      "  Millard Fillmore, State of the Union Address, December 2, 1851\n",
      "  Millard Fillmore, State of the Union Address, December 6, 1852\n",
      "  Franklin Pierce, State of the Union Address, December 5, 1853\n",
      "  Franklin Pierce, State of the Union Address, December 4, 1854\n",
      "  Franklin Pierce, State of the Union Address, December 31, 1855\n",
      "  Franklin Pierce, State of the Union Address, December 2, 1856\n",
      "  James Buchanan, State of the Union Address, December 8, 1857\n",
      "  James Buchanan, State of the Union Address, December 6, 1858\n",
      "  James Buchanan, State of the Union Address, December 19, 1859\n",
      "  James Buchanan, State of the Union Address, December 3, 1860\n",
      "  Abraham Lincoln, State of the Union Address, December 3, 1861\n",
      "  Abraham Lincoln, State of the Union Address, December 1, 1862\n",
      "  Abraham Lincoln, State of the Union Address, December 8, 1863\n",
      "  Abraham Lincoln, State of the Union Address, December 6, 1864\n",
      "  Andrew Johnson, State of the Union Address, December 4, 1865\n",
      "  Andrew Johnson, State of the Union Address, December 3, 1866\n",
      "  Andrew Johnson, State of the Union Address, December 3, 1867\n",
      "  Andrew Johnson, State of the Union Address, December 9, 1868\n",
      "  Ulysses S. Grant, State of the Union Address, December 6, 1869\n",
      "  Ulysses S. Grant, State of the Union Address, December 5, 1870\n",
      "  Ulysses S. Grant, State of the Union Address, December 4, 1871\n",
      "  Ulysses S. Grant, State of the Union Address, December 2, 1872\n",
      "  Ulysses S. Grant, State of the Union Address, December 1, 1873\n",
      "  Ulysses S. Grant, State of the Union Address, December 7, 1874\n",
      "  Ulysses S. Grant, State of the Union Address, December 7, 1875\n",
      "  Ulysses S. Grant, State of the Union Address, December 5, 1876\n",
      "  Rutherford B. Hayes, State of the Union Address, December 3, 1877\n",
      "  Rutherford B. Hayes, State of the Union Address, December 2, 1878\n",
      "  Rutherford B. Hayes, State of the Union Address, December 1, 1879\n",
      "  Rutherford B. Hayes, State of the Union Address, December 6, 1880\n",
      "  Chester A. Arthur, State of the Union Address, December 6, 1881\n",
      "  Chester A. Arthur, State of the Union Address, December 4, 1882\n",
      "  Chester A. Arthur, State of the Union Address, December 4, 1883\n",
      "  Chester A. Arthur, State of the Union Address, December 1, 1884\n",
      "  Grover Cleveland, State of the Union Address, December 8, 1885\n",
      "  Grover Cleveland, State of the Union Address, December 6, 1886\n",
      "  Grover Cleveland, State of the Union Address, December 6, 1887\n",
      "  Grover Cleveland, State of the Union Address, December 3, 1888\n",
      "  Benjamin Harrison, State of the Union Address, December 3, 1889\n",
      "  Benjamin Harrison, State of the Union Address, December 1, 1890\n",
      "  Benjamin Harrison, State of the Union Address, December 9, 1891\n",
      "  Benjamin Harrison, State of the Union Address, December 6, 1892\n",
      "  William McKinley, State of the Union Address, December 6, 1897\n",
      "  William McKinley, State of the Union Address, December 5, 1898\n",
      "  William McKinley, State of the Union Address, December 5, 1899\n",
      "  William McKinley, State of the Union Address, December 3, 1900\n",
      "  Theodore Roosevelt, State of the Union Address, December 3, 1901\n",
      "  Theodore Roosevelt, State of the Union Address, December 2, 1902\n",
      "  Theodore Roosevelt, State of the Union Address, December 7, 1903\n",
      "  Theodore Roosevelt, State of the Union Address, December 6, 1904\n",
      "  Theodore Roosevelt, State of the Union Address, December 5, 1905\n",
      "  Theodore Roosevelt, State of the Union Address, December 3, 1906\n",
      "  Theodore Roosevelt, State of the Union Address, December 3, 1907\n",
      "  Theodore Roosevelt, State of the Union Address, December 8, 1908\n",
      "  William H. Taft, State of the Union Address, December 7, 1909\n",
      "  William H. Taft, State of the Union Address, December 6, 1910\n",
      "  William H. Taft, State of the Union Address, December 5, 1911\n",
      "  William H. Taft, State of the Union Address, December 3, 1912\n",
      "  Woodrow Wilson, State of the Union Address, December 2, 1913\n",
      "  Woodrow Wilson, State of the Union Address, December 8, 1914\n",
      "  Woodrow Wilson, State of the Union Address, December 7, 1915\n",
      "  Woodrow Wilson, State of the Union Address, December 5, 1916\n",
      "  Woodrow Wilson, State of the Union Address, December 4, 1917\n",
      "  Woodrow Wilson, State of the Union Address, December 2, 1918\n",
      "  Woodrow Wilson, State of the Union Address, December 2, 1919\n",
      "  Woodrow Wilson, State of the Union Address, December 7, 1920\n",
      "  Warren Harding, State of the Union Address, December 6, 1921\n",
      "  Warren Harding, State of the Union Address, December 8, 1922\n",
      "  Calvin Coolidge, State of the Union Address, December 6, 1923\n",
      "  Calvin Coolidge, State of the Union Address, December 3, 1924\n",
      "  Calvin Coolidge, State of the Union Address, December 8, 1925\n",
      "  Calvin Coolidge, State of the Union Address, December 7, 1926\n",
      "  Calvin Coolidge, State of the Union Address, December 6, 1927\n",
      "  Calvin Coolidge, State of the Union Address, December 4, 1928\n",
      "  Herbert Hoover, State of the Union Address, December 3, 1929\n",
      "  Herbert Hoover, State of the Union Address, December 2, 1930\n",
      "  Herbert Hoover, State of the Union Address, December 8, 1931\n",
      "  Herbert Hoover, State of the Union Address, December 6, 1932\n",
      "  Franklin D. Roosevelt, State of the Union Address, January 3, 1934\n",
      "  Franklin D. Roosevelt, State of the Union Address, January 4, 1935\n",
      "  Franklin D. Roosevelt, State of the Union Address, January 3, 1936\n",
      "  Franklin D. Roosevelt, State of the Union Address, January 6, 1937\n",
      "  Franklin D. Roosevelt, State of the Union Address, January 3, 1938\n",
      "  Franklin D. Roosevelt, State of the Union Address, January 4, 1939\n",
      "  Franklin D. Roosevelt, State of the Union Address, January 3, 1940\n",
      "  Franklin D. Roosevelt, State of the Union Address, January 6, 1941\n",
      "  Franklin D. Roosevelt, State of the Union Address, January 6, 1942\n",
      "  Franklin D. Roosevelt, State of the Union Address, January 7, 1943\n",
      "  Franklin D. Roosevelt, State of the Union Address, January 11, 1944\n",
      "  Franklin D. Roosevelt, State of the Union Address, January 6, 1945\n",
      "  Harry S. Truman, State of the Union Address, January 21, 1946\n",
      "  Harry S. Truman, State of the Union Address, January 6, 1947\n",
      "  Harry S. Truman, State of the Union Address, January 7, 1948\n",
      "  Harry S. Truman, State of the Union Address, January 5, 1949\n",
      "  Harry S. Truman, State of the Union Address, January 4, 1950\n",
      "  Harry S. Truman, State of the Union Address, January 8, 1951\n",
      "  Harry S. Truman, State of the Union Address, January 9, 1952\n",
      "  Harry S. Truman, State of the Union Address, January 7, 1953\n",
      "  Dwight D. Eisenhower, State of the Union Address, February 2, 1953\n",
      "  Dwight D. Eisenhower, State of the Union Address, January 7, 1954\n",
      "  Dwight D. Eisenhower, State of the Union Address, January 6, 1955\n",
      "  Dwight D. Eisenhower, State of the Union Address, January 5, 1956\n",
      "  Dwight D. Eisenhower, State of the Union Address, January 10, 1957\n",
      "  Dwight D. Eisenhower, State of the Union Address, January 9, 1958\n",
      "  Dwight D. Eisenhower, State of the Union Address, January 9, 1959\n",
      "  Dwight D. Eisenhower, State of the Union Address, January 7, 1960\n",
      "  Dwight D. Eisenhower, State of the Union Address, January 12, 1961\n",
      "  John F. Kennedy, State of the Union Address, January 30, 1961\n",
      "  John F. Kennedy, State of the Union Address, January 11, 1962\n",
      "  John F. Kennedy, State of the Union Address, January 14, 1963\n",
      "  Lyndon B. Johnson, State of the Union Address, January 8, 1964\n",
      "  Lyndon B. Johnson, State of the Union Address, January 4, 1965\n",
      "  Lyndon B. Johnson, State of the Union Address, January 12, 1966\n",
      "  Lyndon B. Johnson, State of the Union Address, January 10, 1967\n",
      "  Lyndon B. Johnson, State of the Union Address, January 17, 1968\n",
      "  Lyndon B. Johnson, State of the Union Address, January 14, 1969\n",
      "  Richard Nixon, State of the Union Address, January 22, 1970\n",
      "  Richard Nixon, State of the Union Address, January 22, 1971\n",
      "  Richard Nixon, State of the Union Address, January 20, 1972\n",
      "  Richard Nixon, State of the Union Address, February 2, 1973\n",
      "  Richard Nixon, State of the Union Address, January 30, 1974\n",
      "  Gerald R. Ford, State of the Union Address, January 15, 1975\n",
      "  Gerald R. Ford, State of the Union Address, January 19, 1976\n",
      "  Gerald R. Ford, State of the Union Address, January 12, 1977\n",
      "  Jimmy Carter, State of the Union Address, January 19, 1978\n",
      "  Jimmy Carter, State of the Union Address, January 25, 1979\n",
      "  Jimmy Carter, State of the Union Address, January 21, 1980\n",
      "  Jimmy Carter, State of the Union Address, January 16, 1981\n",
      "  Ronald Reagan, State of the Union Address, January 26, 1982\n",
      "  Ronald Reagan, State of the Union Address, January 25, 1983\n",
      "  Ronald Reagan, State of the Union Address, January 25, 1984\n",
      "  Ronald Reagan, State of the Union Address, February 6, 1985\n",
      "  Ronald Reagan, State of the Union Address, February 4, 1986\n",
      "  Ronald Reagan, State of the Union Address, January 27, 1987\n",
      "  Ronald Reagan, State of the Union Address, January 25, 1988\n",
      "  George H.W. Bush, Address on Administration Goals, February 9, 1989\n",
      "  George H.W. Bush, State of the Union Address, January 31, 1990\n",
      "  George H.W. Bush, State of the Union Address, January 29, 1991\n",
      "  George H.W. Bush, State of the Union Address, January 28, 1992\n",
      "  William J. Clinton, Address on Administration Goals, February 17, 1993\n",
      "  William J. Clinton, State of the Union Address, January 25, 1994\n",
      "  William J. Clinton, State of the Union Address, January 24, 1995\n",
      "  William J. Clinton, State of the Union Address, January 23, 1996\n",
      "  William J. Clinton, State of the Union Address, February 4, 1997\n",
      "  William J. Clinton, State of the Union Address, January 27, 1998\n",
      "  William J. Clinton, State of the Union Address, January 19, 1999\n",
      "  William J. Clinton, State of the Union Address, January 27, 2000\n",
      "  George W. Bush, Address on Administration Goals (Budget Message), February 27, 2001\n",
      "  George W. Bush, State of the Union Address, September 20, 2001\n",
      "  George W. Bush, State of the Union Address, January 29, 2002\n",
      "  George W. Bush, State of the Union Address, January 28, 2003\n",
      "  George W. Bush, State of the Union Address, January 20, 2004\n",
      "  George W. Bush, State of the Union Address, February 2, 2005\n",
      "  George W. Bush, State of the Union Address, January 31, 2006\n",
      "  George W. Bush, State of the Union Address, January 23, 2007\n",
      "  George W. Bush, State of the Union Address, January 31, 2008\n",
      "  Barack Obama, Address Before a Joint Session of Congress, February 24, 2009\n",
      "  Barack Obama, State of the Union Address, January 27, 2010\n",
      "  Barack Obama, State of the Union Address, January 25, 2011\n",
      "  Barack Obama, State of the Union Address, January 24, 2012\n",
      "  Barack Obama, State of the Union Address, February 12, 2013\n",
      "  Barack Obama, State of the Union Address, January 28, 2014\n",
      "  Barack Obama, State of the Union Address, January 20, 2015\n",
      "  Barack Obama, State of the Union Address, January 12, 2016\n",
      "  Donald J. Trump, Address Before a Joint Session of Congress, February 27, 2017\n",
      "\n",
      "***\n",
      "\n",
      "State of the Union Address\n",
      "George Washington\n",
      "January 8, 1790\n",
      "\n",
      "Fellow-Citizens of the Senate and House of Representatives:\n",
      "\n",
      "I embrace with great satisfaction the opportunity which now presents itself\n",
      "of congratulating you on the present favorable prospects of our public\n",
      "affairs. The recent accession of the important state of North Carolina to\n",
      "the Constitution of the United States (of which official information has\n",
      "been received), the rising credit and respectability of our country, the\n",
      "general and increasing good will toward the government of the Union, and\n",
      "the concord, peace, and plenty with which we are blessed are circumstances\n",
      "auspicious in an eminent degree to our national prosperity.\n",
      "\n",
      "In resuming your consultations for the general good you can not but derive\n",
      "encouragement from the reflection that the measures of the last session\n",
      "have been as satisfactory to your constituents as the novelty and\n",
      "difficulty of the work allowed you to hope. Still further to realize their\n",
      "expectations and to secure the blessings which a gracious Providence has\n",
      "placed within our reach will in the course of the present important session\n",
      "call for the cool and deliberate exertion of your patriotism, firmness, and\n",
      "wisdom.\n",
      "\n",
      "Among the many interesting objects which will engage your attention that of\n",
      "providing for the common defense will merit particular regard. To be\n",
      "prepared for war is one of the most effectual means of preserving peace.\n",
      "\n",
      "A free people ought not only to be armed, but disciplined; to which end a\n",
      "uniform and well-digested plan is requisite; and their safety and interest\n",
      "require that they should promote such manufactories as tend to render them\n",
      "independent of others for essential, particularly military, supplies.\n",
      "\n",
      "The proper establishment of the troops which may be deemed indispensable\n",
      "will be entitled to mature consideration. In the arrangements which may be\n",
      "made respecting it it will be of importance to conciliate the comfortable\n",
      "support of the officers and soldiers with a due regard to economy.\n",
      "\n",
      "There was reason to hope that the pacific measures adopted with regard to\n",
      "certain hostile tribes of Indians would have relieved the inhabitants of\n",
      "our southern and western frontiers from their depredations, but you will\n",
      "perceive from the information contained in the papers which I shall direct\n",
      "to be laid before you (comprehending a communication from the Commonwealth\n",
      "of Virginia) that we ought to be prepared to afford protection to those\n",
      "parts of the Union, and, if necessary, to punish aggressors.\n",
      "\n",
      "The interests of the United States require that our intercourse with other\n",
      "nations should be facilitated by such provisions as will enable me to\n",
      "fulfill my duty in that respect in the manner which circumstances may\n",
      "render most conducive to the public good, and to this end that the\n",
      "compensation to be made to the persons who may be employed should,\n",
      "according to the nature of their appointments, be defined by law, and a\n",
      "competent fund designated for defraying the expenses incident to the\n",
      "conduct of foreign affairs.\n",
      "\n",
      "Various considerations also render it expedient that the terms on which\n",
      "foreigners may be admitted to the rights of citizens should be speedily\n",
      "ascertained by a uniform rule of naturalization.\n",
      "\n",
      "Uniformity in the currency, weights, and measures of the United States is\n",
      "an object of great importance, and will, I am persuaded, be duly attended\n",
      "to.\n",
      "\n",
      "The advancement of agriculture, commerce, and manufactures by all proper\n",
      "means will not, I trust, need recommendation; but I can not forbear\n",
      "intimating to you the expediency of giving effectual encouragement as well\n",
      "to the introduction of new and useful inventions from abroad as to the\n",
      "exertions of skill and genius in producing them at home, and of\n",
      "facilitating the intercourse between the distant parts of our country by a\n",
      "due attention to the post-office and post-roads.\n",
      "\n",
      "Nor am I less persuaded that you will agree with me in opinion that there\n",
      "is nothing which can better deserve your patronage than the promotion of\n",
      "science and literature. Knowledge is in every country the surest basis of\n",
      "public happiness. In one in which the measures of government receive their\n",
      "impressions so immediately from the sense of the community as in ours it is\n",
      "proportionably essential.\n",
      "\n",
      "To the security of a free constitution it contributes in various ways--by\n",
      "convincing those who are intrusted with the public administration that\n",
      "every valuable end of government is best answered by the enlightened\n",
      "confidence of the people, and by teaching the people themselves to know and\n",
      "to value their own rights; to discern and provide against invasions of\n",
      "them; to distinguish between oppression and the necessary exercise of\n",
      "lawful authority; between burthens proceeding from a disregard to their\n",
      "convenience and those resulting from the inevitable exigencies of society;\n",
      "to discriminate the spirit of liberty from that of licentiousness--\n",
      "cherishing the first, avoiding the last--and uniting a speedy but\n",
      "temperate vigilance against encroachments, with an inviolable respect to\n",
      "the laws.\n",
      "\n",
      "Whether this desir\n"
     ]
    }
   ],
   "source": [
    "print(sotu[:20000])"
   ]
  },
  {
   "cell_type": "code",
   "execution_count": 63,
   "metadata": {},
   "outputs": [],
   "source": [
    "speeches = sotu.split('\\n***\\n')[1:]"
   ]
  },
  {
   "cell_type": "code",
   "execution_count": 67,
   "metadata": {},
   "outputs": [],
   "source": [
    "len(speeches)\n",
    "import re"
   ]
  },
  {
   "cell_type": "code",
   "execution_count": 68,
   "metadata": {},
   "outputs": [],
   "source": [
    "def extract_struct(speech):\n",
    "    L = speech.strip().split('\\n', maxsplit=3)\n",
    "    L[3] = re.sub(\"[^A-Za-z' ]\", ' ', L[3]).lower()\n",
    "    return dict(zip(['speech', 'president', 'date', 'contents'], L))"
   ]
  },
  {
   "cell_type": "code",
   "execution_count": 69,
   "metadata": {},
   "outputs": [],
   "source": [
    "df = pd.DataFrame(list(map(extract_struct, speeches)))"
   ]
  },
  {
   "cell_type": "code",
   "execution_count": 70,
   "metadata": {},
   "outputs": [
    {
     "data": {
      "text/html": [
       "<div>\n",
       "<style scoped>\n",
       "    .dataframe tbody tr th:only-of-type {\n",
       "        vertical-align: middle;\n",
       "    }\n",
       "\n",
       "    .dataframe tbody tr th {\n",
       "        vertical-align: top;\n",
       "    }\n",
       "\n",
       "    .dataframe thead th {\n",
       "        text-align: right;\n",
       "    }\n",
       "</style>\n",
       "<table border=\"1\" class=\"dataframe\">\n",
       "  <thead>\n",
       "    <tr style=\"text-align: right;\">\n",
       "      <th></th>\n",
       "      <th>speech</th>\n",
       "      <th>president</th>\n",
       "      <th>date</th>\n",
       "      <th>contents</th>\n",
       "    </tr>\n",
       "  </thead>\n",
       "  <tbody>\n",
       "    <tr>\n",
       "      <th>0</th>\n",
       "      <td>State of the Union Address</td>\n",
       "      <td>George Washington</td>\n",
       "      <td>January 8, 1790</td>\n",
       "      <td>fellow citizens of the senate and house of re...</td>\n",
       "    </tr>\n",
       "    <tr>\n",
       "      <th>1</th>\n",
       "      <td>State of the Union Address</td>\n",
       "      <td>George Washington</td>\n",
       "      <td>December 8, 1790</td>\n",
       "      <td>fellow citizens of the senate and house of re...</td>\n",
       "    </tr>\n",
       "    <tr>\n",
       "      <th>2</th>\n",
       "      <td>State of the Union Address</td>\n",
       "      <td>George Washington</td>\n",
       "      <td>October 25, 1791</td>\n",
       "      <td>fellow citizens of the senate and house of re...</td>\n",
       "    </tr>\n",
       "    <tr>\n",
       "      <th>3</th>\n",
       "      <td>State of the Union Address</td>\n",
       "      <td>George Washington</td>\n",
       "      <td>November 6, 1792</td>\n",
       "      <td>fellow citizens of the senate and house of re...</td>\n",
       "    </tr>\n",
       "    <tr>\n",
       "      <th>4</th>\n",
       "      <td>State of the Union Address</td>\n",
       "      <td>George Washington</td>\n",
       "      <td>December 3, 1793</td>\n",
       "      <td>fellow citizens of the senate and house of re...</td>\n",
       "    </tr>\n",
       "    <tr>\n",
       "      <th>...</th>\n",
       "      <td>...</td>\n",
       "      <td>...</td>\n",
       "      <td>...</td>\n",
       "      <td>...</td>\n",
       "    </tr>\n",
       "    <tr>\n",
       "      <th>222</th>\n",
       "      <td>State of the Union Address</td>\n",
       "      <td>Barack Obama</td>\n",
       "      <td>February 12, 2013</td>\n",
       "      <td>mr  speaker  mr  vice president  members of c...</td>\n",
       "    </tr>\n",
       "    <tr>\n",
       "      <th>223</th>\n",
       "      <td>State of the Union Address</td>\n",
       "      <td>Barack Obama</td>\n",
       "      <td>January 28, 2014</td>\n",
       "      <td>the president  mr  speaker  mr  vice presiden...</td>\n",
       "    </tr>\n",
       "    <tr>\n",
       "      <th>224</th>\n",
       "      <td>State of the Union Address</td>\n",
       "      <td>Barack Obama</td>\n",
       "      <td>January 20, 2015</td>\n",
       "      <td>the president  mr  speaker  mr  vice presiden...</td>\n",
       "    </tr>\n",
       "    <tr>\n",
       "      <th>225</th>\n",
       "      <td>State of the Union Address</td>\n",
       "      <td>Barack Obama</td>\n",
       "      <td>January 12, 2016</td>\n",
       "      <td>thank you  mr  speaker  mr  vice president  m...</td>\n",
       "    </tr>\n",
       "    <tr>\n",
       "      <th>226</th>\n",
       "      <td>State of the Union Address</td>\n",
       "      <td>Donald J. Trump</td>\n",
       "      <td>February 27, 2017</td>\n",
       "      <td>thank you very much  mr  speaker  mr  vice pr...</td>\n",
       "    </tr>\n",
       "  </tbody>\n",
       "</table>\n",
       "<p>227 rows × 4 columns</p>\n",
       "</div>"
      ],
      "text/plain": [
       "                         speech          president               date  \\\n",
       "0    State of the Union Address  George Washington    January 8, 1790   \n",
       "1    State of the Union Address  George Washington   December 8, 1790   \n",
       "2    State of the Union Address  George Washington   October 25, 1791   \n",
       "3    State of the Union Address  George Washington   November 6, 1792   \n",
       "4    State of the Union Address  George Washington   December 3, 1793   \n",
       "..                          ...                ...                ...   \n",
       "222  State of the Union Address       Barack Obama  February 12, 2013   \n",
       "223  State of the Union Address       Barack Obama   January 28, 2014   \n",
       "224  State of the Union Address       Barack Obama   January 20, 2015   \n",
       "225  State of the Union Address       Barack Obama   January 12, 2016   \n",
       "226  State of the Union Address  Donald J. Trump    February 27, 2017   \n",
       "\n",
       "                                              contents  \n",
       "0     fellow citizens of the senate and house of re...  \n",
       "1     fellow citizens of the senate and house of re...  \n",
       "2     fellow citizens of the senate and house of re...  \n",
       "3     fellow citizens of the senate and house of re...  \n",
       "4     fellow citizens of the senate and house of re...  \n",
       "..                                                 ...  \n",
       "222   mr  speaker  mr  vice president  members of c...  \n",
       "223   the president  mr  speaker  mr  vice presiden...  \n",
       "224   the president  mr  speaker  mr  vice presiden...  \n",
       "225   thank you  mr  speaker  mr  vice president  m...  \n",
       "226   thank you very much  mr  speaker  mr  vice pr...  \n",
       "\n",
       "[227 rows x 4 columns]"
      ]
     },
     "execution_count": 70,
     "metadata": {},
     "output_type": "execute_result"
    }
   ],
   "source": [
    "df"
   ]
  },
  {
   "cell_type": "code",
   "execution_count": 71,
   "metadata": {},
   "outputs": [],
   "source": [
    "words = pd.Series(df.contents.str.split().sum())"
   ]
  },
  {
   "cell_type": "code",
   "execution_count": 72,
   "metadata": {},
   "outputs": [],
   "source": [
    "tfidf = pd.DataFrame([], index=df.index)  # dataframe of documents\n",
    "tf_denom = (df.contents.str.count(' ') + 1)\n",
    "for w in words.value_counts().iloc[0:500].index:\n",
    "    # imperfect pattern match for speed\n",
    "    re_pat = ' %s ' % w\n",
    "    tf = df.contents.str.count(re_pat) / tf_denom\n",
    "    idf = np.log(len(df) / df.contents.str.contains(re_pat).sum())\n",
    "    tfidf[w] =  tf * idf"
   ]
  },
  {
   "cell_type": "code",
   "execution_count": null,
   "metadata": {},
   "outputs": [],
   "source": [
    "tfidf.head()"
   ]
  },
  {
   "cell_type": "code",
   "execution_count": null,
   "metadata": {},
   "outputs": [],
   "source": [
    "summaries = tfidf.idxmax(axis=1)\n",
    "summaries"
   ]
  },
  {
   "cell_type": "code",
   "execution_count": null,
   "metadata": {},
   "outputs": [],
   "source": [
    "pd.concat([summaries, df.president], axis=1).groupby('president').apply(lambda x:x[0].unique())"
   ]
  },
  {
   "cell_type": "code",
   "execution_count": null,
   "metadata": {},
   "outputs": [],
   "source": []
  }
 ],
 "metadata": {
  "celltoolbar": "Slideshow",
  "kernelspec": {
   "display_name": "Python 3",
   "language": "python",
   "name": "python3"
  },
  "language_info": {
   "codemirror_mode": {
    "name": "ipython",
    "version": 3
   },
   "file_extension": ".py",
   "mimetype": "text/x-python",
   "name": "python",
   "nbconvert_exporter": "python",
   "pygments_lexer": "ipython3",
   "version": "3.7.6"
  },
  "livereveal": {
   "scroll": true,
   "transition": "none"
  }
 },
 "nbformat": 4,
 "nbformat_minor": 2
}
