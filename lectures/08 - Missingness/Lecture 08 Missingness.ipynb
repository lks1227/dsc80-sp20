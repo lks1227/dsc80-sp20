{
 "cells": [
  {
   "cell_type": "code",
   "execution_count": null,
   "metadata": {},
   "outputs": [],
   "source": [
    "%matplotlib inline\n",
    "\n",
    "import numpy as np\n",
    "import pandas as pd\n",
    "import matplotlib.pyplot as plt\n",
    "import seaborn as sns\n",
    "\n",
    "import warnings\n",
    "warnings.filterwarnings(\"ignore\")\n",
    "\n",
    "# set defaults\n",
    "plt.style.use('seaborn-white')   # seaborn custom plot style\n",
    "plt.rc('figure', dpi=100, figsize=(7, 5))   # set default size/resolution\n",
    "plt.rc('font', size=12)   # font size"
   ]
  },
  {
   "cell_type": "markdown",
   "metadata": {
    "slideshow": {
     "slide_type": "slide"
    }
   },
   "source": [
    "# Lecture 8\n",
    "\n",
    "### Missingness Mechansisms"
   ]
  },
  {
   "cell_type": "markdown",
   "metadata": {
    "slideshow": {
     "slide_type": "slide"
    }
   },
   "source": [
    "## Imperfect Data\n",
    "\n",
    "<img src=\"imgs/image_0.png\">\n",
    "\n",
    "* The \"true\" (probability) model is an idealized approximation of the Data Generating Process.\n",
    "* The data generating process is the phenomenon we want to understand.\n",
    "* The recorded data is *supposed* to \"well represent\" the data generating process."
   ]
  },
  {
   "cell_type": "markdown",
   "metadata": {
    "slideshow": {
     "slide_type": "slide"
    }
   },
   "source": [
    "## Imperfect Data\n",
    "\n",
    "<img src=\"imgs/image_1.png\">\n",
    "\n",
    "* Problem 1: your data is not representative? (poor sample of events).\n",
    "* Problem 2: your recording process is incomplete.\n",
    "\n",
    "These are only problems when there is *systematic bias* in the result!"
   ]
  },
  {
   "cell_type": "markdown",
   "metadata": {
    "slideshow": {
     "slide_type": "slide"
    }
   },
   "source": [
    "## Imperfect Data\n",
    "\n",
    "* Non-representative samples are identified with domain research!\n",
    "    - Does the description of the data look like your understanding of the data generating process? (Salaries are only for tech people)\n",
    "* Incomplete measurements are missing data!\n",
    "    - Understanding how *portions* of your data are missing affects the quality of your sample.\n",
    "    - There are techniques to understand when missing measurements are representative of the rest of the sample."
   ]
  },
  {
   "cell_type": "markdown",
   "metadata": {
    "slideshow": {
     "slide_type": "slide"
    }
   },
   "source": [
    "# Understanding How Data is Absent\n",
    "\n",
    "* Missing by Design (MD), no randomness\n",
    "    \n",
    "* Ignorable Missing Data:\n",
    "    - Unconditionally ignorable (Missing Completely at Random: MCAR)\n",
    "    - Conditionally ignorable (Missing at Random: MAR)\n",
    "    \n",
    "* Non-Ignorable Missing Data (Not Missing at Random: NMAR)\n",
    "\n",
    "[(see wikipedia synopsis)](https://en.wikipedia.org/wiki/Missing_data)"
   ]
  },
  {
   "cell_type": "markdown",
   "metadata": {
    "slideshow": {
     "slide_type": "slide"
    }
   },
   "source": [
    "## Missing by Design (MD)\n",
    "\n",
    "<div class=\"image-txt-container\">\n",
    "    \n",
    "\n",
    "* The field being absent is deterministic. \n",
    "* A function of the rows of the dataset that can:\n",
    "    - exactly predict when a colum will be null,\n",
    "    - with only knowledge of the other columns.\n",
    "\n",
    "\n",
    "<img src=\"imgs/skiplogic.png\"/>\n",
    "\n",
    "</div>\n",
    "\n",
    "* Example: Police dataset: \"Contraband found\" and \"Searched\"\n",
    "\n",
    "    \n",
    "[(reference)](https://stats.stackexchange.com/questions/201782/meaning-of-missing-by-design-in-longitudinal-studies)"
   ]
  },
  {
   "cell_type": "markdown",
   "metadata": {
    "slideshow": {
     "slide_type": "slide"
    }
   },
   "source": [
    "# Unconditionally ignorable (MCAR: missing completely at random)\n",
    "\n",
    "<div class=\"image-txt-container\">\n",
    "\n",
    "* The missing value isn't associated to the (actual, unreported) value itself, nor the values in any other fields.\n",
    "* The missingness is unconditionally uniform across rows.\n",
    "* Example 1: follow-up survey questions on a random sample of respondents.\n",
    "* Example 2: Water damage to paper forms prior to entry (assuming shuffled forms).\n",
    "\n",
    "<img src=\"imgs/water.jpg\" width=\"50%\"/>\n",
    "\n",
    "</div>"
   ]
  },
  {
   "cell_type": "markdown",
   "metadata": {
    "slideshow": {
     "slide_type": "slide"
    }
   },
   "source": [
    "# Conditionally Ignorable (MAR: Missing at Random)\n",
    "\n",
    "<div class=\"image-txt-container\">\n",
    "\n",
    "* A missing value may depend only on values of other fields, but not its own.\n",
    "* The missingness is uniform across rows, perhaps conditional on another column.\n",
    "* Example 1: For really sick patients, clinicians may not draw blood for routine labs.\n",
    "* Example 2: People working in a Service Industry are less likely to report their income. (job type and salary columns)\n",
    "\n",
    "<img src=\"imgs/tip.jpg\" width=\"50%\"/>\n",
    "\n",
    "</div>"
   ]
  },
  {
   "cell_type": "markdown",
   "metadata": {
    "slideshow": {
     "slide_type": "slide"
    }
   },
   "source": [
    "# Non-Ignorable (NMAR: Not missing at Random), can't model from the data\n",
    "\n",
    "* A missing value depends on the value of the (actual, unreported) variable that's missing.\n",
    "* Example 1: people with high income are less likely to report income.\n",
    "* Example 2: a person doesn't take a drug test because they took drugs the day before.\n"
   ]
  },
  {
   "cell_type": "markdown",
   "metadata": {
    "slideshow": {
     "slide_type": "slide"
    }
   },
   "source": [
    "### Discussion Questions\n",
    "\n",
    "For each of the following datasets, decide whether they are MD, MCAR, MAR, NMAR:\n",
    "\n",
    "* Self-reported income in the *follow-up* questionnaire of the census.\n",
    "* A table (for a medical study) with column `gender` and column `age`. Age has missing values.\n",
    "* Measurements from the Hubble Space Telescope (dropped data during transmission).\n",
    "* The serial number of returned Macbook Pros, in a table of order information. \n",
    "* SAT scores reported by an institution for College Ranking scores.\n",
    "* A table with a single column: self-reported education (with missing values).\n",
    "* Midterm report with three columns (`ver.1`, `ver.2`, `ver.3`). ⅔ of the entries in the report are `NaN`.\n",
    "\n"
   ]
  },
  {
   "cell_type": "markdown",
   "metadata": {
    "slideshow": {
     "slide_type": "slide"
    }
   },
   "source": [
    "### Diagnosis of missingness:\n",
    "\n",
    "* Depends on the dataset and its attributes.\n",
    "* Depends on the population / data generating processing under consideration.\n",
    "* Requires understanding the severity and effect of each possible type of missingness.\n",
    "\n",
    "Data with missing data is likely not a representative sample of the true population! "
   ]
  },
  {
   "cell_type": "markdown",
   "metadata": {
    "slideshow": {
     "slide_type": "slide"
    }
   },
   "source": [
    "##  Missing Summary\n",
    "\n",
    "* **MCAR**: Data is *Unconditionally Ignorable* or *Missing Completely at Random* if there is no relationship between the missingness of the data and any values, observed or missing.\n",
    "    - MCAR doesn't bias the observed data.\n",
    "\n",
    "* **MAR**:  Data is *conditionally ignorable* or *Missing at Random* if there is a systematic relationship between the propensity of missing values and the observed data, but not the missing data. \n",
    "    - MAR biases the observed data, but is fixable.\n",
    "\n",
    "* **NMAR**: Data is *non-ignorable* or *\"Not Missing at Random\"* if there is a relationship between the propensity of a value to be missing and its values.\n",
    "    - non-ignorable missing data biases the observed data in unobservable ways."
   ]
  },
  {
   "cell_type": "markdown",
   "metadata": {
    "slideshow": {
     "slide_type": "slide"
    }
   },
   "source": [
    "## Unconditionally Ignorable (MCAR) definition:\n",
    "\n",
    "Suppose we have:\n",
    "- a dataset $Y$ with observed values $Y_{obs}$ and missing values $Y_{mis}$.\n",
    "- a parameter $\\psi$ independent of the dataset. (something in the process)\n",
    "\n",
    "**MCAR**: Data is *Unconditionally ignorable* if \n",
    "\n",
    "$$Pr({\\rm data\\ is\\ present\\ } | Y_{obs}, Y_{mis}, \\psi) = Pr({\\rm data\\ is\\ present\\ } |\\ \\psi)$$\n",
    "\n",
    "That is, adding information on the dataset doesn't change likelihood data is missing!"
   ]
  },
  {
   "cell_type": "markdown",
   "metadata": {
    "slideshow": {
     "slide_type": "slide"
    }
   },
   "source": [
    "## Conditionally ignorable (MAR) definition\n",
    "\n",
    "Suppose we have:\n",
    "- a dataset $Y$ with observed values $Y_{obs}$ and missing values $Y_{mis}$.\n",
    "- a parameter $\\psi$ independent of the dataset.\n",
    "\n",
    "\n",
    "**MAR**: Data is *Conditionally ignorable* if \n",
    "\n",
    "$$Pr({\\rm data\\ is\\ present\\ } | Y_{obs}, Y_{mis}, \\psi) = Pr({\\rm data\\ is\\ present\\ } |\\ Y_{obs}, \\psi)$$\n",
    "\n",
    "That is, *MAR data is actually MCAR, conditional on $Y_{obs}$*"
   ]
  },
  {
   "cell_type": "markdown",
   "metadata": {
    "slideshow": {
     "slide_type": "slide"
    }
   },
   "source": [
    "## Non-ignorable missing data (NMAR ) definition\n",
    "\n",
    "Suppose we have:\n",
    "- a dataset $Y$ with observed values $Y_{obs}$ and missing values $Y_{mis}$.\n",
    "- a parameter $\\psi$ independent of the dataset.\n",
    "\n",
    "\n",
    "**NMAR**: Data is *non-ignorably missing* if \n",
    "\n",
    "$$Pr({\\rm data\\ is\\ present\\ }| Y_{obs}, Y_{mis}, \\psi)$$\n",
    "\n",
    "does not simplify. That is, in NMAR data, missingness is dependent on the missing value itself."
   ]
  },
  {
   "cell_type": "markdown",
   "metadata": {
    "slideshow": {
     "slide_type": "slide"
    }
   },
   "source": [
    "## How to assess the mechanism of missingness: NMAR\n",
    "* Cannot determine NMAR from the data alone; it depends on the unobserved.\n",
    "* Must be reasoned by the data generating process, or more data should be collected.\n",
    "* How strong the dependence on $Y_{mis}$ influences the strength of NMAR\n",
    "    - If the dependence on the missing values is weak, then *most* the missingness is explainable by observed values!"
   ]
  },
  {
   "cell_type": "markdown",
   "metadata": {},
   "source": [
    "### Discussion Question\n",
    "\n",
    "* Consider a dataset of survey data of people's self-reported weights.\n",
    "    - The data contain an identifier and weight; nothing else.\n",
    "* Is the data likely NMAR? Why?\n",
    "* What data might you collect to make it not NMAR?"
   ]
  },
  {
   "cell_type": "markdown",
   "metadata": {
    "slideshow": {
     "slide_type": "slide"
    }
   },
   "source": [
    "## How to assess the mechanism of missingness: MAR\n",
    "\n",
    "* Data are MAR if missingness only depends on *obsvered* data.\n",
    "* Data is MAR if it's determined to not be NMAR (assumption on data generating process).\n",
    "* Adding further measurements may reduce the effect of NMAR.\n",
    "    - income in census is NMAR; less so when adding geography, education, race..."
   ]
  },
  {
   "cell_type": "markdown",
   "metadata": {
    "slideshow": {
     "slide_type": "slide"
    }
   },
   "source": [
    "## How to assess the mechanism of missingness: MCAR\n",
    "\n",
    "Given the assumption of MAR, you can test if a data are MCAR.\n",
    "\n",
    "A column `c_test` is MCAR if its missingness $R$ is independent of the data.\n",
    "* For each column `c`, check that the missingness rates of `c_test` are the same across values of `c`.\n",
    "* That is, the distribution of `c` when `c_test.isnull()` is 'the same' as the distribution of `c` when `c_test.notnull()`.\n",
    "* The phrase 'the same' needs to be made statistically precise!"
   ]
  },
  {
   "cell_type": "markdown",
   "metadata": {
    "slideshow": {
     "slide_type": "slide"
    }
   },
   "source": [
    "### Checking data are MCAR: heights data\n",
    "* Start with complete dataset of child heights, sex of the child, and parent heights.\n",
    "* Blank out rows to create MCAR data."
   ]
  },
  {
   "cell_type": "code",
   "execution_count": null,
   "metadata": {},
   "outputs": [],
   "source": [
    "heights = pd.read_csv('data/galton.csv')\n",
    "\n",
    "heights['child'] = heights.childHeight\n",
    "heights = heights.drop(['family', 'midparentHeight', 'children', 'childNum', 'childHeight'], axis=1)\n",
    "heights.head()"
   ]
  },
  {
   "cell_type": "code",
   "execution_count": null,
   "metadata": {},
   "outputs": [],
   "source": [
    "heights.isnull().mean()"
   ]
  },
  {
   "cell_type": "code",
   "execution_count": null,
   "metadata": {},
   "outputs": [],
   "source": [
    "# What are the data types?\n",
    "# Gender: categorical\n",
    "# father, mother and child: numerical"
   ]
  },
  {
   "cell_type": "code",
   "execution_count": null,
   "metadata": {},
   "outputs": [],
   "source": [
    "# distribution of heights\n",
    "pd.plotting.scatter_matrix(heights.drop('gender', axis=1));"
   ]
  },
  {
   "cell_type": "code",
   "execution_count": null,
   "metadata": {},
   "outputs": [],
   "source": [
    "# create missing data\n",
    "# How was it created?\n",
    "np.random.seed(42)\n",
    "\n",
    "heights_mcar = heights.copy()\n",
    "idx = heights_mcar.sample(frac=0.3).index\n",
    "heights_mcar.loc[idx, 'child'] = np.NaN"
   ]
  },
  {
   "cell_type": "code",
   "execution_count": null,
   "metadata": {},
   "outputs": [],
   "source": [
    "heights_mcar.isnull().mean()"
   ]
  },
  {
   "cell_type": "markdown",
   "metadata": {
    "slideshow": {
     "slide_type": "slide"
    }
   },
   "source": [
    "### Verifying that child heights are MCAR in `heights_mcar`\n",
    "* Check the data look the 'same' when `height` is null vs not-null\n",
    "    - Is the empirical distribution of gender similar for null/not-null?\n",
    "    - Is the empirical distribution of heights similar for null/not-null?"
   ]
  },
  {
   "cell_type": "code",
   "execution_count": null,
   "metadata": {},
   "outputs": [],
   "source": [
    "heights_mcar.sample(n=10)"
   ]
  },
  {
   "cell_type": "code",
   "execution_count": null,
   "metadata": {},
   "outputs": [],
   "source": [
    "# conditinal empirical distribution of gender by null and not-null\n",
    "\n",
    "distr = (\n",
    "    heights_mcar\n",
    "    .assign(is_null=heights_mcar.child.isnull())\n",
    "    .pivot_table(index='is_null', columns='gender', aggfunc='size')\n",
    "    .apply(lambda x:x / x.sum(), axis=1)\n",
    ")\n",
    "distr\n",
    "\n",
    "# rows add up to 1, proportion of male/female"
   ]
  },
  {
   "cell_type": "markdown",
   "metadata": {
    "slideshow": {
     "slide_type": "slide"
    }
   },
   "source": [
    "### Comparing Null vs. Non-Null (`child`) distributions: `gender`\n",
    "\n",
    "* Are the distributions 'similar enough'? \n",
    "    - If yes, then missingness of `child` is *not* dependent on `gender`\n",
    "* We have \n",
    "    - two groups: missing and not missing\n",
    "    - We have distribution for these two groups\n",
    "    - Are these distributions similar?\n",
    "* Use a permutation test to assess the two distributions are similar.\n",
    "* For categorical columns, use TVD as the test-statistic."
   ]
  },
  {
   "cell_type": "code",
   "execution_count": null,
   "metadata": {},
   "outputs": [],
   "source": [
    "distr.T.plot(kind='bar');"
   ]
  },
  {
   "cell_type": "code",
   "execution_count": null,
   "metadata": {},
   "outputs": [],
   "source": [
    "n_repetitions = 500\n",
    "\n",
    "tvds = []\n",
    "for _ in range(n_repetitions):\n",
    "    \n",
    "    # shuffle the gender column\n",
    "    shuffled_col = (\n",
    "        heights_mcar['gender']\n",
    "        .sample(replace=False, frac=1)\n",
    "        .reset_index(drop=True)\n",
    "    )\n",
    "    \n",
    "    # put them in a table\n",
    "    shuffled = (\n",
    "        heights_mcar\n",
    "        .assign(**{\n",
    "            'gender': shuffled_col,\n",
    "            'is_null': heights_mcar['child'].isnull()\n",
    "        })\n",
    "    )\n",
    "    \n",
    "    # compute the tvd\n",
    "    shuffled = (\n",
    "        shuffled\n",
    "        .pivot_table(index='is_null', columns='gender', aggfunc='size')\n",
    "        .apply(lambda x:x / x.sum(), axis=1)\n",
    "    )\n",
    "    \n",
    "    tvd = shuffled.diff().iloc[-1].abs().sum() / 2\n",
    "    # add it to the list of results\n",
    "    \n",
    "    tvds.append(tvd)"
   ]
  },
  {
   "cell_type": "code",
   "execution_count": null,
   "metadata": {},
   "outputs": [],
   "source": [
    "obs = distr.diff().iloc[-1].abs().sum() / 2\n",
    "obs"
   ]
  },
  {
   "cell_type": "code",
   "execution_count": null,
   "metadata": {},
   "outputs": [],
   "source": [
    "# The similrity is very high\n",
    "pval = np.mean(tvds > obs)\n",
    "pd.Series(tvds).plot(kind='hist', density=True, alpha=0.8, title='p-value: %f' % pval)\n",
    "plt.scatter(obs, 0, color='red', s=40);"
   ]
  },
  {
   "cell_type": "markdown",
   "metadata": {
    "slideshow": {
     "slide_type": "slide"
    }
   },
   "source": [
    "### Comparing Null vs. Non-Null (`child` height) distributions: `father` (height)\n",
    "\n",
    "* Are the distributions 'similar enough'? \n",
    "    - If yes, then missingness of `child` is *not* dependent on height of `father`.\n",
    "    - If no, then e.g. taller fathers are more likely to not report child height.\n",
    "* In this case, it's 'clear' the distributions are similar."
   ]
  },
  {
   "cell_type": "code",
   "execution_count": null,
   "metadata": {},
   "outputs": [],
   "source": [
    "# heights: counts\n",
    "# how much child data is missing?\n",
    "# Shape? \n",
    "(\n",
    "    heights_mcar\n",
    "    .assign(is_null=heights_mcar.child.isnull())\n",
    "    .groupby('is_null')\n",
    "    .father\n",
    "    .plot(kind='hist', legend=True, title='father height by missingness of child height')\n",
    ");"
   ]
  },
  {
   "cell_type": "code",
   "execution_count": null,
   "metadata": {},
   "outputs": [],
   "source": [
    "# heights: distributions\n",
    "(\n",
    "    heights_mcar\n",
    "    .assign(is_null=heights_mcar.child.isnull())\n",
    "    .groupby('is_null')\n",
    "    .father\n",
    "    .plot(kind='kde', legend=True, title='father height by missingness of child height')\n",
    ");"
   ]
  },
  {
   "cell_type": "markdown",
   "metadata": {
    "slideshow": {
     "slide_type": "slide"
    }
   },
   "source": [
    "### Child heights data: MAR\n",
    "* MAR is an *assumption* from the data\n",
    "    - Is it reasonable to assume that a missing `child` height is explainable using the gender of the child and the height of the parents?\n",
    "* Once MAR is assumed, can show data is *not* MCAR\n",
    "    - Show how missingness of `child` depends on other columns."
   ]
  },
  {
   "cell_type": "code",
   "execution_count": null,
   "metadata": {},
   "outputs": [],
   "source": [
    "# build MAR dataset\n",
    "# blank rows based on conditions\n",
    "\n",
    "\n",
    "heights_mar = heights.copy()\n",
    "for i, row in heights.iterrows():\n",
    "    rand = np.random.uniform()\n",
    "    if (row['father'] > 72) and rand < 0.5:\n",
    "        heights_mar.loc[i, 'child'] = np.NaN\n",
    "    elif (row['gender'] == 'female') and rand > 0.7:\n",
    "        heights_mar.loc[i, 'child'] = np.NaN\n"
   ]
  },
  {
   "cell_type": "code",
   "execution_count": null,
   "metadata": {},
   "outputs": [],
   "source": [
    "# different missingness rates -- not MCAR\n",
    "\n",
    "distr = (\n",
    "    heights_mar\n",
    "    .assign(is_null=heights_mar.child.isnull())\n",
    "    .pivot_table(index='is_null', columns='gender', aggfunc='size')\n",
    "    .apply(lambda x:x / x.sum(), axis=1)\n",
    ")\n",
    "distr.T.plot(kind='bar', title='Distribution of Gender when child height is null/not-null');"
   ]
  },
  {
   "cell_type": "code",
   "execution_count": null,
   "metadata": {},
   "outputs": [],
   "source": [
    "# How is it going to affect the stats of the child hights?\n",
    "# It is going to create bias upward (larger than usual), \n",
    "# because women are shorter than man"
   ]
  },
  {
   "cell_type": "code",
   "execution_count": null,
   "metadata": {},
   "outputs": [],
   "source": [
    "# Different missingness rates -- not MCAR\n",
    "# Distribution of fathers heights when child's height is null/not null \n",
    "# Why is the right side of the graph different?\n",
    "\n",
    "(\n",
    "    heights_mar\n",
    "    .assign(is_null=heights_mar.child.isnull())\n",
    "    .groupby('is_null')\n",
    "    .father\n",
    "    .plot(kind='kde', legend=True, title='father height by missingness of child height')\n",
    ");"
   ]
  },
  {
   "cell_type": "markdown",
   "metadata": {
    "slideshow": {
     "slide_type": "slide"
    }
   },
   "source": [
    "### Missingness of `child` attribute: MAR case\n",
    "\n",
    "* The distributions above are clearly different.\n",
    "* What if their similarity was harder to determine? \n",
    "    - Permutation Test: are the distributions of column `X` when `child` is Null/Not-Null different?\n",
    "* For dependence on a categorical attribute: use TVD for the test-statistic.\n",
    "* For dependence on a quantitative attribute: ???"
   ]
  },
  {
   "cell_type": "markdown",
   "metadata": {
    "slideshow": {
     "slide_type": "slide"
    }
   },
   "source": [
    "## When are two quantitative distributions 'the same'?\n",
    "* Need a way to measure the 'distance' between distributions (i.e. a statistic)\n",
    "* Are the differences in these distributions due to noise? or significant?\n",
    "* Attempt #1:\n",
    "    - If two distributions have different means, then they're likely different distributions!\n",
    "    - Run a permutation test for differences in means."
   ]
  },
  {
   "cell_type": "code",
   "execution_count": null,
   "metadata": {},
   "outputs": [],
   "source": [
    "(\n",
    "    heights_mar\n",
    "    .assign(is_null=heights_mar.child.isnull())\n",
    "    .groupby('is_null')\n",
    "    .father\n",
    "    .plot(kind='kde', legend=True, title='father height by missingness of child height')\n",
    ");"
   ]
  },
  {
   "cell_type": "code",
   "execution_count": null,
   "metadata": {},
   "outputs": [],
   "source": [
    "n_repetitions = 500\n",
    "\n",
    "means = []\n",
    "for _ in range(n_repetitions):\n",
    "    \n",
    "    # shuffle the gender column\n",
    "    shuffled_col = (\n",
    "        heights_mar['father']\n",
    "        .sample(replace=False, frac=1)\n",
    "        .reset_index(drop=True)\n",
    "    )\n",
    "    \n",
    "    # put them in a table\n",
    "    shuffled = (\n",
    "        heights_mar\n",
    "        .assign(**{\n",
    "            'father': shuffled_col,\n",
    "            'is_null': heights_mar['child'].isnull()\n",
    "        })\n",
    "    )\n",
    "    \n",
    "    # compute the differences in means\n",
    "    mean = shuffled.groupby('is_null')['father'].mean().diff().abs().iloc[-1]\n",
    "    \n",
    "    means.append(mean)"
   ]
  },
  {
   "cell_type": "code",
   "execution_count": null,
   "metadata": {},
   "outputs": [],
   "source": [
    "obs = heights_mar.assign(is_null=heights_mar['child'].isnull()).groupby('is_null')['father'].mean().diff().abs().iloc[-1]"
   ]
  },
  {
   "cell_type": "code",
   "execution_count": null,
   "metadata": {},
   "outputs": [],
   "source": [
    "pval = np.mean(means > obs)\n",
    "pd.Series(means).plot(kind='hist', density=True, alpha=0.8, title='p-value: %f' % pval)\n",
    "plt.scatter(obs, 0, color='red', s=40);"
   ]
  },
  {
   "cell_type": "markdown",
   "metadata": {
    "slideshow": {
     "slide_type": "slide"
    }
   },
   "source": [
    "### Discussion Question\n",
    "\n",
    "* We determined that two distributions were likely different because their means were different.\n",
    "* Can you think of two *different* distributions with the same mean?\n",
    "* What would our permutation test say about these distributions?"
   ]
  },
  {
   "cell_type": "markdown",
   "metadata": {
    "slideshow": {
     "slide_type": "slide"
    }
   },
   "source": [
    "### Different distributions; same mean\n",
    "\n",
    "What does a permutation test using the test-statistic \"difference in means\" differentiate between distributions with similar means?"
   ]
  },
  {
   "cell_type": "code",
   "execution_count": null,
   "metadata": {},
   "outputs": [],
   "source": [
    "N = 1000 # number of samples for each distribution\n",
    "\n",
    "# Distribution 'A'\n",
    "a = pd.Series(np.random.normal(0, 1, size=N//2))\n",
    "b = pd.Series(np.random.normal(4, 1, size=N//2))\n",
    "distr1 = pd.concat([a,b], ignore_index=True)\n",
    "\n",
    "# Distribution 'B'\n",
    "distr2 = pd.Series(np.random.normal(distr1.mean(), distr1.std(), size=N))"
   ]
  },
  {
   "cell_type": "code",
   "execution_count": null,
   "metadata": {},
   "outputs": [],
   "source": [
    "data = pd.concat([distr1, distr2], axis=1, keys=['A', 'B']).unstack().reset_index().drop('level_1', axis=1)\n",
    "data = data.rename(columns={'level_0': 'group', 0: 'data'})\n"
   ]
  },
  {
   "cell_type": "code",
   "execution_count": null,
   "metadata": {},
   "outputs": [],
   "source": [
    "mA, mB = data.groupby('group')['data'].mean().tolist()\n",
    "title = 'mean of A: %f\\n mean of B: %f' % (mA, mB)\n",
    "\n",
    "data.groupby('group')['data'].plot(kind='kde', legend=True, title=title);"
   ]
  },
  {
   "cell_type": "code",
   "execution_count": null,
   "metadata": {},
   "outputs": [],
   "source": [
    "n_repetitions = 500\n",
    "\n",
    "means = []\n",
    "for _ in range(n_repetitions):\n",
    "    \n",
    "    # shuffle the gender column\n",
    "    shuffled_col = (\n",
    "        data['data']\n",
    "        .sample(replace=False, frac=1)\n",
    "        .reset_index(drop=True)\n",
    "    )\n",
    "    \n",
    "    # put them in a table\n",
    "    shuffled = (\n",
    "        data\n",
    "        .assign(**{\n",
    "            'data': shuffled_col,\n",
    "        })\n",
    "    )\n",
    "    \n",
    "    # compute the differences in means\n",
    "    mean = shuffled.groupby('group')['data'].mean().diff().abs().iloc[-1]\n",
    "    \n",
    "    means.append(mean)\n",
    "    \n",
    "    \n",
    "obs = data.groupby('group')['data'].mean().diff().abs().iloc[-1]\n",
    "\n",
    "pval = np.mean(means > obs)\n",
    "\n",
    "pd.Series(means).plot(kind='hist', density=True, alpha=0.8, title='p-value: %f' % pval)\n",
    "\n",
    "plt.scatter(obs, 0, color='red', s=40);"
   ]
  },
  {
   "cell_type": "markdown",
   "metadata": {
    "slideshow": {
     "slide_type": "slide"
    }
   },
   "source": [
    "### Telling quantitative distributions apart\n",
    "\n",
    "* Need a better test-statistic to differentiate between distributions!\n",
    "* Need a 'distance' between quantitative distributions:\n",
    "    - Measure the (absolute) difference between probabilities for nearby events?\n",
    "    - Why can't we use TVD?  (It is not categorical)"
   ]
  },
  {
   "cell_type": "code",
   "execution_count": null,
   "metadata": {},
   "outputs": [],
   "source": [
    "data.groupby('group')['data'].plot(kind='kde', legend=True);"
   ]
  },
  {
   "cell_type": "markdown",
   "metadata": {
    "slideshow": {
     "slide_type": "slide"
    }
   },
   "source": [
    "## KS-Statistic\n",
    "    \n",
    "* Kolmogorov-Smirnov test-statistic: similarity between two distributions.\n",
    "* KS-statistics roughly measures the *area* between two empirical distributions.\n",
    "* Defined using the *Cumulative Distribution Function* instead of density function.\n",
    "* Python library: `scipy.stats.ks_2samp`"
   ]
  },
  {
   "cell_type": "code",
   "execution_count": null,
   "metadata": {},
   "outputs": [],
   "source": [
    "from scipy.stats import ks_2samp"
   ]
  },
  {
   "cell_type": "code",
   "execution_count": null,
   "metadata": {},
   "outputs": [],
   "source": [
    "help(ks_2samp)"
   ]
  },
  {
   "cell_type": "code",
   "execution_count": null,
   "metadata": {},
   "outputs": [],
   "source": [
    "gpA = data.loc[data['group'] == 'A', 'data']\n",
    "gpB = data.loc[data['group'] == 'B', 'data']\n",
    "\n",
    "obs = ks_2samp(gpA, gpB).statistic\n",
    "obs"
   ]
  },
  {
   "cell_type": "code",
   "execution_count": null,
   "metadata": {},
   "outputs": [],
   "source": [
    "n_repetitions = 500\n",
    "\n",
    "ks_list = []\n",
    "for _ in range(n_repetitions):\n",
    "    \n",
    "    # shuffle the gender column\n",
    "    shuffled_col = (\n",
    "        data['data']\n",
    "        .sample(replace=False, frac=1)\n",
    "        .reset_index(drop=True)\n",
    "    )\n",
    "    \n",
    "    # put them in a table\n",
    "    shuffled = (\n",
    "        data\n",
    "        .assign(**{\n",
    "            'data': shuffled_col,\n",
    "        })\n",
    "    )\n",
    "    \n",
    "    # compute the KS\n",
    "    grps = shuffled.groupby('group')['data']\n",
    "    ks = ks_2samp(grps.get_group('A'), grps.get_group('B')).statistic\n",
    "    \n",
    "    ks_list.append(ks)\n",
    "    \n",
    "\n",
    "pval = np.mean(ks_list > obs)\n",
    "\n",
    "pd.Series(ks_list).plot(kind='hist', density=True, alpha=0.8, title='p-value: %f' % pval)\n",
    "\n",
    "plt.scatter(obs, 0, color='red', s=40);"
   ]
  },
  {
   "cell_type": "markdown",
   "metadata": {
    "slideshow": {
     "slide_type": "slide"
    }
   },
   "source": [
    "### The `ks_2samp` function\n",
    "\n",
    "* `scipy.stats.ks_2samp` actually returns *both* the statistic *and* a p-value.\n",
    "* The p-value is calculated using the permutation test we just performed!"
   ]
  },
  {
   "cell_type": "code",
   "execution_count": null,
   "metadata": {},
   "outputs": [],
   "source": [
    "ks_2samp(gpA, gpB)"
   ]
  },
  {
   "cell_type": "markdown",
   "metadata": {
    "slideshow": {
     "slide_type": "slide"
    }
   },
   "source": [
    "## Summary: Diagnosing Missingness Mechanisms\n",
    "\n",
    "### Case: NMAR\n",
    "\n",
    "* Can you make a reasonable case that the differences in missing vs not missing is largely explainable via *observed* data?\n",
    "    - If yes, then the missing data (column) 'missing at random' and the missing data is 'ignorable' (when handled properly).\n",
    "    - If no, then the missing data is 'not missing at random' (NMAR), or 'non-ignorable'. You must explicitly model missingness using assumptions on the data generating process."
   ]
  },
  {
   "cell_type": "markdown",
   "metadata": {
    "slideshow": {
     "slide_type": "slide"
    }
   },
   "source": [
    "## Summary: Diagnosing Missingness Mechanisms, Ignorable\n",
    "\n",
    "### Case: MAR\n",
    "\n",
    "* If missingness is explainable via *observed* data, then the missing data is 'missing at random' (MAR).\n",
    "* The distribution of missing data may still look different than the observed data!\n",
    "    - MAR requires you to understand how the missingness is dependent on other attributes in your data.\n",
    "* Use permutation tests to assess the dependence of misssing data on other attributes."
   ]
  },
  {
   "cell_type": "markdown",
   "metadata": {
    "slideshow": {
     "slide_type": "slide"
    }
   },
   "source": [
    "## Summary: Diagnosing Missingness Mechanisms: Ignorable\n",
    "\n",
    "### Case: MCAR\n",
    "\n",
    "* If missingness doesn't depend on any values in the observed data, it is 'unconditionally ignorable' (MCAR).\n",
    "* Uniform random sample  of a population looks like a population itself. Same with MCAR: no pattern in missingness.\n",
    "* MCAR is equivalent to data being MAR, without dependence on any other columns.\n",
    "* If permutation tests point toward similar distributions of missing vs not-missing data, for *every* other column, then the data *may* be MCAR.\n",
    "    - Caution: you can't assert the data *are* MCAR, as permutation tests don't allow you to accept the null hypothesis!"
   ]
  },
  {
   "cell_type": "markdown",
   "metadata": {
    "slideshow": {
     "slide_type": "slide"
    }
   },
   "source": [
    "## Example: Assessing Missingness\n",
    "\n",
    "* Data on ticketed cars: VIN (Vehicle ID Number), Make, Year, Color\n",
    "* Is car color missing at random, dependent on car year?\n",
    "    * Are the distributions of year similar when color is null vs not null?\n",
    "    * How similar is similar enough?\n",
    "    \n",
    "Use a permutation test!"
   ]
  },
  {
   "cell_type": "code",
   "execution_count": 40,
   "metadata": {},
   "outputs": [
    {
     "data": {
      "text/html": [
       "<div>\n",
       "<style scoped>\n",
       "    .dataframe tbody tr th:only-of-type {\n",
       "        vertical-align: middle;\n",
       "    }\n",
       "\n",
       "    .dataframe tbody tr th {\n",
       "        vertical-align: top;\n",
       "    }\n",
       "\n",
       "    .dataframe thead th {\n",
       "        text-align: right;\n",
       "    }\n",
       "</style>\n",
       "<table border=\"1\" class=\"dataframe\">\n",
       "  <thead>\n",
       "    <tr style=\"text-align: right;\">\n",
       "      <th></th>\n",
       "      <th>vin</th>\n",
       "      <th>car_make</th>\n",
       "      <th>car_year</th>\n",
       "      <th>car_color</th>\n",
       "    </tr>\n",
       "  </thead>\n",
       "  <tbody>\n",
       "    <tr>\n",
       "      <th>0</th>\n",
       "      <td>3D7TT2CT8BG121773</td>\n",
       "      <td>Audi</td>\n",
       "      <td>2008.0</td>\n",
       "      <td>Teal</td>\n",
       "    </tr>\n",
       "    <tr>\n",
       "      <th>1</th>\n",
       "      <td>SCBZB25E62C073475</td>\n",
       "      <td>Audi</td>\n",
       "      <td>1996.0</td>\n",
       "      <td>Mauv</td>\n",
       "    </tr>\n",
       "    <tr>\n",
       "      <th>2</th>\n",
       "      <td>1FT7W2A69EE682086</td>\n",
       "      <td>NaN</td>\n",
       "      <td>NaN</td>\n",
       "      <td>Turquoise</td>\n",
       "    </tr>\n",
       "    <tr>\n",
       "      <th>3</th>\n",
       "      <td>1B3AZ6JZ7AV582128</td>\n",
       "      <td>Ford</td>\n",
       "      <td>2010.0</td>\n",
       "      <td>Goldenrod</td>\n",
       "    </tr>\n",
       "    <tr>\n",
       "      <th>4</th>\n",
       "      <td>1GYUCGEF4AR632425</td>\n",
       "      <td>Mazda</td>\n",
       "      <td>1996.0</td>\n",
       "      <td>Purple</td>\n",
       "    </tr>\n",
       "  </tbody>\n",
       "</table>\n",
       "</div>"
      ],
      "text/plain": [
       "                 vin car_make  car_year  car_color\n",
       "0  3D7TT2CT8BG121773     Audi    2008.0       Teal\n",
       "1  SCBZB25E62C073475     Audi    1996.0       Mauv\n",
       "2  1FT7W2A69EE682086      NaN       NaN  Turquoise\n",
       "3  1B3AZ6JZ7AV582128     Ford    2010.0  Goldenrod\n",
       "4  1GYUCGEF4AR632425    Mazda    1996.0     Purple"
      ]
     },
     "execution_count": 40,
     "metadata": {},
     "output_type": "execute_result"
    }
   ],
   "source": [
    "cars = pd.read_csv('data/cars.csv')\n",
    "cars.head()"
   ]
  },
  {
   "cell_type": "code",
   "execution_count": 41,
   "metadata": {},
   "outputs": [
    {
     "data": {
      "text/plain": [
       "0.1542"
      ]
     },
     "execution_count": 41,
     "metadata": {},
     "output_type": "execute_result"
    }
   ],
   "source": [
    "# proportion of car color missing\n",
    "# Is there a pattern to the missingness of a car color\n",
    "# or is it totally random?\n",
    "cars.car_color.isnull().mean()"
   ]
  },
  {
   "cell_type": "code",
   "execution_count": null,
   "metadata": {},
   "outputs": [],
   "source": [
    "# look at the case when the car color is missing and look at all other columns\n",
    "# look at the case when the car color is NOT missing and look at all other columns\n",
    "# ask: the other observed data look the same when CC is missing vs not missing?\n",
    "\n",
    "# If different: we discovered a pattern how the data is missing\n",
    "# If same: there is no pattern (given the data we have)\n"
   ]
  },
  {
   "cell_type": "code",
   "execution_count": 42,
   "metadata": {},
   "outputs": [
    {
     "data": {
      "text/html": [
       "<div>\n",
       "<style scoped>\n",
       "    .dataframe tbody tr th:only-of-type {\n",
       "        vertical-align: middle;\n",
       "    }\n",
       "\n",
       "    .dataframe tbody tr th {\n",
       "        vertical-align: top;\n",
       "    }\n",
       "\n",
       "    .dataframe thead th {\n",
       "        text-align: right;\n",
       "    }\n",
       "</style>\n",
       "<table border=\"1\" class=\"dataframe\">\n",
       "  <thead>\n",
       "    <tr style=\"text-align: right;\">\n",
       "      <th></th>\n",
       "      <th>vin</th>\n",
       "      <th>car_make</th>\n",
       "      <th>car_year</th>\n",
       "      <th>car_color</th>\n",
       "      <th>car_color_isnull</th>\n",
       "    </tr>\n",
       "  </thead>\n",
       "  <tbody>\n",
       "    <tr>\n",
       "      <th>0</th>\n",
       "      <td>3D7TT2CT8BG121773</td>\n",
       "      <td>Audi</td>\n",
       "      <td>2008.0</td>\n",
       "      <td>Teal</td>\n",
       "      <td>False</td>\n",
       "    </tr>\n",
       "    <tr>\n",
       "      <th>1</th>\n",
       "      <td>SCBZB25E62C073475</td>\n",
       "      <td>Audi</td>\n",
       "      <td>1996.0</td>\n",
       "      <td>Mauv</td>\n",
       "      <td>False</td>\n",
       "    </tr>\n",
       "    <tr>\n",
       "      <th>2</th>\n",
       "      <td>1FT7W2A69EE682086</td>\n",
       "      <td>NaN</td>\n",
       "      <td>NaN</td>\n",
       "      <td>Turquoise</td>\n",
       "      <td>False</td>\n",
       "    </tr>\n",
       "    <tr>\n",
       "      <th>3</th>\n",
       "      <td>1B3AZ6JZ7AV582128</td>\n",
       "      <td>Ford</td>\n",
       "      <td>2010.0</td>\n",
       "      <td>Goldenrod</td>\n",
       "      <td>False</td>\n",
       "    </tr>\n",
       "    <tr>\n",
       "      <th>4</th>\n",
       "      <td>1GYUCGEF4AR632425</td>\n",
       "      <td>Mazda</td>\n",
       "      <td>1996.0</td>\n",
       "      <td>Purple</td>\n",
       "      <td>False</td>\n",
       "    </tr>\n",
       "  </tbody>\n",
       "</table>\n",
       "</div>"
      ],
      "text/plain": [
       "                 vin car_make  car_year  car_color  car_color_isnull\n",
       "0  3D7TT2CT8BG121773     Audi    2008.0       Teal             False\n",
       "1  SCBZB25E62C073475     Audi    1996.0       Mauv             False\n",
       "2  1FT7W2A69EE682086      NaN       NaN  Turquoise             False\n",
       "3  1B3AZ6JZ7AV582128     Ford    2010.0  Goldenrod             False\n",
       "4  1GYUCGEF4AR632425    Mazda    1996.0     Purple             False"
      ]
     },
     "execution_count": 42,
     "metadata": {},
     "output_type": "execute_result"
    }
   ],
   "source": [
    "# create a label:\n",
    "cars['car_color_isnull'] = cars.car_color.isnull()\n",
    "cars.head()"
   ]
  },
  {
   "cell_type": "code",
   "execution_count": null,
   "metadata": {},
   "outputs": [],
   "source": [
    "# Can you think of a pattern: how often the car color is \n",
    "# missing dependent on the year of the car?\n",
    "# new vs old?\n",
    "# maybe under-representing older cars if you drop the missing data"
   ]
  },
  {
   "cell_type": "code",
   "execution_count": 43,
   "metadata": {},
   "outputs": [
    {
     "data": {
      "image/png": "[encoded data removed]",
      "text/plain": [
       "<Figure size 700x500 with 1 Axes>"
      ]
     },
     "metadata": {},
     "output_type": "display_data"
    }
   ],
   "source": [
    "# compute distributions with a pivot table\n",
    "\n",
    "distr = (\n",
    "    cars\n",
    "    .pivot_table(index='car_year', columns='car_color_isnull', values=None, aggfunc='size')\n",
    "    .fillna(0)\n",
    "    .apply(lambda x:x/x.sum())\n",
    "    .plot(title='distribution of car years by color=missing/not missing')\n",
    ");\n",
    "\n",
    "# same/not same?"
   ]
  },
  {
   "cell_type": "code",
   "execution_count": 44,
   "metadata": {},
   "outputs": [
    {
     "data": {
      "text/html": [
       "<div>\n",
       "<style scoped>\n",
       "    .dataframe tbody tr th:only-of-type {\n",
       "        vertical-align: middle;\n",
       "    }\n",
       "\n",
       "    .dataframe tbody tr th {\n",
       "        vertical-align: top;\n",
       "    }\n",
       "\n",
       "    .dataframe thead th {\n",
       "        text-align: right;\n",
       "    }\n",
       "</style>\n",
       "<table border=\"1\" class=\"dataframe\">\n",
       "  <thead>\n",
       "    <tr style=\"text-align: right;\">\n",
       "      <th>car_color_isnull</th>\n",
       "      <th>False</th>\n",
       "      <th>True</th>\n",
       "    </tr>\n",
       "    <tr>\n",
       "      <th>car_year</th>\n",
       "      <th></th>\n",
       "      <th></th>\n",
       "    </tr>\n",
       "  </thead>\n",
       "  <tbody>\n",
       "    <tr>\n",
       "      <th>1909.0</th>\n",
       "      <td>0.000259</td>\n",
       "      <td>0.000000</td>\n",
       "    </tr>\n",
       "    <tr>\n",
       "      <th>1950.0</th>\n",
       "      <td>0.000259</td>\n",
       "      <td>0.000000</td>\n",
       "    </tr>\n",
       "    <tr>\n",
       "      <th>1954.0</th>\n",
       "      <td>0.000776</td>\n",
       "      <td>0.000000</td>\n",
       "    </tr>\n",
       "    <tr>\n",
       "      <th>1955.0</th>\n",
       "      <td>0.000517</td>\n",
       "      <td>0.000000</td>\n",
       "    </tr>\n",
       "    <tr>\n",
       "      <th>1956.0</th>\n",
       "      <td>0.000259</td>\n",
       "      <td>0.000000</td>\n",
       "    </tr>\n",
       "    <tr>\n",
       "      <th>1958.0</th>\n",
       "      <td>0.000517</td>\n",
       "      <td>0.000000</td>\n",
       "    </tr>\n",
       "    <tr>\n",
       "      <th>1959.0</th>\n",
       "      <td>0.000259</td>\n",
       "      <td>0.000000</td>\n",
       "    </tr>\n",
       "    <tr>\n",
       "      <th>1960.0</th>\n",
       "      <td>0.000776</td>\n",
       "      <td>0.000000</td>\n",
       "    </tr>\n",
       "    <tr>\n",
       "      <th>1961.0</th>\n",
       "      <td>0.000517</td>\n",
       "      <td>0.000000</td>\n",
       "    </tr>\n",
       "    <tr>\n",
       "      <th>1962.0</th>\n",
       "      <td>0.000517</td>\n",
       "      <td>0.000000</td>\n",
       "    </tr>\n",
       "    <tr>\n",
       "      <th>1963.0</th>\n",
       "      <td>0.001293</td>\n",
       "      <td>0.000000</td>\n",
       "    </tr>\n",
       "    <tr>\n",
       "      <th>1964.0</th>\n",
       "      <td>0.002069</td>\n",
       "      <td>0.000000</td>\n",
       "    </tr>\n",
       "    <tr>\n",
       "      <th>1965.0</th>\n",
       "      <td>0.001035</td>\n",
       "      <td>0.001412</td>\n",
       "    </tr>\n",
       "    <tr>\n",
       "      <th>1966.0</th>\n",
       "      <td>0.000776</td>\n",
       "      <td>0.002825</td>\n",
       "    </tr>\n",
       "    <tr>\n",
       "      <th>1967.0</th>\n",
       "      <td>0.003621</td>\n",
       "      <td>0.000000</td>\n",
       "    </tr>\n",
       "    <tr>\n",
       "      <th>1968.0</th>\n",
       "      <td>0.001035</td>\n",
       "      <td>0.001412</td>\n",
       "    </tr>\n",
       "    <tr>\n",
       "      <th>1969.0</th>\n",
       "      <td>0.001552</td>\n",
       "      <td>0.002825</td>\n",
       "    </tr>\n",
       "    <tr>\n",
       "      <th>1970.0</th>\n",
       "      <td>0.001811</td>\n",
       "      <td>0.001412</td>\n",
       "    </tr>\n",
       "    <tr>\n",
       "      <th>1971.0</th>\n",
       "      <td>0.000776</td>\n",
       "      <td>0.001412</td>\n",
       "    </tr>\n",
       "    <tr>\n",
       "      <th>1972.0</th>\n",
       "      <td>0.001552</td>\n",
       "      <td>0.000000</td>\n",
       "    </tr>\n",
       "    <tr>\n",
       "      <th>1973.0</th>\n",
       "      <td>0.001552</td>\n",
       "      <td>0.001412</td>\n",
       "    </tr>\n",
       "    <tr>\n",
       "      <th>1974.0</th>\n",
       "      <td>0.000517</td>\n",
       "      <td>0.001412</td>\n",
       "    </tr>\n",
       "    <tr>\n",
       "      <th>1975.0</th>\n",
       "      <td>0.000259</td>\n",
       "      <td>0.000000</td>\n",
       "    </tr>\n",
       "    <tr>\n",
       "      <th>1976.0</th>\n",
       "      <td>0.000517</td>\n",
       "      <td>0.000000</td>\n",
       "    </tr>\n",
       "    <tr>\n",
       "      <th>1977.0</th>\n",
       "      <td>0.001293</td>\n",
       "      <td>0.000000</td>\n",
       "    </tr>\n",
       "    <tr>\n",
       "      <th>1978.0</th>\n",
       "      <td>0.001552</td>\n",
       "      <td>0.000000</td>\n",
       "    </tr>\n",
       "    <tr>\n",
       "      <th>1979.0</th>\n",
       "      <td>0.001035</td>\n",
       "      <td>0.000000</td>\n",
       "    </tr>\n",
       "    <tr>\n",
       "      <th>1980.0</th>\n",
       "      <td>0.000517</td>\n",
       "      <td>0.000000</td>\n",
       "    </tr>\n",
       "    <tr>\n",
       "      <th>1981.0</th>\n",
       "      <td>0.000259</td>\n",
       "      <td>0.000000</td>\n",
       "    </tr>\n",
       "    <tr>\n",
       "      <th>1983.0</th>\n",
       "      <td>0.002587</td>\n",
       "      <td>0.001412</td>\n",
       "    </tr>\n",
       "    <tr>\n",
       "      <th>1984.0</th>\n",
       "      <td>0.009312</td>\n",
       "      <td>0.014124</td>\n",
       "    </tr>\n",
       "    <tr>\n",
       "      <th>1985.0</th>\n",
       "      <td>0.011640</td>\n",
       "      <td>0.016949</td>\n",
       "    </tr>\n",
       "    <tr>\n",
       "      <th>1986.0</th>\n",
       "      <td>0.013968</td>\n",
       "      <td>0.011299</td>\n",
       "    </tr>\n",
       "    <tr>\n",
       "      <th>1987.0</th>\n",
       "      <td>0.012157</td>\n",
       "      <td>0.011299</td>\n",
       "    </tr>\n",
       "    <tr>\n",
       "      <th>1988.0</th>\n",
       "      <td>0.011123</td>\n",
       "      <td>0.015537</td>\n",
       "    </tr>\n",
       "    <tr>\n",
       "      <th>1989.0</th>\n",
       "      <td>0.016296</td>\n",
       "      <td>0.024011</td>\n",
       "    </tr>\n",
       "    <tr>\n",
       "      <th>1990.0</th>\n",
       "      <td>0.014227</td>\n",
       "      <td>0.014124</td>\n",
       "    </tr>\n",
       "    <tr>\n",
       "      <th>1991.0</th>\n",
       "      <td>0.011640</td>\n",
       "      <td>0.011299</td>\n",
       "    </tr>\n",
       "    <tr>\n",
       "      <th>1992.0</th>\n",
       "      <td>0.035696</td>\n",
       "      <td>0.032486</td>\n",
       "    </tr>\n",
       "    <tr>\n",
       "      <th>1993.0</th>\n",
       "      <td>0.034920</td>\n",
       "      <td>0.033898</td>\n",
       "    </tr>\n",
       "    <tr>\n",
       "      <th>1994.0</th>\n",
       "      <td>0.037248</td>\n",
       "      <td>0.042373</td>\n",
       "    </tr>\n",
       "    <tr>\n",
       "      <th>1995.0</th>\n",
       "      <td>0.043714</td>\n",
       "      <td>0.046610</td>\n",
       "    </tr>\n",
       "    <tr>\n",
       "      <th>1996.0</th>\n",
       "      <td>0.032074</td>\n",
       "      <td>0.049435</td>\n",
       "    </tr>\n",
       "    <tr>\n",
       "      <th>1997.0</th>\n",
       "      <td>0.034402</td>\n",
       "      <td>0.028249</td>\n",
       "    </tr>\n",
       "    <tr>\n",
       "      <th>1998.0</th>\n",
       "      <td>0.037506</td>\n",
       "      <td>0.032486</td>\n",
       "    </tr>\n",
       "    <tr>\n",
       "      <th>1999.0</th>\n",
       "      <td>0.032333</td>\n",
       "      <td>0.042373</td>\n",
       "    </tr>\n",
       "    <tr>\n",
       "      <th>2000.0</th>\n",
       "      <td>0.039317</td>\n",
       "      <td>0.031073</td>\n",
       "    </tr>\n",
       "    <tr>\n",
       "      <th>2001.0</th>\n",
       "      <td>0.036989</td>\n",
       "      <td>0.038136</td>\n",
       "    </tr>\n",
       "    <tr>\n",
       "      <th>2002.0</th>\n",
       "      <td>0.036989</td>\n",
       "      <td>0.031073</td>\n",
       "    </tr>\n",
       "    <tr>\n",
       "      <th>2003.0</th>\n",
       "      <td>0.035954</td>\n",
       "      <td>0.040960</td>\n",
       "    </tr>\n",
       "    <tr>\n",
       "      <th>2004.0</th>\n",
       "      <td>0.042938</td>\n",
       "      <td>0.039548</td>\n",
       "    </tr>\n",
       "    <tr>\n",
       "      <th>2005.0</th>\n",
       "      <td>0.047336</td>\n",
       "      <td>0.052260</td>\n",
       "    </tr>\n",
       "    <tr>\n",
       "      <th>2006.0</th>\n",
       "      <td>0.048370</td>\n",
       "      <td>0.046610</td>\n",
       "    </tr>\n",
       "    <tr>\n",
       "      <th>2007.0</th>\n",
       "      <td>0.044490</td>\n",
       "      <td>0.049435</td>\n",
       "    </tr>\n",
       "    <tr>\n",
       "      <th>2008.0</th>\n",
       "      <td>0.050698</td>\n",
       "      <td>0.050847</td>\n",
       "    </tr>\n",
       "    <tr>\n",
       "      <th>2009.0</th>\n",
       "      <td>0.053802</td>\n",
       "      <td>0.052260</td>\n",
       "    </tr>\n",
       "    <tr>\n",
       "      <th>2010.0</th>\n",
       "      <td>0.043973</td>\n",
       "      <td>0.052260</td>\n",
       "    </tr>\n",
       "    <tr>\n",
       "      <th>2011.0</th>\n",
       "      <td>0.042680</td>\n",
       "      <td>0.035311</td>\n",
       "    </tr>\n",
       "    <tr>\n",
       "      <th>2012.0</th>\n",
       "      <td>0.049922</td>\n",
       "      <td>0.033898</td>\n",
       "    </tr>\n",
       "    <tr>\n",
       "      <th>2013.0</th>\n",
       "      <td>0.008019</td>\n",
       "      <td>0.004237</td>\n",
       "    </tr>\n",
       "  </tbody>\n",
       "</table>\n",
       "</div>"
      ],
      "text/plain": [
       "car_color_isnull     False     True \n",
       "car_year                            \n",
       "1909.0            0.000259  0.000000\n",
       "1950.0            0.000259  0.000000\n",
       "1954.0            0.000776  0.000000\n",
       "1955.0            0.000517  0.000000\n",
       "1956.0            0.000259  0.000000\n",
       "1958.0            0.000517  0.000000\n",
       "1959.0            0.000259  0.000000\n",
       "1960.0            0.000776  0.000000\n",
       "1961.0            0.000517  0.000000\n",
       "1962.0            0.000517  0.000000\n",
       "1963.0            0.001293  0.000000\n",
       "1964.0            0.002069  0.000000\n",
       "1965.0            0.001035  0.001412\n",
       "1966.0            0.000776  0.002825\n",
       "1967.0            0.003621  0.000000\n",
       "1968.0            0.001035  0.001412\n",
       "1969.0            0.001552  0.002825\n",
       "1970.0            0.001811  0.001412\n",
       "1971.0            0.000776  0.001412\n",
       "1972.0            0.001552  0.000000\n",
       "1973.0            0.001552  0.001412\n",
       "1974.0            0.000517  0.001412\n",
       "1975.0            0.000259  0.000000\n",
       "1976.0            0.000517  0.000000\n",
       "1977.0            0.001293  0.000000\n",
       "1978.0            0.001552  0.000000\n",
       "1979.0            0.001035  0.000000\n",
       "1980.0            0.000517  0.000000\n",
       "1981.0            0.000259  0.000000\n",
       "1983.0            0.002587  0.001412\n",
       "1984.0            0.009312  0.014124\n",
       "1985.0            0.011640  0.016949\n",
       "1986.0            0.013968  0.011299\n",
       "1987.0            0.012157  0.011299\n",
       "1988.0            0.011123  0.015537\n",
       "1989.0            0.016296  0.024011\n",
       "1990.0            0.014227  0.014124\n",
       "1991.0            0.011640  0.011299\n",
       "1992.0            0.035696  0.032486\n",
       "1993.0            0.034920  0.033898\n",
       "1994.0            0.037248  0.042373\n",
       "1995.0            0.043714  0.046610\n",
       "1996.0            0.032074  0.049435\n",
       "1997.0            0.034402  0.028249\n",
       "1998.0            0.037506  0.032486\n",
       "1999.0            0.032333  0.042373\n",
       "2000.0            0.039317  0.031073\n",
       "2001.0            0.036989  0.038136\n",
       "2002.0            0.036989  0.031073\n",
       "2003.0            0.035954  0.040960\n",
       "2004.0            0.042938  0.039548\n",
       "2005.0            0.047336  0.052260\n",
       "2006.0            0.048370  0.046610\n",
       "2007.0            0.044490  0.049435\n",
       "2008.0            0.050698  0.050847\n",
       "2009.0            0.053802  0.052260\n",
       "2010.0            0.043973  0.052260\n",
       "2011.0            0.042680  0.035311\n",
       "2012.0            0.049922  0.033898\n",
       "2013.0            0.008019  0.004237"
      ]
     },
     "execution_count": 44,
     "metadata": {},
     "output_type": "execute_result"
    }
   ],
   "source": [
    "# distribution, one per year\n",
    "# each year: probability of a likelihood if missing or not\n",
    "distr = (\n",
    "    cars\n",
    "    .pivot_table(index='car_year', columns='car_color_isnull', values=None, aggfunc='size')\n",
    "    .fillna(0)\n",
    "    .apply(lambda x:x/x.sum())\n",
    ");\n",
    "distr"
   ]
  },
  {
   "cell_type": "code",
   "execution_count": 45,
   "metadata": {},
   "outputs": [],
   "source": [
    "# ks - statistic\n",
    "\n",
    "gp1 = cars.loc[cars.car_color_isnull == True]\n",
    "gp2 = cars.loc[cars.car_color_isnull == False]"
   ]
  },
  {
   "cell_type": "code",
   "execution_count": 46,
   "metadata": {},
   "outputs": [
    {
     "data": {
      "text/html": [
       "<div>\n",
       "<style scoped>\n",
       "    .dataframe tbody tr th:only-of-type {\n",
       "        vertical-align: middle;\n",
       "    }\n",
       "\n",
       "    .dataframe tbody tr th {\n",
       "        vertical-align: top;\n",
       "    }\n",
       "\n",
       "    .dataframe thead th {\n",
       "        text-align: right;\n",
       "    }\n",
       "</style>\n",
       "<table border=\"1\" class=\"dataframe\">\n",
       "  <thead>\n",
       "    <tr style=\"text-align: right;\">\n",
       "      <th></th>\n",
       "      <th>vin</th>\n",
       "      <th>car_make</th>\n",
       "      <th>car_year</th>\n",
       "      <th>car_color</th>\n",
       "      <th>car_color_isnull</th>\n",
       "    </tr>\n",
       "  </thead>\n",
       "  <tbody>\n",
       "    <tr>\n",
       "      <th>7</th>\n",
       "      <td>WBAYA8C59ED539915</td>\n",
       "      <td>GMC</td>\n",
       "      <td>2011.0</td>\n",
       "      <td>NaN</td>\n",
       "      <td>True</td>\n",
       "    </tr>\n",
       "    <tr>\n",
       "      <th>8</th>\n",
       "      <td>1GYS3DEF3DR894463</td>\n",
       "      <td>Nissan</td>\n",
       "      <td>2008.0</td>\n",
       "      <td>NaN</td>\n",
       "      <td>True</td>\n",
       "    </tr>\n",
       "    <tr>\n",
       "      <th>9</th>\n",
       "      <td>1C3CDFCA2DD866519</td>\n",
       "      <td>Toyota</td>\n",
       "      <td>1998.0</td>\n",
       "      <td>NaN</td>\n",
       "      <td>True</td>\n",
       "    </tr>\n",
       "    <tr>\n",
       "      <th>20</th>\n",
       "      <td>1G6YV34A045093414</td>\n",
       "      <td>Subaru</td>\n",
       "      <td>1989.0</td>\n",
       "      <td>NaN</td>\n",
       "      <td>True</td>\n",
       "    </tr>\n",
       "    <tr>\n",
       "      <th>24</th>\n",
       "      <td>1GYEE437090967383</td>\n",
       "      <td>Chrysler</td>\n",
       "      <td>2009.0</td>\n",
       "      <td>NaN</td>\n",
       "      <td>True</td>\n",
       "    </tr>\n",
       "  </tbody>\n",
       "</table>\n",
       "</div>"
      ],
      "text/plain": [
       "                  vin  car_make  car_year car_color  car_color_isnull\n",
       "7   WBAYA8C59ED539915       GMC    2011.0       NaN              True\n",
       "8   1GYS3DEF3DR894463    Nissan    2008.0       NaN              True\n",
       "9   1C3CDFCA2DD866519    Toyota    1998.0       NaN              True\n",
       "20  1G6YV34A045093414    Subaru    1989.0       NaN              True\n",
       "24  1GYEE437090967383  Chrysler    2009.0       NaN              True"
      ]
     },
     "execution_count": 46,
     "metadata": {},
     "output_type": "execute_result"
    }
   ],
   "source": [
    "gp1.head()"
   ]
  },
  {
   "cell_type": "code",
   "execution_count": 47,
   "metadata": {},
   "outputs": [
    {
     "ename": "TypeError",
     "evalue": "'<' not supported between instances of 'float' and 'str'",
     "output_type": "error",
     "traceback": [
      "\u001b[0;31m---------------------------------------------------------------------------\u001b[0m",
      "\u001b[0;31mTypeError\u001b[0m                                 Traceback (most recent call last)",
      "\u001b[0;32m<ipython-input-47-53799feb4178>\u001b[0m in \u001b[0;36m<module>\u001b[0;34m\u001b[0m\n\u001b[1;32m      1\u001b[0m \u001b[0;32mfrom\u001b[0m \u001b[0mscipy\u001b[0m\u001b[0;34m.\u001b[0m\u001b[0mstats\u001b[0m \u001b[0;32mimport\u001b[0m \u001b[0mks_2samp\u001b[0m\u001b[0;34m\u001b[0m\u001b[0;34m\u001b[0m\u001b[0m\n\u001b[0;32m----> 2\u001b[0;31m \u001b[0mks_2samp\u001b[0m\u001b[0;34m(\u001b[0m\u001b[0mgp1\u001b[0m\u001b[0;34m,\u001b[0m \u001b[0mgp2\u001b[0m\u001b[0;34m)\u001b[0m\u001b[0;34m\u001b[0m\u001b[0;34m\u001b[0m\u001b[0m\n\u001b[0m",
      "\u001b[0;32m~/anaconda3/lib/python3.7/site-packages/scipy/stats/stats.py\u001b[0m in \u001b[0;36mks_2samp\u001b[0;34m(data1, data2)\u001b[0m\n\u001b[1;32m   4767\u001b[0m \u001b[0;34m\u001b[0m\u001b[0m\n\u001b[1;32m   4768\u001b[0m     \"\"\"\n\u001b[0;32m-> 4769\u001b[0;31m     \u001b[0mdata1\u001b[0m \u001b[0;34m=\u001b[0m \u001b[0mnp\u001b[0m\u001b[0;34m.\u001b[0m\u001b[0msort\u001b[0m\u001b[0;34m(\u001b[0m\u001b[0mdata1\u001b[0m\u001b[0;34m)\u001b[0m\u001b[0;34m\u001b[0m\u001b[0;34m\u001b[0m\u001b[0m\n\u001b[0m\u001b[1;32m   4770\u001b[0m     \u001b[0mdata2\u001b[0m \u001b[0;34m=\u001b[0m \u001b[0mnp\u001b[0m\u001b[0;34m.\u001b[0m\u001b[0msort\u001b[0m\u001b[0;34m(\u001b[0m\u001b[0mdata2\u001b[0m\u001b[0;34m)\u001b[0m\u001b[0;34m\u001b[0m\u001b[0;34m\u001b[0m\u001b[0m\n\u001b[1;32m   4771\u001b[0m     \u001b[0mn1\u001b[0m \u001b[0;34m=\u001b[0m \u001b[0mdata1\u001b[0m\u001b[0;34m.\u001b[0m\u001b[0mshape\u001b[0m\u001b[0;34m[\u001b[0m\u001b[0;36m0\u001b[0m\u001b[0;34m]\u001b[0m\u001b[0;34m\u001b[0m\u001b[0;34m\u001b[0m\u001b[0m\n",
      "\u001b[0;32m~/anaconda3/lib/python3.7/site-packages/numpy/core/fromnumeric.py\u001b[0m in \u001b[0;36msort\u001b[0;34m(a, axis, kind, order)\u001b[0m\n\u001b[1;32m    876\u001b[0m     \u001b[0;32melse\u001b[0m\u001b[0;34m:\u001b[0m\u001b[0;34m\u001b[0m\u001b[0;34m\u001b[0m\u001b[0m\n\u001b[1;32m    877\u001b[0m         \u001b[0ma\u001b[0m \u001b[0;34m=\u001b[0m \u001b[0masanyarray\u001b[0m\u001b[0;34m(\u001b[0m\u001b[0ma\u001b[0m\u001b[0;34m)\u001b[0m\u001b[0;34m.\u001b[0m\u001b[0mcopy\u001b[0m\u001b[0;34m(\u001b[0m\u001b[0morder\u001b[0m\u001b[0;34m=\u001b[0m\u001b[0;34m\"K\"\u001b[0m\u001b[0;34m)\u001b[0m\u001b[0;34m\u001b[0m\u001b[0;34m\u001b[0m\u001b[0m\n\u001b[0;32m--> 878\u001b[0;31m     \u001b[0ma\u001b[0m\u001b[0;34m.\u001b[0m\u001b[0msort\u001b[0m\u001b[0;34m(\u001b[0m\u001b[0maxis\u001b[0m\u001b[0;34m=\u001b[0m\u001b[0maxis\u001b[0m\u001b[0;34m,\u001b[0m \u001b[0mkind\u001b[0m\u001b[0;34m=\u001b[0m\u001b[0mkind\u001b[0m\u001b[0;34m,\u001b[0m \u001b[0morder\u001b[0m\u001b[0;34m=\u001b[0m\u001b[0morder\u001b[0m\u001b[0;34m)\u001b[0m\u001b[0;34m\u001b[0m\u001b[0;34m\u001b[0m\u001b[0m\n\u001b[0m\u001b[1;32m    879\u001b[0m     \u001b[0;32mreturn\u001b[0m \u001b[0ma\u001b[0m\u001b[0;34m\u001b[0m\u001b[0;34m\u001b[0m\u001b[0m\n\u001b[1;32m    880\u001b[0m \u001b[0;34m\u001b[0m\u001b[0m\n",
      "\u001b[0;31mTypeError\u001b[0m: '<' not supported between instances of 'float' and 'str'"
     ]
    }
   ],
   "source": [
    "from scipy.stats import ks_2samp\n",
    "ks_2samp(gp1, gp2)"
   ]
  },
  {
   "cell_type": "code",
   "execution_count": 48,
   "metadata": {},
   "outputs": [],
   "source": [
    "gp1 = cars.loc[cars.car_color_isnull == True, 'car_year']\n",
    "gp2 = cars.loc[cars.car_color_isnull == False, 'car_year']"
   ]
  },
  {
   "cell_type": "code",
   "execution_count": 49,
   "metadata": {},
   "outputs": [
    {
     "data": {
      "text/plain": [
       "Ks_2sampResult(statistic=0.028662876519026326, pvalue=0.6515895196115888)"
      ]
     },
     "execution_count": 49,
     "metadata": {},
     "output_type": "execute_result"
    }
   ],
   "source": [
    "ks_2samp(gp1, gp2)"
   ]
  },
  {
   "cell_type": "markdown",
   "metadata": {},
   "source": [
    "### Example: assessing missingness of car make on color\n",
    "\n",
    "* \"Are the two distributions (missing/not missing) of car make generated from the same distribution?\"\n",
    "* Car make is categorical. How to measure similarity without means?\n",
    "    - use total variation distance"
   ]
  },
  {
   "cell_type": "code",
   "execution_count": 50,
   "metadata": {},
   "outputs": [],
   "source": [
    "cars['car_make_isnull'] = cars.car_make.isnull()"
   ]
  },
  {
   "cell_type": "code",
   "execution_count": 51,
   "metadata": {},
   "outputs": [
    {
     "data": {
      "text/html": [
       "<div>\n",
       "<style scoped>\n",
       "    .dataframe tbody tr th:only-of-type {\n",
       "        vertical-align: middle;\n",
       "    }\n",
       "\n",
       "    .dataframe tbody tr th {\n",
       "        vertical-align: top;\n",
       "    }\n",
       "\n",
       "    .dataframe thead th {\n",
       "        text-align: right;\n",
       "    }\n",
       "</style>\n",
       "<table border=\"1\" class=\"dataframe\">\n",
       "  <thead>\n",
       "    <tr style=\"text-align: right;\">\n",
       "      <th></th>\n",
       "      <th>vin</th>\n",
       "      <th>car_make</th>\n",
       "      <th>car_year</th>\n",
       "      <th>car_color</th>\n",
       "      <th>car_color_isnull</th>\n",
       "      <th>car_make_isnull</th>\n",
       "    </tr>\n",
       "  </thead>\n",
       "  <tbody>\n",
       "    <tr>\n",
       "      <th>0</th>\n",
       "      <td>3D7TT2CT8BG121773</td>\n",
       "      <td>Audi</td>\n",
       "      <td>2008.0</td>\n",
       "      <td>Teal</td>\n",
       "      <td>False</td>\n",
       "      <td>False</td>\n",
       "    </tr>\n",
       "    <tr>\n",
       "      <th>1</th>\n",
       "      <td>SCBZB25E62C073475</td>\n",
       "      <td>Audi</td>\n",
       "      <td>1996.0</td>\n",
       "      <td>Mauv</td>\n",
       "      <td>False</td>\n",
       "      <td>False</td>\n",
       "    </tr>\n",
       "    <tr>\n",
       "      <th>2</th>\n",
       "      <td>1FT7W2A69EE682086</td>\n",
       "      <td>NaN</td>\n",
       "      <td>NaN</td>\n",
       "      <td>Turquoise</td>\n",
       "      <td>False</td>\n",
       "      <td>True</td>\n",
       "    </tr>\n",
       "    <tr>\n",
       "      <th>3</th>\n",
       "      <td>1B3AZ6JZ7AV582128</td>\n",
       "      <td>Ford</td>\n",
       "      <td>2010.0</td>\n",
       "      <td>Goldenrod</td>\n",
       "      <td>False</td>\n",
       "      <td>False</td>\n",
       "    </tr>\n",
       "    <tr>\n",
       "      <th>4</th>\n",
       "      <td>1GYUCGEF4AR632425</td>\n",
       "      <td>Mazda</td>\n",
       "      <td>1996.0</td>\n",
       "      <td>Purple</td>\n",
       "      <td>False</td>\n",
       "      <td>False</td>\n",
       "    </tr>\n",
       "  </tbody>\n",
       "</table>\n",
       "</div>"
      ],
      "text/plain": [
       "                 vin car_make  car_year  car_color  car_color_isnull  \\\n",
       "0  3D7TT2CT8BG121773     Audi    2008.0       Teal             False   \n",
       "1  SCBZB25E62C073475     Audi    1996.0       Mauv             False   \n",
       "2  1FT7W2A69EE682086      NaN       NaN  Turquoise             False   \n",
       "3  1B3AZ6JZ7AV582128     Ford    2010.0  Goldenrod             False   \n",
       "4  1GYUCGEF4AR632425    Mazda    1996.0     Purple             False   \n",
       "\n",
       "   car_make_isnull  \n",
       "0            False  \n",
       "1            False  \n",
       "2             True  \n",
       "3            False  \n",
       "4            False  "
      ]
     },
     "execution_count": 51,
     "metadata": {},
     "output_type": "execute_result"
    }
   ],
   "source": [
    "cars.head()"
   ]
  },
  {
   "cell_type": "code",
   "execution_count": 52,
   "metadata": {},
   "outputs": [
    {
     "data": {
      "text/plain": [
       "0.0852"
      ]
     },
     "execution_count": 52,
     "metadata": {},
     "output_type": "execute_result"
    }
   ],
   "source": [
    "cars.car_make_isnull.mean()"
   ]
  },
  {
   "cell_type": "code",
   "execution_count": 53,
   "metadata": {},
   "outputs": [
    {
     "data": {
      "image/png": "[encoded data removed]",
      "text/plain": [
       "<Figure size 700x500 with 1 Axes>"
      ]
     },
     "metadata": {},
     "output_type": "display_data"
    }
   ],
   "source": [
    "emp_distributions = (\n",
    "    cars\n",
    "    .pivot_table(columns='car_make_isnull', index='car_color', values=None, aggfunc='size')\n",
    "    .fillna(0)\n",
    "    .apply(lambda x:x/x.sum())\n",
    ")\n",
    "\n",
    "emp_distributions.plot(kind='bar', title='distribution of car colors');\n",
    "# are these distributions the same?\n",
    "# is there a pattern when car make is missing based on the color? certain colors\n",
    "# missing more often?"
   ]
  },
  {
   "cell_type": "code",
   "execution_count": 54,
   "metadata": {},
   "outputs": [
    {
     "data": {
      "text/plain": [
       "0.0948482140693964"
      ]
     },
     "execution_count": 54,
     "metadata": {},
     "output_type": "execute_result"
    }
   ],
   "source": [
    "observed_tvd = np.sum(np.abs(emp_distributions.diff(axis=1).iloc[:,-1])) / 2\n",
    "observed_tvd"
   ]
  },
  {
   "cell_type": "code",
   "execution_count": 55,
   "metadata": {},
   "outputs": [],
   "source": [
    "n_repetitions = 500\n",
    "\n",
    "car_make_color = cars.copy()[['car_color', 'car_make_isnull']]\n",
    "tvds = []\n",
    "for _ in range(n_repetitions):\n",
    "    \n",
    "    # shuffle the colors\n",
    "    shuffled_colors = (\n",
    "        car_make_color['car_color']\n",
    "        .sample(replace=False, frac=1)\n",
    "        .reset_index(drop=True)\n",
    "    )\n",
    "    \n",
    "    # put them in a table\n",
    "    shuffled = (\n",
    "        car_make_color\n",
    "        .assign(**{'Shuffled Color': shuffled_colors})\n",
    "    )\n",
    "    \n",
    "    # compute the tvd\n",
    "    shuffed_emp_distributions = (\n",
    "        shuffled\n",
    "        .pivot_table(columns='car_make_isnull', index='Shuffled Color', values=None, aggfunc='size')\n",
    "        .fillna(0)\n",
    "        .apply(lambda x:x/x.sum())\n",
    "    )\n",
    "    \n",
    "    tvd = np.sum(np.abs(shuffed_emp_distributions.diff(axis=1).iloc[:,-1])) / 2\n",
    "    # add it to the list of results\n",
    "    \n",
    "    tvds.append(tvd)"
   ]
  },
  {
   "cell_type": "code",
   "execution_count": 56,
   "metadata": {},
   "outputs": [
    {
     "data": {
      "image/png": "[encoded data removed]",
      "text/plain": [
       "<Figure size 700x500 with 1 Axes>"
      ]
     },
     "metadata": {},
     "output_type": "display_data"
    }
   ],
   "source": [
    "#: visualize\n",
    "pd.Series(tvds).plot(kind='hist', density=True, alpha=0.8)\n",
    "plt.scatter(observed_tvd, 0, color='red', s=40);\n",
    "# no dependency\n"
   ]
  },
  {
   "cell_type": "markdown",
   "metadata": {},
   "source": [
    "### Example: assessing missingness in payments data\n",
    "\n",
    "* Payment information for purchases: credit card type, credit card number, date of birth.\n",
    "* Is the credit card number missing at random dependent on the type of card?"
   ]
  },
  {
   "cell_type": "code",
   "execution_count": null,
   "metadata": {},
   "outputs": [],
   "source": [
    "payments = pd.read_csv('payment.csv')\n",
    "payments['cc_isnull'] = payments.credit_card_number.isnull()"
   ]
  },
  {
   "cell_type": "code",
   "execution_count": null,
   "metadata": {},
   "outputs": [],
   "source": [
    "payments.head()"
   ]
  },
  {
   "cell_type": "code",
   "execution_count": null,
   "metadata": {},
   "outputs": [],
   "source": [
    "emp_distributions = (\n",
    "    payments\n",
    "    .pivot_table(columns='cc_isnull', index='credit_card_type', aggfunc='size')\n",
    "    .fillna(0)\n",
    "    .apply(lambda x:x / x.sum())\n",
    ")\n",
    "\n",
    "emp_distributions.plot(kind='bar', title='distribution of card types');"
   ]
  },
  {
   "cell_type": "code",
   "execution_count": null,
   "metadata": {},
   "outputs": [],
   "source": [
    "observed_tvd = np.sum(np.abs(emp_distributions.diff(axis=1).iloc[:,-1])) / 2\n",
    "observed_tvd"
   ]
  },
  {
   "cell_type": "code",
   "execution_count": null,
   "metadata": {},
   "outputs": [],
   "source": [
    "n_repetitions = 500\n",
    "\n",
    "payments_type = payments.copy()[['credit_card_type', 'cc_isnull']]\n",
    "tvds = []\n",
    "for _ in range(n_repetitions):\n",
    "    \n",
    "    # shuffle the colors\n",
    "    shuffled_types = (\n",
    "        payments_type['credit_card_type']\n",
    "        .sample(replace=False, frac=1)\n",
    "        .reset_index(drop=True)\n",
    "    )\n",
    "    \n",
    "    # put them in a table\n",
    "    shuffled = (\n",
    "        payments_type\n",
    "        .assign(**{'Shuffled Types': shuffled_types})\n",
    "    )\n",
    "    \n",
    "    # compute the tvd\n",
    "    shuffed_emp_distributions = (\n",
    "        shuffled\n",
    "        .pivot_table(columns='cc_isnull', index='Shuffled Types', values=None, aggfunc='size')\n",
    "        .fillna(0)\n",
    "        .apply(lambda x:x/x.sum())\n",
    "    )\n",
    "    \n",
    "    tvd = np.sum(np.abs(shuffed_emp_distributions.diff(axis=1).iloc[:,-1])) / 2\n",
    "    # add it to the list of results\n",
    "    \n",
    "    tvds.append(tvd)"
   ]
  },
  {
   "cell_type": "markdown",
   "metadata": {},
   "source": [
    "### Example: assessing missingness in payments data\n",
    "\n",
    "* Is the credit card number missing at random dependent on the type of card?\n",
    "* As always, set significance level **beforehand**:\n",
    "    - How important is the column in the modeling process?\n",
    "    - How many null values are there?\n",
    "* Consideration: how important is a faithful imputation?"
   ]
  },
  {
   "cell_type": "code",
   "execution_count": null,
   "metadata": {},
   "outputs": [],
   "source": [
    "#: visualize\n",
    "pd.Series(tvds).plot(kind='hist', density=True, alpha=0.8)\n",
    "plt.scatter(observed_tvd, 0, color='red', s=40);"
   ]
  },
  {
   "cell_type": "code",
   "execution_count": null,
   "metadata": {},
   "outputs": [],
   "source": [
    "# p-value\n",
    "np.count_nonzero(tvds <= observed_tvd) / len(tvds)"
   ]
  },
  {
   "cell_type": "markdown",
   "metadata": {},
   "source": [
    "### Example: assessing missingness in payments data\n",
    "\n",
    "* Is the credit card number missing at random dependent on the age of shopper?\n",
    "* For quantitative distributions, we've compared means of two groups."
   ]
  },
  {
   "cell_type": "code",
   "execution_count": null,
   "metadata": {},
   "outputs": [],
   "source": [
    "payments['date_of_birth'] = pd.to_datetime(payments.date_of_birth)\n",
    "payments['age'] = (2019 - payments.date_of_birth.dt.year)"
   ]
  },
  {
   "cell_type": "code",
   "execution_count": null,
   "metadata": {},
   "outputs": [],
   "source": [
    "# are the distributions similar?\n",
    "# Where are the differences? Are they noise, or real?\n",
    "payments.groupby('cc_isnull').age.plot(kind='kde', title='distribution of ages by missingness of CC', legend=True);"
   ]
  },
  {
   "cell_type": "code",
   "execution_count": null,
   "metadata": {},
   "outputs": [],
   "source": [
    "# Run a permutation test\n",
    "observed_difference, differences = run_perm_test_mean(payments, 'cc_isnull', 'age')"
   ]
  },
  {
   "cell_type": "code",
   "execution_count": null,
   "metadata": {},
   "outputs": [],
   "source": [
    "#: visualize\n",
    "pd.Series(differences).plot(kind='hist', density=True, alpha=0.8)\n",
    "plt.scatter(observed_difference, 0, color='red', s=40);"
   ]
  },
  {
   "cell_type": "code",
   "execution_count": null,
   "metadata": {},
   "outputs": [],
   "source": [
    "# p-value\n",
    "np.count_nonzero(differences <= observed_difference) / len(differences)"
   ]
  },
  {
   "cell_type": "markdown",
   "metadata": {},
   "source": [
    "### Example: assessing missingness in payments data\n",
    "\n",
    "* Is the credit card number missing at random dependent on the age of shopper?\n",
    "* The two distributions \"look different\", but have similar means.\n",
    "    - Means may be too coarse a statistic\n",
    "    - Need a different metric for quantitative distributions"
   ]
  },
  {
   "cell_type": "code",
   "execution_count": null,
   "metadata": {},
   "outputs": [],
   "source": [
    "payments.groupby('cc_isnull').age.plot(kind='kde', title='distribution of ages by missingness of CC', legend=True);"
   ]
  },
  {
   "cell_type": "code",
   "execution_count": null,
   "metadata": {},
   "outputs": [],
   "source": [
    "plot_pdf_cdf(payments);"
   ]
  },
  {
   "cell_type": "code",
   "execution_count": null,
   "metadata": {},
   "outputs": [],
   "source": [
    "observed_ks, _ = ks_2samp(\n",
    "    payments.loc[payments['cc_isnull'], 'age'],\n",
    "    payments.loc[~payments['cc_isnull'], 'age']\n",
    ")"
   ]
  },
  {
   "cell_type": "code",
   "execution_count": null,
   "metadata": {},
   "outputs": [],
   "source": [
    "observed_ks"
   ]
  },
  {
   "cell_type": "code",
   "execution_count": null,
   "metadata": {},
   "outputs": [],
   "source": [
    "n_repetitions = 500\n",
    "\n",
    "kslist = []\n",
    "for _ in range(n_repetitions):\n",
    "    \n",
    "    # shuffle the ages\n",
    "    shuffled_age = (\n",
    "        payments['age']\n",
    "        .sample(replace=False, frac=1)\n",
    "        .reset_index(drop=True)\n",
    "    )\n",
    "    \n",
    "    # \n",
    "    shuffled = (\n",
    "        payments\n",
    "        .assign(**{'Shuffled Age': shuffled_age})\n",
    "    )\n",
    "\n",
    "    ks, _ = ks_2samp(\n",
    "        shuffled.loc[shuffled['cc_isnull'], 'Shuffled Age'],\n",
    "        shuffled.loc[~shuffled['cc_isnull'], 'Shuffled Age']\n",
    "    )\n",
    "    \n",
    "    # add it to the list of results\n",
    "    kslist.append(ks)"
   ]
  },
  {
   "cell_type": "code",
   "execution_count": null,
   "metadata": {},
   "outputs": [],
   "source": [
    "pd.Series(kslist).plot(kind='hist', density=True, alpha=0.8)\n",
    "plt.scatter(observed_ks, 0, color='red', s=40);"
   ]
  },
  {
   "cell_type": "code",
   "execution_count": null,
   "metadata": {},
   "outputs": [],
   "source": [
    "# p-value\n",
    "np.count_nonzero(kslist >= observed_ks) / len(kslist)"
   ]
  },
  {
   "cell_type": "code",
   "execution_count": null,
   "metadata": {},
   "outputs": [],
   "source": [
    "r = np.random.normal(size=100)\n",
    "r"
   ]
  },
  {
   "cell_type": "code",
   "execution_count": null,
   "metadata": {},
   "outputs": [],
   "source": []
  },
  {
   "cell_type": "code",
   "execution_count": null,
   "metadata": {},
   "outputs": [],
   "source": []
  },
  {
   "cell_type": "code",
   "execution_count": null,
   "metadata": {},
   "outputs": [],
   "source": []
  }
 ],
 "metadata": {
  "celltoolbar": "Slideshow",
  "kernelspec": {
   "display_name": "Python 3",
   "language": "python",
   "name": "python3"
  },
  "language_info": {
   "codemirror_mode": {
    "name": "ipython",
    "version": 3
   },
   "file_extension": ".py",
   "mimetype": "text/x-python",
   "name": "python",
   "nbconvert_exporter": "python",
   "pygments_lexer": "ipython3",
   "version": "3.7.4"
  },
  "livereveal": {
   "scroll": true,
   "transition": "none"
  }
 },
 "nbformat": 4,
 "nbformat_minor": 2
}
